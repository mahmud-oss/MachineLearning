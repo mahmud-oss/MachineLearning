{
 "cells": [
  {
   "cell_type": "markdown",
   "metadata": {},
   "source": [
    "<p><b>Mnist-fashion</b> dataset</p> "
   ]
  },
  {
   "cell_type": "code",
   "execution_count": 1,
   "metadata": {},
   "outputs": [],
   "source": [
    "from sklearn.datasets import fetch_openml\n",
    "fashion_mnist=fetch_openml(data_id=40996,as_frame=True)"
   ]
  },
  {
   "cell_type": "code",
   "execution_count": 2,
   "metadata": {},
   "outputs": [
    {
     "data": {
      "text/plain": [
       "sklearn.utils.Bunch"
      ]
     },
     "execution_count": 2,
     "metadata": {},
     "output_type": "execute_result"
    }
   ],
   "source": [
    "type(fashion_mnist)"
   ]
  },
  {
   "cell_type": "code",
   "execution_count": 3,
   "metadata": {},
   "outputs": [],
   "source": [
    "import pandas as pd\n",
    "df=pd.DataFrame(\n",
    "    fashion_mnist.data,\n",
    "    columns=fashion_mnist.feature_names\n",
    ")"
   ]
  },
  {
   "cell_type": "code",
   "execution_count": 4,
   "metadata": {},
   "outputs": [
    {
     "data": {
      "text/html": [
       "<div>\n",
       "<style scoped>\n",
       "    .dataframe tbody tr th:only-of-type {\n",
       "        vertical-align: middle;\n",
       "    }\n",
       "\n",
       "    .dataframe tbody tr th {\n",
       "        vertical-align: top;\n",
       "    }\n",
       "\n",
       "    .dataframe thead th {\n",
       "        text-align: right;\n",
       "    }\n",
       "</style>\n",
       "<table border=\"1\" class=\"dataframe\">\n",
       "  <thead>\n",
       "    <tr style=\"text-align: right;\">\n",
       "      <th></th>\n",
       "      <th>pixel1</th>\n",
       "      <th>pixel2</th>\n",
       "      <th>pixel3</th>\n",
       "      <th>pixel4</th>\n",
       "      <th>pixel5</th>\n",
       "      <th>pixel6</th>\n",
       "      <th>pixel7</th>\n",
       "      <th>pixel8</th>\n",
       "      <th>pixel9</th>\n",
       "      <th>pixel10</th>\n",
       "      <th>...</th>\n",
       "      <th>pixel775</th>\n",
       "      <th>pixel776</th>\n",
       "      <th>pixel777</th>\n",
       "      <th>pixel778</th>\n",
       "      <th>pixel779</th>\n",
       "      <th>pixel780</th>\n",
       "      <th>pixel781</th>\n",
       "      <th>pixel782</th>\n",
       "      <th>pixel783</th>\n",
       "      <th>pixel784</th>\n",
       "    </tr>\n",
       "  </thead>\n",
       "  <tbody>\n",
       "    <tr>\n",
       "      <th>0</th>\n",
       "      <td>0.0</td>\n",
       "      <td>0.0</td>\n",
       "      <td>0.0</td>\n",
       "      <td>0.0</td>\n",
       "      <td>0.0</td>\n",
       "      <td>0.0</td>\n",
       "      <td>0.0</td>\n",
       "      <td>0.0</td>\n",
       "      <td>0.0</td>\n",
       "      <td>0.0</td>\n",
       "      <td>...</td>\n",
       "      <td>0.0</td>\n",
       "      <td>0.0</td>\n",
       "      <td>0.0</td>\n",
       "      <td>0.0</td>\n",
       "      <td>0.0</td>\n",
       "      <td>0.0</td>\n",
       "      <td>0.0</td>\n",
       "      <td>0.0</td>\n",
       "      <td>0.0</td>\n",
       "      <td>0.0</td>\n",
       "    </tr>\n",
       "    <tr>\n",
       "      <th>1</th>\n",
       "      <td>0.0</td>\n",
       "      <td>0.0</td>\n",
       "      <td>0.0</td>\n",
       "      <td>0.0</td>\n",
       "      <td>0.0</td>\n",
       "      <td>1.0</td>\n",
       "      <td>0.0</td>\n",
       "      <td>0.0</td>\n",
       "      <td>0.0</td>\n",
       "      <td>0.0</td>\n",
       "      <td>...</td>\n",
       "      <td>119.0</td>\n",
       "      <td>114.0</td>\n",
       "      <td>130.0</td>\n",
       "      <td>76.0</td>\n",
       "      <td>0.0</td>\n",
       "      <td>0.0</td>\n",
       "      <td>0.0</td>\n",
       "      <td>0.0</td>\n",
       "      <td>0.0</td>\n",
       "      <td>0.0</td>\n",
       "    </tr>\n",
       "    <tr>\n",
       "      <th>2</th>\n",
       "      <td>0.0</td>\n",
       "      <td>0.0</td>\n",
       "      <td>0.0</td>\n",
       "      <td>0.0</td>\n",
       "      <td>0.0</td>\n",
       "      <td>0.0</td>\n",
       "      <td>0.0</td>\n",
       "      <td>0.0</td>\n",
       "      <td>0.0</td>\n",
       "      <td>22.0</td>\n",
       "      <td>...</td>\n",
       "      <td>0.0</td>\n",
       "      <td>0.0</td>\n",
       "      <td>1.0</td>\n",
       "      <td>0.0</td>\n",
       "      <td>0.0</td>\n",
       "      <td>0.0</td>\n",
       "      <td>0.0</td>\n",
       "      <td>0.0</td>\n",
       "      <td>0.0</td>\n",
       "      <td>0.0</td>\n",
       "    </tr>\n",
       "    <tr>\n",
       "      <th>3</th>\n",
       "      <td>0.0</td>\n",
       "      <td>0.0</td>\n",
       "      <td>0.0</td>\n",
       "      <td>0.0</td>\n",
       "      <td>0.0</td>\n",
       "      <td>0.0</td>\n",
       "      <td>0.0</td>\n",
       "      <td>0.0</td>\n",
       "      <td>33.0</td>\n",
       "      <td>96.0</td>\n",
       "      <td>...</td>\n",
       "      <td>0.0</td>\n",
       "      <td>0.0</td>\n",
       "      <td>0.0</td>\n",
       "      <td>0.0</td>\n",
       "      <td>0.0</td>\n",
       "      <td>0.0</td>\n",
       "      <td>0.0</td>\n",
       "      <td>0.0</td>\n",
       "      <td>0.0</td>\n",
       "      <td>0.0</td>\n",
       "    </tr>\n",
       "    <tr>\n",
       "      <th>4</th>\n",
       "      <td>0.0</td>\n",
       "      <td>0.0</td>\n",
       "      <td>0.0</td>\n",
       "      <td>0.0</td>\n",
       "      <td>0.0</td>\n",
       "      <td>0.0</td>\n",
       "      <td>0.0</td>\n",
       "      <td>0.0</td>\n",
       "      <td>0.0</td>\n",
       "      <td>0.0</td>\n",
       "      <td>...</td>\n",
       "      <td>0.0</td>\n",
       "      <td>0.0</td>\n",
       "      <td>0.0</td>\n",
       "      <td>0.0</td>\n",
       "      <td>0.0</td>\n",
       "      <td>0.0</td>\n",
       "      <td>0.0</td>\n",
       "      <td>0.0</td>\n",
       "      <td>0.0</td>\n",
       "      <td>0.0</td>\n",
       "    </tr>\n",
       "  </tbody>\n",
       "</table>\n",
       "<p>5 rows × 784 columns</p>\n",
       "</div>"
      ],
      "text/plain": [
       "   pixel1  pixel2  pixel3  pixel4  pixel5  pixel6  pixel7  pixel8  pixel9  \\\n",
       "0     0.0     0.0     0.0     0.0     0.0     0.0     0.0     0.0     0.0   \n",
       "1     0.0     0.0     0.0     0.0     0.0     1.0     0.0     0.0     0.0   \n",
       "2     0.0     0.0     0.0     0.0     0.0     0.0     0.0     0.0     0.0   \n",
       "3     0.0     0.0     0.0     0.0     0.0     0.0     0.0     0.0    33.0   \n",
       "4     0.0     0.0     0.0     0.0     0.0     0.0     0.0     0.0     0.0   \n",
       "\n",
       "   pixel10  ...  pixel775  pixel776  pixel777  pixel778  pixel779  pixel780  \\\n",
       "0      0.0  ...       0.0       0.0       0.0       0.0       0.0       0.0   \n",
       "1      0.0  ...     119.0     114.0     130.0      76.0       0.0       0.0   \n",
       "2     22.0  ...       0.0       0.0       1.0       0.0       0.0       0.0   \n",
       "3     96.0  ...       0.0       0.0       0.0       0.0       0.0       0.0   \n",
       "4      0.0  ...       0.0       0.0       0.0       0.0       0.0       0.0   \n",
       "\n",
       "   pixel781  pixel782  pixel783  pixel784  \n",
       "0       0.0       0.0       0.0       0.0  \n",
       "1       0.0       0.0       0.0       0.0  \n",
       "2       0.0       0.0       0.0       0.0  \n",
       "3       0.0       0.0       0.0       0.0  \n",
       "4       0.0       0.0       0.0       0.0  \n",
       "\n",
       "[5 rows x 784 columns]"
      ]
     },
     "execution_count": 4,
     "metadata": {},
     "output_type": "execute_result"
    }
   ],
   "source": [
    "df.head()"
   ]
  },
  {
   "cell_type": "code",
   "execution_count": 5,
   "metadata": {},
   "outputs": [
    {
     "data": {
      "text/plain": [
       "(70000, 784)"
      ]
     },
     "execution_count": 5,
     "metadata": {},
     "output_type": "execute_result"
    }
   ],
   "source": [
    "df.shape"
   ]
  },
  {
   "cell_type": "code",
   "execution_count": 6,
   "metadata": {},
   "outputs": [],
   "source": [
    "df['target']=fashion_mnist.target"
   ]
  },
  {
   "cell_type": "code",
   "execution_count": 7,
   "metadata": {},
   "outputs": [
    {
     "data": {
      "text/html": [
       "<div>\n",
       "<style scoped>\n",
       "    .dataframe tbody tr th:only-of-type {\n",
       "        vertical-align: middle;\n",
       "    }\n",
       "\n",
       "    .dataframe tbody tr th {\n",
       "        vertical-align: top;\n",
       "    }\n",
       "\n",
       "    .dataframe thead th {\n",
       "        text-align: right;\n",
       "    }\n",
       "</style>\n",
       "<table border=\"1\" class=\"dataframe\">\n",
       "  <thead>\n",
       "    <tr style=\"text-align: right;\">\n",
       "      <th></th>\n",
       "      <th>pixel1</th>\n",
       "      <th>pixel2</th>\n",
       "      <th>pixel3</th>\n",
       "      <th>pixel4</th>\n",
       "      <th>pixel5</th>\n",
       "      <th>pixel6</th>\n",
       "      <th>pixel7</th>\n",
       "      <th>pixel8</th>\n",
       "      <th>pixel9</th>\n",
       "      <th>pixel10</th>\n",
       "      <th>...</th>\n",
       "      <th>pixel776</th>\n",
       "      <th>pixel777</th>\n",
       "      <th>pixel778</th>\n",
       "      <th>pixel779</th>\n",
       "      <th>pixel780</th>\n",
       "      <th>pixel781</th>\n",
       "      <th>pixel782</th>\n",
       "      <th>pixel783</th>\n",
       "      <th>pixel784</th>\n",
       "      <th>target</th>\n",
       "    </tr>\n",
       "  </thead>\n",
       "  <tbody>\n",
       "    <tr>\n",
       "      <th>0</th>\n",
       "      <td>0.0</td>\n",
       "      <td>0.0</td>\n",
       "      <td>0.0</td>\n",
       "      <td>0.0</td>\n",
       "      <td>0.0</td>\n",
       "      <td>0.0</td>\n",
       "      <td>0.0</td>\n",
       "      <td>0.0</td>\n",
       "      <td>0.0</td>\n",
       "      <td>0.0</td>\n",
       "      <td>...</td>\n",
       "      <td>0.0</td>\n",
       "      <td>0.0</td>\n",
       "      <td>0.0</td>\n",
       "      <td>0.0</td>\n",
       "      <td>0.0</td>\n",
       "      <td>0.0</td>\n",
       "      <td>0.0</td>\n",
       "      <td>0.0</td>\n",
       "      <td>0.0</td>\n",
       "      <td>9</td>\n",
       "    </tr>\n",
       "    <tr>\n",
       "      <th>1</th>\n",
       "      <td>0.0</td>\n",
       "      <td>0.0</td>\n",
       "      <td>0.0</td>\n",
       "      <td>0.0</td>\n",
       "      <td>0.0</td>\n",
       "      <td>1.0</td>\n",
       "      <td>0.0</td>\n",
       "      <td>0.0</td>\n",
       "      <td>0.0</td>\n",
       "      <td>0.0</td>\n",
       "      <td>...</td>\n",
       "      <td>114.0</td>\n",
       "      <td>130.0</td>\n",
       "      <td>76.0</td>\n",
       "      <td>0.0</td>\n",
       "      <td>0.0</td>\n",
       "      <td>0.0</td>\n",
       "      <td>0.0</td>\n",
       "      <td>0.0</td>\n",
       "      <td>0.0</td>\n",
       "      <td>0</td>\n",
       "    </tr>\n",
       "    <tr>\n",
       "      <th>2</th>\n",
       "      <td>0.0</td>\n",
       "      <td>0.0</td>\n",
       "      <td>0.0</td>\n",
       "      <td>0.0</td>\n",
       "      <td>0.0</td>\n",
       "      <td>0.0</td>\n",
       "      <td>0.0</td>\n",
       "      <td>0.0</td>\n",
       "      <td>0.0</td>\n",
       "      <td>22.0</td>\n",
       "      <td>...</td>\n",
       "      <td>0.0</td>\n",
       "      <td>1.0</td>\n",
       "      <td>0.0</td>\n",
       "      <td>0.0</td>\n",
       "      <td>0.0</td>\n",
       "      <td>0.0</td>\n",
       "      <td>0.0</td>\n",
       "      <td>0.0</td>\n",
       "      <td>0.0</td>\n",
       "      <td>0</td>\n",
       "    </tr>\n",
       "    <tr>\n",
       "      <th>3</th>\n",
       "      <td>0.0</td>\n",
       "      <td>0.0</td>\n",
       "      <td>0.0</td>\n",
       "      <td>0.0</td>\n",
       "      <td>0.0</td>\n",
       "      <td>0.0</td>\n",
       "      <td>0.0</td>\n",
       "      <td>0.0</td>\n",
       "      <td>33.0</td>\n",
       "      <td>96.0</td>\n",
       "      <td>...</td>\n",
       "      <td>0.0</td>\n",
       "      <td>0.0</td>\n",
       "      <td>0.0</td>\n",
       "      <td>0.0</td>\n",
       "      <td>0.0</td>\n",
       "      <td>0.0</td>\n",
       "      <td>0.0</td>\n",
       "      <td>0.0</td>\n",
       "      <td>0.0</td>\n",
       "      <td>3</td>\n",
       "    </tr>\n",
       "    <tr>\n",
       "      <th>4</th>\n",
       "      <td>0.0</td>\n",
       "      <td>0.0</td>\n",
       "      <td>0.0</td>\n",
       "      <td>0.0</td>\n",
       "      <td>0.0</td>\n",
       "      <td>0.0</td>\n",
       "      <td>0.0</td>\n",
       "      <td>0.0</td>\n",
       "      <td>0.0</td>\n",
       "      <td>0.0</td>\n",
       "      <td>...</td>\n",
       "      <td>0.0</td>\n",
       "      <td>0.0</td>\n",
       "      <td>0.0</td>\n",
       "      <td>0.0</td>\n",
       "      <td>0.0</td>\n",
       "      <td>0.0</td>\n",
       "      <td>0.0</td>\n",
       "      <td>0.0</td>\n",
       "      <td>0.0</td>\n",
       "      <td>0</td>\n",
       "    </tr>\n",
       "  </tbody>\n",
       "</table>\n",
       "<p>5 rows × 785 columns</p>\n",
       "</div>"
      ],
      "text/plain": [
       "   pixel1  pixel2  pixel3  pixel4  pixel5  pixel6  pixel7  pixel8  pixel9  \\\n",
       "0     0.0     0.0     0.0     0.0     0.0     0.0     0.0     0.0     0.0   \n",
       "1     0.0     0.0     0.0     0.0     0.0     1.0     0.0     0.0     0.0   \n",
       "2     0.0     0.0     0.0     0.0     0.0     0.0     0.0     0.0     0.0   \n",
       "3     0.0     0.0     0.0     0.0     0.0     0.0     0.0     0.0    33.0   \n",
       "4     0.0     0.0     0.0     0.0     0.0     0.0     0.0     0.0     0.0   \n",
       "\n",
       "   pixel10  ...  pixel776  pixel777  pixel778  pixel779  pixel780  pixel781  \\\n",
       "0      0.0  ...       0.0       0.0       0.0       0.0       0.0       0.0   \n",
       "1      0.0  ...     114.0     130.0      76.0       0.0       0.0       0.0   \n",
       "2     22.0  ...       0.0       1.0       0.0       0.0       0.0       0.0   \n",
       "3     96.0  ...       0.0       0.0       0.0       0.0       0.0       0.0   \n",
       "4      0.0  ...       0.0       0.0       0.0       0.0       0.0       0.0   \n",
       "\n",
       "   pixel782  pixel783  pixel784  target  \n",
       "0       0.0       0.0       0.0       9  \n",
       "1       0.0       0.0       0.0       0  \n",
       "2       0.0       0.0       0.0       0  \n",
       "3       0.0       0.0       0.0       3  \n",
       "4       0.0       0.0       0.0       0  \n",
       "\n",
       "[5 rows x 785 columns]"
      ]
     },
     "execution_count": 7,
     "metadata": {},
     "output_type": "execute_result"
    }
   ],
   "source": [
    "df.head()"
   ]
  },
  {
   "cell_type": "code",
   "execution_count": 8,
   "metadata": {},
   "outputs": [],
   "source": [
    "labels_s = '0 T-shirt/top \\n1 Trouser \\n2 Pullover \\n3 Dress \\n4 Coat \\n5 Sandal \\n6 Shirt \\n7 Sneaker \\n8 Bag \\n9 Ankle boot'\n",
    "fashion_label_translation = {int(k): v for k, v in [item.split(maxsplit=1) for item in labels_s.split('\\n')]}\n",
    "def translate_label(y, translation=fashion_label_translation):\n",
    "    return pd.Series(y).apply(lambda y: translation[int(y)]).values"
   ]
  },
  {
   "cell_type": "code",
   "execution_count": 9,
   "metadata": {},
   "outputs": [],
   "source": [
    "def display_fashion(img, target, ax):\n",
    "    if len(img.shape):\n",
    "        w = int(np.sqrt(img.shape[0]))\n",
    "        img = img.reshape((w, w))\n",
    "    ax.imshow(img, cmap='Greys')\n",
    "    ax.set_title(f'{target}')\n",
    "    ax.grid(False)"
   ]
  },
  {
   "cell_type": "markdown",
   "metadata": {},
   "source": [
    "start"
   ]
  },
  {
   "cell_type": "code",
   "execution_count": 10,
   "metadata": {},
   "outputs": [],
   "source": [
    "from sklearn.model_selection import train_test_split"
   ]
  },
  {
   "cell_type": "code",
   "execution_count": 11,
   "metadata": {},
   "outputs": [
    {
     "data": {
      "text/html": [
       "<div>\n",
       "<style scoped>\n",
       "    .dataframe tbody tr th:only-of-type {\n",
       "        vertical-align: middle;\n",
       "    }\n",
       "\n",
       "    .dataframe tbody tr th {\n",
       "        vertical-align: top;\n",
       "    }\n",
       "\n",
       "    .dataframe thead th {\n",
       "        text-align: right;\n",
       "    }\n",
       "</style>\n",
       "<table border=\"1\" class=\"dataframe\">\n",
       "  <thead>\n",
       "    <tr style=\"text-align: right;\">\n",
       "      <th></th>\n",
       "      <th>pixel1</th>\n",
       "      <th>pixel2</th>\n",
       "      <th>pixel3</th>\n",
       "      <th>pixel4</th>\n",
       "      <th>pixel5</th>\n",
       "      <th>pixel6</th>\n",
       "      <th>pixel7</th>\n",
       "      <th>pixel8</th>\n",
       "      <th>pixel9</th>\n",
       "      <th>pixel10</th>\n",
       "      <th>...</th>\n",
       "      <th>pixel775</th>\n",
       "      <th>pixel776</th>\n",
       "      <th>pixel777</th>\n",
       "      <th>pixel778</th>\n",
       "      <th>pixel779</th>\n",
       "      <th>pixel780</th>\n",
       "      <th>pixel781</th>\n",
       "      <th>pixel782</th>\n",
       "      <th>pixel783</th>\n",
       "      <th>pixel784</th>\n",
       "    </tr>\n",
       "  </thead>\n",
       "  <tbody>\n",
       "    <tr>\n",
       "      <th>0</th>\n",
       "      <td>0.0</td>\n",
       "      <td>0.0</td>\n",
       "      <td>0.0</td>\n",
       "      <td>0.0</td>\n",
       "      <td>0.0</td>\n",
       "      <td>0.0</td>\n",
       "      <td>0.0</td>\n",
       "      <td>0.0</td>\n",
       "      <td>0.0</td>\n",
       "      <td>0.0</td>\n",
       "      <td>...</td>\n",
       "      <td>0.0</td>\n",
       "      <td>0.0</td>\n",
       "      <td>0.0</td>\n",
       "      <td>0.0</td>\n",
       "      <td>0.0</td>\n",
       "      <td>0.0</td>\n",
       "      <td>0.0</td>\n",
       "      <td>0.0</td>\n",
       "      <td>0.0</td>\n",
       "      <td>0.0</td>\n",
       "    </tr>\n",
       "    <tr>\n",
       "      <th>1</th>\n",
       "      <td>0.0</td>\n",
       "      <td>0.0</td>\n",
       "      <td>0.0</td>\n",
       "      <td>0.0</td>\n",
       "      <td>0.0</td>\n",
       "      <td>1.0</td>\n",
       "      <td>0.0</td>\n",
       "      <td>0.0</td>\n",
       "      <td>0.0</td>\n",
       "      <td>0.0</td>\n",
       "      <td>...</td>\n",
       "      <td>119.0</td>\n",
       "      <td>114.0</td>\n",
       "      <td>130.0</td>\n",
       "      <td>76.0</td>\n",
       "      <td>0.0</td>\n",
       "      <td>0.0</td>\n",
       "      <td>0.0</td>\n",
       "      <td>0.0</td>\n",
       "      <td>0.0</td>\n",
       "      <td>0.0</td>\n",
       "    </tr>\n",
       "    <tr>\n",
       "      <th>2</th>\n",
       "      <td>0.0</td>\n",
       "      <td>0.0</td>\n",
       "      <td>0.0</td>\n",
       "      <td>0.0</td>\n",
       "      <td>0.0</td>\n",
       "      <td>0.0</td>\n",
       "      <td>0.0</td>\n",
       "      <td>0.0</td>\n",
       "      <td>0.0</td>\n",
       "      <td>22.0</td>\n",
       "      <td>...</td>\n",
       "      <td>0.0</td>\n",
       "      <td>0.0</td>\n",
       "      <td>1.0</td>\n",
       "      <td>0.0</td>\n",
       "      <td>0.0</td>\n",
       "      <td>0.0</td>\n",
       "      <td>0.0</td>\n",
       "      <td>0.0</td>\n",
       "      <td>0.0</td>\n",
       "      <td>0.0</td>\n",
       "    </tr>\n",
       "    <tr>\n",
       "      <th>3</th>\n",
       "      <td>0.0</td>\n",
       "      <td>0.0</td>\n",
       "      <td>0.0</td>\n",
       "      <td>0.0</td>\n",
       "      <td>0.0</td>\n",
       "      <td>0.0</td>\n",
       "      <td>0.0</td>\n",
       "      <td>0.0</td>\n",
       "      <td>33.0</td>\n",
       "      <td>96.0</td>\n",
       "      <td>...</td>\n",
       "      <td>0.0</td>\n",
       "      <td>0.0</td>\n",
       "      <td>0.0</td>\n",
       "      <td>0.0</td>\n",
       "      <td>0.0</td>\n",
       "      <td>0.0</td>\n",
       "      <td>0.0</td>\n",
       "      <td>0.0</td>\n",
       "      <td>0.0</td>\n",
       "      <td>0.0</td>\n",
       "    </tr>\n",
       "    <tr>\n",
       "      <th>4</th>\n",
       "      <td>0.0</td>\n",
       "      <td>0.0</td>\n",
       "      <td>0.0</td>\n",
       "      <td>0.0</td>\n",
       "      <td>0.0</td>\n",
       "      <td>0.0</td>\n",
       "      <td>0.0</td>\n",
       "      <td>0.0</td>\n",
       "      <td>0.0</td>\n",
       "      <td>0.0</td>\n",
       "      <td>...</td>\n",
       "      <td>0.0</td>\n",
       "      <td>0.0</td>\n",
       "      <td>0.0</td>\n",
       "      <td>0.0</td>\n",
       "      <td>0.0</td>\n",
       "      <td>0.0</td>\n",
       "      <td>0.0</td>\n",
       "      <td>0.0</td>\n",
       "      <td>0.0</td>\n",
       "      <td>0.0</td>\n",
       "    </tr>\n",
       "    <tr>\n",
       "      <th>...</th>\n",
       "      <td>...</td>\n",
       "      <td>...</td>\n",
       "      <td>...</td>\n",
       "      <td>...</td>\n",
       "      <td>...</td>\n",
       "      <td>...</td>\n",
       "      <td>...</td>\n",
       "      <td>...</td>\n",
       "      <td>...</td>\n",
       "      <td>...</td>\n",
       "      <td>...</td>\n",
       "      <td>...</td>\n",
       "      <td>...</td>\n",
       "      <td>...</td>\n",
       "      <td>...</td>\n",
       "      <td>...</td>\n",
       "      <td>...</td>\n",
       "      <td>...</td>\n",
       "      <td>...</td>\n",
       "      <td>...</td>\n",
       "      <td>...</td>\n",
       "    </tr>\n",
       "    <tr>\n",
       "      <th>69995</th>\n",
       "      <td>0.0</td>\n",
       "      <td>0.0</td>\n",
       "      <td>0.0</td>\n",
       "      <td>0.0</td>\n",
       "      <td>0.0</td>\n",
       "      <td>0.0</td>\n",
       "      <td>0.0</td>\n",
       "      <td>0.0</td>\n",
       "      <td>0.0</td>\n",
       "      <td>0.0</td>\n",
       "      <td>...</td>\n",
       "      <td>0.0</td>\n",
       "      <td>0.0</td>\n",
       "      <td>0.0</td>\n",
       "      <td>0.0</td>\n",
       "      <td>0.0</td>\n",
       "      <td>0.0</td>\n",
       "      <td>0.0</td>\n",
       "      <td>0.0</td>\n",
       "      <td>0.0</td>\n",
       "      <td>0.0</td>\n",
       "    </tr>\n",
       "    <tr>\n",
       "      <th>69996</th>\n",
       "      <td>0.0</td>\n",
       "      <td>0.0</td>\n",
       "      <td>0.0</td>\n",
       "      <td>0.0</td>\n",
       "      <td>0.0</td>\n",
       "      <td>0.0</td>\n",
       "      <td>0.0</td>\n",
       "      <td>0.0</td>\n",
       "      <td>0.0</td>\n",
       "      <td>31.0</td>\n",
       "      <td>...</td>\n",
       "      <td>0.0</td>\n",
       "      <td>0.0</td>\n",
       "      <td>0.0</td>\n",
       "      <td>0.0</td>\n",
       "      <td>0.0</td>\n",
       "      <td>0.0</td>\n",
       "      <td>0.0</td>\n",
       "      <td>0.0</td>\n",
       "      <td>0.0</td>\n",
       "      <td>0.0</td>\n",
       "    </tr>\n",
       "    <tr>\n",
       "      <th>69997</th>\n",
       "      <td>0.0</td>\n",
       "      <td>0.0</td>\n",
       "      <td>0.0</td>\n",
       "      <td>0.0</td>\n",
       "      <td>0.0</td>\n",
       "      <td>0.0</td>\n",
       "      <td>0.0</td>\n",
       "      <td>0.0</td>\n",
       "      <td>0.0</td>\n",
       "      <td>0.0</td>\n",
       "      <td>...</td>\n",
       "      <td>27.0</td>\n",
       "      <td>0.0</td>\n",
       "      <td>0.0</td>\n",
       "      <td>0.0</td>\n",
       "      <td>0.0</td>\n",
       "      <td>0.0</td>\n",
       "      <td>0.0</td>\n",
       "      <td>0.0</td>\n",
       "      <td>0.0</td>\n",
       "      <td>0.0</td>\n",
       "    </tr>\n",
       "    <tr>\n",
       "      <th>69998</th>\n",
       "      <td>0.0</td>\n",
       "      <td>0.0</td>\n",
       "      <td>0.0</td>\n",
       "      <td>0.0</td>\n",
       "      <td>0.0</td>\n",
       "      <td>0.0</td>\n",
       "      <td>0.0</td>\n",
       "      <td>0.0</td>\n",
       "      <td>0.0</td>\n",
       "      <td>0.0</td>\n",
       "      <td>...</td>\n",
       "      <td>0.0</td>\n",
       "      <td>0.0</td>\n",
       "      <td>0.0</td>\n",
       "      <td>0.0</td>\n",
       "      <td>0.0</td>\n",
       "      <td>0.0</td>\n",
       "      <td>0.0</td>\n",
       "      <td>0.0</td>\n",
       "      <td>0.0</td>\n",
       "      <td>0.0</td>\n",
       "    </tr>\n",
       "    <tr>\n",
       "      <th>69999</th>\n",
       "      <td>0.0</td>\n",
       "      <td>0.0</td>\n",
       "      <td>0.0</td>\n",
       "      <td>0.0</td>\n",
       "      <td>0.0</td>\n",
       "      <td>0.0</td>\n",
       "      <td>0.0</td>\n",
       "      <td>0.0</td>\n",
       "      <td>0.0</td>\n",
       "      <td>0.0</td>\n",
       "      <td>...</td>\n",
       "      <td>0.0</td>\n",
       "      <td>0.0</td>\n",
       "      <td>0.0</td>\n",
       "      <td>0.0</td>\n",
       "      <td>0.0</td>\n",
       "      <td>0.0</td>\n",
       "      <td>0.0</td>\n",
       "      <td>0.0</td>\n",
       "      <td>0.0</td>\n",
       "      <td>0.0</td>\n",
       "    </tr>\n",
       "  </tbody>\n",
       "</table>\n",
       "<p>70000 rows × 784 columns</p>\n",
       "</div>"
      ],
      "text/plain": [
       "       pixel1  pixel2  pixel3  pixel4  pixel5  pixel6  pixel7  pixel8  pixel9  \\\n",
       "0         0.0     0.0     0.0     0.0     0.0     0.0     0.0     0.0     0.0   \n",
       "1         0.0     0.0     0.0     0.0     0.0     1.0     0.0     0.0     0.0   \n",
       "2         0.0     0.0     0.0     0.0     0.0     0.0     0.0     0.0     0.0   \n",
       "3         0.0     0.0     0.0     0.0     0.0     0.0     0.0     0.0    33.0   \n",
       "4         0.0     0.0     0.0     0.0     0.0     0.0     0.0     0.0     0.0   \n",
       "...       ...     ...     ...     ...     ...     ...     ...     ...     ...   \n",
       "69995     0.0     0.0     0.0     0.0     0.0     0.0     0.0     0.0     0.0   \n",
       "69996     0.0     0.0     0.0     0.0     0.0     0.0     0.0     0.0     0.0   \n",
       "69997     0.0     0.0     0.0     0.0     0.0     0.0     0.0     0.0     0.0   \n",
       "69998     0.0     0.0     0.0     0.0     0.0     0.0     0.0     0.0     0.0   \n",
       "69999     0.0     0.0     0.0     0.0     0.0     0.0     0.0     0.0     0.0   \n",
       "\n",
       "       pixel10  ...  pixel775  pixel776  pixel777  pixel778  pixel779  \\\n",
       "0          0.0  ...       0.0       0.0       0.0       0.0       0.0   \n",
       "1          0.0  ...     119.0     114.0     130.0      76.0       0.0   \n",
       "2         22.0  ...       0.0       0.0       1.0       0.0       0.0   \n",
       "3         96.0  ...       0.0       0.0       0.0       0.0       0.0   \n",
       "4          0.0  ...       0.0       0.0       0.0       0.0       0.0   \n",
       "...        ...  ...       ...       ...       ...       ...       ...   \n",
       "69995      0.0  ...       0.0       0.0       0.0       0.0       0.0   \n",
       "69996     31.0  ...       0.0       0.0       0.0       0.0       0.0   \n",
       "69997      0.0  ...      27.0       0.0       0.0       0.0       0.0   \n",
       "69998      0.0  ...       0.0       0.0       0.0       0.0       0.0   \n",
       "69999      0.0  ...       0.0       0.0       0.0       0.0       0.0   \n",
       "\n",
       "       pixel780  pixel781  pixel782  pixel783  pixel784  \n",
       "0           0.0       0.0       0.0       0.0       0.0  \n",
       "1           0.0       0.0       0.0       0.0       0.0  \n",
       "2           0.0       0.0       0.0       0.0       0.0  \n",
       "3           0.0       0.0       0.0       0.0       0.0  \n",
       "4           0.0       0.0       0.0       0.0       0.0  \n",
       "...         ...       ...       ...       ...       ...  \n",
       "69995       0.0       0.0       0.0       0.0       0.0  \n",
       "69996       0.0       0.0       0.0       0.0       0.0  \n",
       "69997       0.0       0.0       0.0       0.0       0.0  \n",
       "69998       0.0       0.0       0.0       0.0       0.0  \n",
       "69999       0.0       0.0       0.0       0.0       0.0  \n",
       "\n",
       "[70000 rows x 784 columns]"
      ]
     },
     "execution_count": 11,
     "metadata": {},
     "output_type": "execute_result"
    }
   ],
   "source": [
    "fashion_mnist['data']"
   ]
  },
  {
   "cell_type": "code",
   "execution_count": 12,
   "metadata": {},
   "outputs": [
    {
     "data": {
      "text/plain": [
       "(70000, 784)"
      ]
     },
     "execution_count": 12,
     "metadata": {},
     "output_type": "execute_result"
    }
   ],
   "source": [
    "fashion_mnist['data'].shape"
   ]
  },
  {
   "cell_type": "markdown",
   "metadata": {},
   "source": [
    "<b>using train_test_split to take 10000 sample</b>"
   ]
  },
  {
   "cell_type": "code",
   "execution_count": 13,
   "metadata": {},
   "outputs": [],
   "source": [
    "fashion_mnist_sample={}"
   ]
  },
  {
   "cell_type": "code",
   "execution_count": 14,
   "metadata": {},
   "outputs": [],
   "source": [
    "fashion_mnist_sample['data'], a, fashion_mnist_sample['target'], b=train_test_split(fashion_mnist['data'],fashion_mnist['target'], train_size=10000)"
   ]
  },
  {
   "cell_type": "code",
   "execution_count": 15,
   "metadata": {},
   "outputs": [
    {
     "data": {
      "text/plain": [
       "(60000, 784)"
      ]
     },
     "execution_count": 15,
     "metadata": {},
     "output_type": "execute_result"
    }
   ],
   "source": [
    "a.shape"
   ]
  },
  {
   "cell_type": "code",
   "execution_count": 16,
   "metadata": {},
   "outputs": [
    {
     "data": {
      "text/plain": [
       "(60000,)"
      ]
     },
     "execution_count": 16,
     "metadata": {},
     "output_type": "execute_result"
    }
   ],
   "source": [
    "b.shape"
   ]
  },
  {
   "cell_type": "markdown",
   "metadata": {},
   "source": [
    "<b>using train_test_split to split 10000 data into train & test</b>"
   ]
  },
  {
   "cell_type": "code",
   "execution_count": 17,
   "metadata": {},
   "outputs": [],
   "source": [
    "x,y=fashion_mnist_sample['data'],fashion_mnist_sample['target']"
   ]
  },
  {
   "cell_type": "code",
   "execution_count": 18,
   "metadata": {},
   "outputs": [],
   "source": [
    "x_train,x_test,y_train,y_test=train_test_split(x,y,test_size=0.2)"
   ]
  },
  {
   "cell_type": "code",
   "execution_count": 18,
   "metadata": {},
   "outputs": [
    {
     "data": {
      "text/plain": [
       "42153    1\n",
       "24325    5\n",
       "60622    6\n",
       "2277     8\n",
       "28223    2\n",
       "        ..\n",
       "68613    8\n",
       "46486    6\n",
       "60714    0\n",
       "30093    4\n",
       "9832     3\n",
       "Name: class, Length: 8000, dtype: category\n",
       "Categories (10, object): ['0', '1', '2', '3', ..., '6', '7', '8', '9']"
      ]
     },
     "execution_count": 18,
     "metadata": {},
     "output_type": "execute_result"
    }
   ],
   "source": [
    "y_train"
   ]
  },
  {
   "cell_type": "markdown",
   "metadata": {},
   "source": [
    "<b>preprocessing</b>"
   ]
  },
  {
   "cell_type": "code",
   "execution_count": 29,
   "metadata": {},
   "outputs": [],
   "source": [
    "from sklearn.preprocessing import MinMaxScaler\n",
    "scaler=MinMaxScaler()\n",
    "x_train=scaler.fit_transform(x_train)\n",
    "x_test=scaler.transform(x_test)"
   ]
  },
  {
   "cell_type": "markdown",
   "metadata": {},
   "source": [
    "<b>numerical labels -> string</b><i> [no need]</i>"
   ]
  },
  {
   "cell_type": "code",
   "execution_count": 30,
   "metadata": {},
   "outputs": [],
   "source": [
    "translation=fashion_label_translation"
   ]
  },
  {
   "cell_type": "code",
   "execution_count": 31,
   "metadata": {},
   "outputs": [],
   "source": [
    "y_train_translated= translate_label(y_train,translation=translation)\n",
    "y_test_translated=translate_label(y_test,translation=translation)"
   ]
  },
  {
   "cell_type": "markdown",
   "metadata": {},
   "source": [
    "<b>string -> numerical</b> <i>[no need]</i>"
   ]
  },
  {
   "cell_type": "code",
   "execution_count": 22,
   "metadata": {},
   "outputs": [],
   "source": [
    "from sklearn.preprocessing import LabelEncoder\n",
    "le=LabelEncoder()\n",
    "y_train_encoded=le.fit_transform(y_train_translated)\n",
    "y_test_encoded=le.transform(y_test_translated)"
   ]
  },
  {
   "cell_type": "markdown",
   "metadata": {},
   "source": [
    "<b>view image</b>"
   ]
  },
  {
   "cell_type": "code",
   "execution_count": 23,
   "metadata": {},
   "outputs": [],
   "source": [
    "import matplotlib.pyplot as plt\n",
    "import random\n",
    "import numpy as np"
   ]
  },
  {
   "cell_type": "code",
   "execution_count": 24,
   "metadata": {},
   "outputs": [
    {
     "name": "stderr",
     "output_type": "stream",
     "text": [
      "<ipython-input-24-7e077c1b66f0>:5: UserWarning: Matplotlib is currently using module://ipykernel.pylab.backend_inline, which is a non-GUI backend, so cannot show the figure.\n",
      "  figs.show()\n"
     ]
    },
    {
     "data": {
      "image/png": "[encoded data removed]",
      "text/plain": [
       "<Figure size 1152x864 with 10 Axes>"
      ]
     },
     "metadata": {
      "needs_background": "light"
     },
     "output_type": "display_data"
    }
   ],
   "source": [
    "figs,axs=plt.subplots(1,10,figsize=(16,12))\n",
    "for i in range(10):\n",
    "    rand=random.choice(range(x_train.shape[0]))\n",
    "    display_fashion(x_train[rand],y_train_translated[rand],axs[i])\n",
    "figs.show()"
   ]
  },
  {
   "cell_type": "markdown",
   "metadata": {},
   "source": [
    "<p><b>hyperparameter effects</b></p>\n",
    "<i>default learning_rate_init: 0.0001 & learning_rate=constant</i>"
   ]
  },
  {
   "cell_type": "code",
   "execution_count": 25,
   "metadata": {},
   "outputs": [],
   "source": [
    "from sklearn.neural_network import MLPClassifier"
   ]
  },
  {
   "cell_type": "code",
   "execution_count": 26,
   "metadata": {},
   "outputs": [
    {
     "data": {
      "text/plain": [
       "MLPClassifier(hidden_layer_sizes=(100, 100), max_iter=500)"
      ]
     },
     "execution_count": 26,
     "metadata": {},
     "output_type": "execute_result"
    }
   ],
   "source": [
    "clf=MLPClassifier(hidden_layer_sizes=(100,100),max_iter=500)\n",
    "clf.fit(x_train,y_train_encoded)\n",
    "# y_test_pred=clf.predict(x_test)"
   ]
  },
  {
   "cell_type": "code",
   "execution_count": 27,
   "metadata": {},
   "outputs": [
    {
     "data": {
      "text/plain": [
       "<AxesSubplot:title={'center':'loss_curve stopped after 104 epochs'}>"
      ]
     },
     "execution_count": 27,
     "metadata": {},
     "output_type": "execute_result"
    },
    {
     "data": {
      "image/png": "[encoded data removed]",
      "text/plain": [
       "<Figure size 432x288 with 1 Axes>"
      ]
     },
     "metadata": {
      "needs_background": "light"
     },
     "output_type": "display_data"
    }
   ],
   "source": [
    "pd.Series(clf.loss_curve_).plot(\n",
    "    title=f'loss_curve stopped after {clf.n_iter_} epochs'\n",
    ")"
   ]
  },
  {
   "cell_type": "code",
   "execution_count": 28,
   "metadata": {},
   "outputs": [],
   "source": [
    "y_test_pred=clf.predict(x_test)"
   ]
  },
  {
   "cell_type": "code",
   "execution_count": 29,
   "metadata": {},
   "outputs": [],
   "source": [
    "from sklearn.metrics import f1_score, precision_score, recall_score"
   ]
  },
  {
   "cell_type": "code",
   "execution_count": 30,
   "metadata": {},
   "outputs": [
    {
     "data": {
      "text/plain": [
       "str"
      ]
     },
     "execution_count": 30,
     "metadata": {},
     "output_type": "execute_result"
    }
   ],
   "source": [
    "type(y_test.iloc[0])"
   ]
  },
  {
   "cell_type": "code",
   "execution_count": 31,
   "metadata": {},
   "outputs": [
    {
     "data": {
      "text/plain": [
       "0.344"
      ]
     },
     "execution_count": 31,
     "metadata": {},
     "output_type": "execute_result"
    }
   ],
   "source": [
    "f1_score(y_test.astype(int),y_test_pred,average='micro')"
   ]
  },
  {
   "cell_type": "code",
   "execution_count": 32,
   "metadata": {},
   "outputs": [
    {
     "data": {
      "text/plain": [
       "0.344"
      ]
     },
     "execution_count": 32,
     "metadata": {},
     "output_type": "execute_result"
    }
   ],
   "source": [
    "precision_score(y_test.astype(int),y_test_pred,average='micro')"
   ]
  },
  {
   "cell_type": "code",
   "execution_count": 33,
   "metadata": {},
   "outputs": [
    {
     "data": {
      "text/plain": [
       "0.344"
      ]
     },
     "execution_count": 33,
     "metadata": {},
     "output_type": "execute_result"
    }
   ],
   "source": [
    "recall_score(y_test.astype(int),y_test_pred,average='micro')"
   ]
  },
  {
   "cell_type": "markdown",
   "metadata": {},
   "source": [
    "<p><b>using different hyperparameters</b></p>\n",
    "<i>finding optimum learning rate, solver=stochastic gradient descent</i>"
   ]
  },
  {
   "cell_type": "code",
   "execution_count": 35,
   "metadata": {},
   "outputs": [],
   "source": [
    "from sklearn.neural_network import MLPClassifier"
   ]
  },
  {
   "cell_type": "code",
   "execution_count": 36,
   "metadata": {},
   "outputs": [],
   "source": [
    "learning_rate_init_options=[1,0.1,0.01,0.001]"
   ]
  },
  {
   "cell_type": "code",
   "execution_count": 37,
   "metadata": {},
   "outputs": [
    {
     "data": {
      "image/png": "[encoded data removed]",
      "text/plain": [
       "<Figure size 1080x360 with 4 Axes>"
      ]
     },
     "metadata": {
      "needs_background": "light"
     },
     "output_type": "display_data"
    }
   ],
   "source": [
    "fig,axs=plt.subplots(1,len(learning_rate_init_options),figsize=(15,5),sharex=True,sharey=True)"
   ]
  },
  {
   "cell_type": "code",
   "execution_count": 38,
   "metadata": {},
   "outputs": [
    {
     "data": {
      "text/plain": [
       "numpy.int64"
      ]
     },
     "execution_count": 38,
     "metadata": {},
     "output_type": "execute_result"
    }
   ],
   "source": [
    "type(y_train_encoded[0])"
   ]
  },
  {
   "cell_type": "code",
   "execution_count": 39,
   "metadata": {},
   "outputs": [
    {
     "data": {
      "text/plain": [
       "str"
      ]
     },
     "execution_count": 39,
     "metadata": {},
     "output_type": "execute_result"
    }
   ],
   "source": [
    "type(y_train.iloc[0])"
   ]
  },
  {
   "cell_type": "code",
   "execution_count": 40,
   "metadata": {},
   "outputs": [
    {
     "name": "stdout",
     "output_type": "stream",
     "text": [
      "1 "
     ]
    },
    {
     "name": "stderr",
     "output_type": "stream",
     "text": [
      "/home/mahmud/anaconda3/envs/computer-vision/lib/python3.8/site-packages/sklearn/neural_network/_multilayer_perceptron.py:582: ConvergenceWarning: Stochastic Optimizer: Maximum iterations (120) reached and the optimization hasn't converged yet.\n",
      "  warnings.warn(\n"
     ]
    },
    {
     "name": "stdout",
     "output_type": "stream",
     "text": [
      "0.1 "
     ]
    },
    {
     "name": "stderr",
     "output_type": "stream",
     "text": [
      "/home/mahmud/anaconda3/envs/computer-vision/lib/python3.8/site-packages/sklearn/neural_network/_multilayer_perceptron.py:582: ConvergenceWarning: Stochastic Optimizer: Maximum iterations (120) reached and the optimization hasn't converged yet.\n",
      "  warnings.warn(\n"
     ]
    },
    {
     "name": "stdout",
     "output_type": "stream",
     "text": [
      "0.01 "
     ]
    },
    {
     "name": "stderr",
     "output_type": "stream",
     "text": [
      "/home/mahmud/anaconda3/envs/computer-vision/lib/python3.8/site-packages/sklearn/neural_network/_multilayer_perceptron.py:582: ConvergenceWarning: Stochastic Optimizer: Maximum iterations (120) reached and the optimization hasn't converged yet.\n",
      "  warnings.warn(\n"
     ]
    },
    {
     "name": "stdout",
     "output_type": "stream",
     "text": [
      "0.001 "
     ]
    },
    {
     "name": "stderr",
     "output_type": "stream",
     "text": [
      "/home/mahmud/anaconda3/envs/computer-vision/lib/python3.8/site-packages/sklearn/neural_network/_multilayer_perceptron.py:582: ConvergenceWarning: Stochastic Optimizer: Maximum iterations (120) reached and the optimization hasn't converged yet.\n",
      "  warnings.warn(\n",
      "<ipython-input-40-73a85b0b532a>:23: UserWarning: Matplotlib is currently using module://ipykernel.pylab.backend_inline, which is a non-GUI backend, so cannot show the figure.\n",
      "  fig.show()\n"
     ]
    },
    {
     "data": {
      "image/png": "[encoded data removed]",
      "text/plain": [
       "<Figure size 1080x360 with 4 Axes>"
      ]
     },
     "metadata": {
      "needs_background": "light"
     },
     "output_type": "display_data"
    }
   ],
   "source": [
    "fig,axs=plt.subplots(1,len(learning_rate_init_options),figsize=(15,5),sharex=True,sharey=True)\n",
    "for i,learning_rate_init in enumerate(learning_rate_init_options):\n",
    "    print(f'{learning_rate_init} ', end='')\n",
    "    clf=MLPClassifier(\n",
    "        solver='sgd',\n",
    "        learning_rate='constant',\n",
    "        learning_rate_init=learning_rate_init,\n",
    "        hidden_layer_sizes=(500,),\n",
    "        validation_fraction=0.2,\n",
    "        early_stopping=True,\n",
    "        n_iter_no_change=120,\n",
    "        max_iter=120,\n",
    "        batch_size=25,\n",
    "        verbose=0\n",
    "    )\n",
    "    clf.fit(x_train[:1000,:],y_train[:1000])\n",
    "    pd.Series(clf.validation_scores_).plot(\n",
    "        title=f'learning_rate={learning_rate_init}',\n",
    "        kind='line',\n",
    "        color='k',\n",
    "        ax=axs[i]\n",
    "    )\n",
    "fig.show()"
   ]
  },
  {
   "cell_type": "markdown",
   "metadata": {},
   "source": [
    "<p style=\"color:blue;\"><b>learned from this graph:</b> <p>using only 1000 data to select optimum learning_rate</p></p>"
   ]
  },
  {
   "cell_type": "markdown",
   "metadata": {},
   "source": [
    "<p style=\"color:white\"><b>selecting batch_size</b></p><p>using 1500 samples</p>\n",
    "<i>early_stoping used unlike book</i>"
   ]
  },
  {
   "cell_type": "code",
   "execution_count": 58,
   "metadata": {},
   "outputs": [],
   "source": [
    "from sklearn.neural_network import MLPClassifier\n",
    "%matplotlib inline\n",
    "import matplotlib.pyplot as plt"
   ]
  },
  {
   "cell_type": "code",
   "execution_count": 59,
   "metadata": {},
   "outputs": [],
   "source": [
    "batch_sizes=[1,10,100,1500]"
   ]
  },
  {
   "cell_type": "code",
   "execution_count": 60,
   "metadata": {},
   "outputs": [
    {
     "data": {
      "image/png": "[encoded data removed]",
      "text/plain": [
       "<Figure size 1080x360 with 4 Axes>"
      ]
     },
     "metadata": {
      "needs_background": "light"
     },
     "output_type": "display_data"
    }
   ],
   "source": [
    "fig,axs=plt.subplots(1,len(batch_sizes),figsize=(15,5),sharex=True,sharey=True)"
   ]
  },
  {
   "cell_type": "code",
   "execution_count": 63,
   "metadata": {},
   "outputs": [
    {
     "name": "stdout",
     "output_type": "stream",
     "text": [
      "1 Iteration 1, loss = 1.51483174\n",
      "Validation score: 0.693333\n",
      "Iteration 2, loss = 0.95429656\n",
      "Validation score: 0.720000\n",
      "Iteration 3, loss = 0.81623137\n",
      "Validation score: 0.766667\n",
      "Iteration 4, loss = 0.74442054\n",
      "Validation score: 0.813333\n",
      "Iteration 5, loss = 0.69318450\n",
      "Validation score: 0.793333\n",
      "Iteration 6, loss = 0.64636542\n",
      "Validation score: 0.800000\n",
      "Iteration 7, loss = 0.61765571\n",
      "Validation score: 0.800000\n",
      "Iteration 8, loss = 0.59075318\n",
      "Validation score: 0.780000\n",
      "Iteration 9, loss = 0.56309307\n",
      "Validation score: 0.806667\n",
      "Iteration 10, loss = 0.55298524\n",
      "Validation score: 0.820000\n",
      "Iteration 11, loss = 0.53504539\n",
      "Validation score: 0.820000\n",
      "Iteration 12, loss = 0.51781817\n",
      "Validation score: 0.813333\n",
      "Iteration 13, loss = 0.50105774\n",
      "Validation score: 0.826667\n",
      "Iteration 14, loss = 0.48575643\n",
      "Validation score: 0.800000\n",
      "Iteration 15, loss = 0.47808934\n",
      "Validation score: 0.753333\n",
      "Iteration 16, loss = 0.46880595\n",
      "Validation score: 0.826667\n",
      "Iteration 17, loss = 0.45507450\n",
      "Validation score: 0.833333\n",
      "Iteration 18, loss = 0.44948326\n",
      "Validation score: 0.813333\n",
      "Iteration 19, loss = 0.43084964\n",
      "Validation score: 0.833333\n",
      "Iteration 20, loss = 0.42604899\n",
      "Validation score: 0.820000\n",
      "Iteration 21, loss = 0.42114816\n",
      "Validation score: 0.806667\n",
      "Iteration 22, loss = 0.41102942\n",
      "Validation score: 0.800000\n",
      "Iteration 23, loss = 0.40296976\n",
      "Validation score: 0.813333\n",
      "Iteration 24, loss = 0.39722635\n",
      "Validation score: 0.833333\n",
      "Iteration 25, loss = 0.38363448\n",
      "Validation score: 0.766667\n",
      "Iteration 26, loss = 0.37875300\n",
      "Validation score: 0.833333\n",
      "Iteration 27, loss = 0.37602978\n",
      "Validation score: 0.800000\n",
      "Iteration 28, loss = 0.36337057\n",
      "Validation score: 0.813333\n",
      "Validation score did not improve more than tol=0.000100 for 10 consecutive epochs. Stopping.\n",
      "10 Iteration 1, loss = 2.20660569\n",
      "Validation score: 0.346667\n",
      "Iteration 2, loss = 1.85460868\n",
      "Validation score: 0.460000\n",
      "Iteration 3, loss = 1.62920737\n",
      "Validation score: 0.533333\n",
      "Iteration 4, loss = 1.46929920\n",
      "Validation score: 0.540000\n",
      "Iteration 5, loss = 1.34684287\n",
      "Validation score: 0.580000\n",
      "Iteration 6, loss = 1.25337470\n",
      "Validation score: 0.586667\n",
      "Iteration 7, loss = 1.17791216\n",
      "Validation score: 0.573333\n",
      "Iteration 8, loss = 1.11805701\n",
      "Validation score: 0.600000\n",
      "Iteration 9, loss = 1.06846445\n",
      "Validation score: 0.606667\n",
      "Iteration 10, loss = 1.02617784\n",
      "Validation score: 0.626667\n",
      "Iteration 11, loss = 0.99126837\n",
      "Validation score: 0.653333\n",
      "Iteration 12, loss = 0.96022068\n",
      "Validation score: 0.640000\n",
      "Iteration 13, loss = 0.93260035\n",
      "Validation score: 0.653333\n",
      "Iteration 14, loss = 0.90962737\n",
      "Validation score: 0.660000\n",
      "Iteration 15, loss = 0.88745125\n",
      "Validation score: 0.653333\n",
      "Iteration 16, loss = 0.86935660\n",
      "Validation score: 0.673333\n",
      "Iteration 17, loss = 0.85171408\n",
      "Validation score: 0.660000\n",
      "Iteration 18, loss = 0.83632861\n",
      "Validation score: 0.693333\n",
      "Iteration 19, loss = 0.82218266\n",
      "Validation score: 0.686667\n",
      "Iteration 20, loss = 0.80739357\n",
      "Validation score: 0.686667\n",
      "Iteration 21, loss = 0.79491129\n",
      "Validation score: 0.720000\n",
      "Iteration 22, loss = 0.78366114\n",
      "Validation score: 0.713333\n",
      "Iteration 23, loss = 0.77288380\n",
      "Validation score: 0.713333\n",
      "Iteration 24, loss = 0.76268391\n",
      "Validation score: 0.740000\n",
      "Iteration 25, loss = 0.75351946\n",
      "Validation score: 0.733333\n",
      "Iteration 26, loss = 0.74485198\n",
      "Validation score: 0.733333\n",
      "Iteration 27, loss = 0.73516649\n",
      "Validation score: 0.733333\n",
      "Iteration 28, loss = 0.72760240\n",
      "Validation score: 0.726667\n",
      "Iteration 29, loss = 0.71955519\n",
      "Validation score: 0.746667\n",
      "Iteration 30, loss = 0.71239797\n",
      "Validation score: 0.740000\n",
      "Iteration 31, loss = 0.70500726\n",
      "Validation score: 0.753333\n",
      "Iteration 32, loss = 0.69744335\n",
      "Validation score: 0.740000\n",
      "Iteration 33, loss = 0.69159559\n",
      "Validation score: 0.753333\n",
      "Iteration 34, loss = 0.68564536\n",
      "Validation score: 0.733333\n",
      "Iteration 35, loss = 0.67820344\n",
      "Validation score: 0.733333\n",
      "Iteration 36, loss = 0.67376759\n",
      "Validation score: 0.746667\n",
      "Iteration 37, loss = 0.66868985\n",
      "Validation score: 0.740000\n",
      "Iteration 38, loss = 0.66270439\n",
      "Validation score: 0.760000\n",
      "Iteration 39, loss = 0.65708185\n",
      "Validation score: 0.740000\n",
      "Iteration 40, loss = 0.65190889\n",
      "Validation score: 0.760000\n",
      "Iteration 41, loss = 0.64755649\n",
      "Validation score: 0.740000\n",
      "Iteration 42, loss = 0.64225486\n",
      "Validation score: 0.766667\n",
      "Iteration 43, loss = 0.63825748\n",
      "Validation score: 0.766667\n",
      "Iteration 44, loss = 0.63313883\n",
      "Validation score: 0.753333\n",
      "Iteration 45, loss = 0.62865066\n",
      "Validation score: 0.760000\n",
      "Iteration 46, loss = 0.62405549\n",
      "Validation score: 0.746667\n",
      "Iteration 47, loss = 0.61976204\n",
      "Validation score: 0.746667\n",
      "Iteration 48, loss = 0.61587396\n",
      "Validation score: 0.766667\n",
      "Iteration 49, loss = 0.61203624\n",
      "Validation score: 0.766667\n",
      "Iteration 50, loss = 0.60842022\n",
      "Validation score: 0.766667\n",
      "Iteration 51, loss = 0.60496750\n",
      "Validation score: 0.766667\n",
      "Iteration 52, loss = 0.60057207\n",
      "Validation score: 0.773333\n",
      "Iteration 53, loss = 0.59841676\n",
      "Validation score: 0.766667\n",
      "Iteration 54, loss = 0.59387150\n",
      "Validation score: 0.773333\n",
      "Iteration 55, loss = 0.59078009\n",
      "Validation score: 0.773333\n",
      "Iteration 56, loss = 0.58630107\n",
      "Validation score: 0.753333\n",
      "Iteration 57, loss = 0.58415464\n",
      "Validation score: 0.773333\n",
      "Iteration 58, loss = 0.57999429\n",
      "Validation score: 0.773333\n",
      "Iteration 59, loss = 0.57712218\n",
      "Validation score: 0.780000\n",
      "Iteration 60, loss = 0.57411736\n",
      "Validation score: 0.766667\n",
      "Iteration 61, loss = 0.57095917\n",
      "Validation score: 0.766667\n",
      "Iteration 62, loss = 0.56746301\n",
      "Validation score: 0.780000\n",
      "Iteration 63, loss = 0.56498883\n",
      "Validation score: 0.766667\n",
      "Iteration 64, loss = 0.56143117\n",
      "Validation score: 0.780000\n",
      "Iteration 65, loss = 0.55879833\n",
      "Validation score: 0.766667\n",
      "Iteration 66, loss = 0.55715170\n",
      "Validation score: 0.780000\n",
      "Iteration 67, loss = 0.55320163\n",
      "Validation score: 0.780000\n",
      "Iteration 68, loss = 0.55101580\n",
      "Validation score: 0.780000\n",
      "Iteration 69, loss = 0.54687087\n",
      "Validation score: 0.773333\n",
      "Iteration 70, loss = 0.54614614\n",
      "Validation score: 0.780000\n",
      "Validation score did not improve more than tol=0.000100 for 10 consecutive epochs. Stopping.\n",
      "100 Iteration 1, loss = 2.49523330\n",
      "Validation score: 0.126667\n",
      "Iteration 2, loss = 2.40300725\n",
      "Validation score: 0.133333\n",
      "Iteration 3, loss = 2.33165031\n",
      "Validation score: 0.160000\n",
      "Iteration 4, loss = 2.27211721\n",
      "Validation score: 0.153333\n",
      "Iteration 5, loss = 2.22082147\n",
      "Validation score: 0.186667\n",
      "Iteration 6, loss = 2.17431649\n",
      "Validation score: 0.200000\n",
      "Iteration 7, loss = 2.13210560\n",
      "Validation score: 0.240000\n",
      "Iteration 8, loss = 2.09263652\n",
      "Validation score: 0.260000\n",
      "Iteration 9, loss = 2.05542949\n",
      "Validation score: 0.286667\n",
      "Iteration 10, loss = 2.02067200\n",
      "Validation score: 0.300000\n",
      "Iteration 11, loss = 1.98731893\n",
      "Validation score: 0.313333\n",
      "Iteration 12, loss = 1.95518906\n",
      "Validation score: 0.353333\n",
      "Iteration 13, loss = 1.92427398\n",
      "Validation score: 0.386667\n",
      "Iteration 14, loss = 1.89496719\n",
      "Validation score: 0.406667\n",
      "Iteration 15, loss = 1.86675626\n",
      "Validation score: 0.413333\n",
      "Iteration 16, loss = 1.83972662\n",
      "Validation score: 0.413333\n",
      "Iteration 17, loss = 1.81351662\n",
      "Validation score: 0.426667\n",
      "Iteration 18, loss = 1.78810313\n",
      "Validation score: 0.440000\n",
      "Iteration 19, loss = 1.76339246\n",
      "Validation score: 0.460000\n",
      "Iteration 20, loss = 1.73987726\n",
      "Validation score: 0.480000\n",
      "Iteration 21, loss = 1.71693764\n",
      "Validation score: 0.486667\n",
      "Iteration 22, loss = 1.69491130\n",
      "Validation score: 0.500000\n",
      "Iteration 23, loss = 1.67377720\n",
      "Validation score: 0.526667\n",
      "Iteration 24, loss = 1.65300075\n",
      "Validation score: 0.546667\n",
      "Iteration 25, loss = 1.63330714\n",
      "Validation score: 0.553333\n",
      "Iteration 26, loss = 1.61381355\n",
      "Validation score: 0.560000\n",
      "Iteration 27, loss = 1.59510111\n",
      "Validation score: 0.553333\n",
      "Iteration 28, loss = 1.57701473\n",
      "Validation score: 0.553333\n",
      "Iteration 29, loss = 1.55944699\n",
      "Validation score: 0.553333\n",
      "Iteration 30, loss = 1.54267072\n",
      "Validation score: 0.553333\n",
      "Iteration 31, loss = 1.52617679\n",
      "Validation score: 0.566667\n",
      "Iteration 32, loss = 1.51026861\n",
      "Validation score: 0.573333\n",
      "Iteration 33, loss = 1.49469908\n",
      "Validation score: 0.580000\n",
      "Iteration 34, loss = 1.47967025\n",
      "Validation score: 0.580000\n",
      "Iteration 35, loss = 1.46514863\n",
      "Validation score: 0.573333\n",
      "Iteration 36, loss = 1.45079633\n",
      "Validation score: 0.580000\n",
      "Iteration 37, loss = 1.43712622\n",
      "Validation score: 0.580000\n",
      "Iteration 38, loss = 1.42355821\n",
      "Validation score: 0.586667\n",
      "Iteration 39, loss = 1.41040848\n",
      "Validation score: 0.586667\n",
      "Iteration 40, loss = 1.39794088\n",
      "Validation score: 0.586667\n",
      "Iteration 41, loss = 1.38565300\n",
      "Validation score: 0.580000\n",
      "Iteration 42, loss = 1.37346740\n",
      "Validation score: 0.580000\n",
      "Iteration 43, loss = 1.36217808\n",
      "Validation score: 0.580000\n",
      "Iteration 44, loss = 1.35072818\n",
      "Validation score: 0.580000\n",
      "Iteration 45, loss = 1.33983847\n",
      "Validation score: 0.600000\n",
      "Iteration 46, loss = 1.32890917\n",
      "Validation score: 0.606667\n",
      "Iteration 47, loss = 1.31845033\n",
      "Validation score: 0.600000\n",
      "Iteration 48, loss = 1.30835167\n",
      "Validation score: 0.600000\n",
      "Iteration 49, loss = 1.29847477\n",
      "Validation score: 0.600000\n",
      "Iteration 50, loss = 1.28887626\n",
      "Validation score: 0.600000\n",
      "Iteration 51, loss = 1.27944336\n",
      "Validation score: 0.593333\n",
      "Iteration 52, loss = 1.27010195\n",
      "Validation score: 0.600000\n",
      "Iteration 53, loss = 1.26113628\n",
      "Validation score: 0.600000\n",
      "Iteration 54, loss = 1.25240032\n",
      "Validation score: 0.606667\n",
      "Iteration 55, loss = 1.24391806\n",
      "Validation score: 0.600000\n",
      "Iteration 56, loss = 1.23557729\n",
      "Validation score: 0.600000\n",
      "Iteration 57, loss = 1.22739277\n",
      "Validation score: 0.600000\n",
      "Validation score did not improve more than tol=0.000100 for 10 consecutive epochs. Stopping.\n",
      "1500 Iteration 1, loss = 2.48150699\n",
      "Validation score: 0.040000\n",
      "Iteration 2, loss = 2.47562870\n",
      "Validation score: 0.046667\n",
      "Iteration 3, loss = 2.46984582\n",
      "Validation score: 0.046667\n",
      "Iteration 4, loss = 2.46415174\n",
      "Validation score: 0.046667\n",
      "Iteration 5, loss = 2.45854376\n",
      "Validation score: 0.053333\n",
      "Iteration 6, loss = 2.45301938\n",
      "Validation score: 0.053333\n",
      "Iteration 7, loss = 2.44757847\n",
      "Validation score: 0.053333\n",
      "Iteration 8, loss = 2.44221734\n",
      "Validation score: 0.053333\n",
      "Iteration 9, loss = 2.43693144\n",
      "Validation score: 0.060000\n",
      "Iteration 10, loss = 2.43171761\n",
      "Validation score: 0.060000\n",
      "Iteration 11, loss = 2.42657465\n",
      "Validation score: 0.060000\n",
      "Iteration 12, loss = 2.42150151\n",
      "Validation score: 0.066667\n",
      "Iteration 13, loss = 2.41649395\n",
      "Validation score: 0.066667\n",
      "Iteration 14, loss = 2.41154909\n",
      "Validation score: 0.066667\n",
      "Iteration 15, loss = 2.40666837\n",
      "Validation score: 0.066667\n",
      "Iteration 16, loss = 2.40184889\n",
      "Validation score: 0.066667\n",
      "Iteration 17, loss = 2.39708617\n",
      "Validation score: 0.073333\n",
      "Iteration 18, loss = 2.39238100\n",
      "Validation score: 0.073333\n",
      "Iteration 19, loss = 2.38773322\n",
      "Validation score: 0.073333\n",
      "Iteration 20, loss = 2.38314061\n",
      "Validation score: 0.073333\n",
      "Iteration 21, loss = 2.37860350\n",
      "Validation score: 0.080000\n",
      "Iteration 22, loss = 2.37411562\n",
      "Validation score: 0.080000\n",
      "Iteration 23, loss = 2.36967636\n",
      "Validation score: 0.080000\n",
      "Iteration 24, loss = 2.36528427\n",
      "Validation score: 0.080000\n",
      "Iteration 25, loss = 2.36093804\n",
      "Validation score: 0.086667\n",
      "Iteration 26, loss = 2.35663901\n",
      "Validation score: 0.086667\n",
      "Iteration 27, loss = 2.35238642\n",
      "Validation score: 0.086667\n",
      "Iteration 28, loss = 2.34817877\n",
      "Validation score: 0.086667\n",
      "Iteration 29, loss = 2.34401453\n",
      "Validation score: 0.086667\n",
      "Iteration 30, loss = 2.33989265\n",
      "Validation score: 0.106667\n",
      "Iteration 31, loss = 2.33581343\n",
      "Validation score: 0.113333\n",
      "Iteration 32, loss = 2.33177112\n",
      "Validation score: 0.120000\n",
      "Iteration 33, loss = 2.32776772\n",
      "Validation score: 0.106667\n",
      "Iteration 34, loss = 2.32380231\n",
      "Validation score: 0.106667\n",
      "Iteration 35, loss = 2.31987341\n",
      "Validation score: 0.113333\n",
      "Iteration 36, loss = 2.31597959\n",
      "Validation score: 0.126667\n",
      "Iteration 37, loss = 2.31212174\n",
      "Validation score: 0.126667\n",
      "Iteration 38, loss = 2.30829776\n",
      "Validation score: 0.126667\n",
      "Iteration 39, loss = 2.30450688\n",
      "Validation score: 0.126667\n",
      "Iteration 40, loss = 2.30074781\n",
      "Validation score: 0.126667\n",
      "Iteration 41, loss = 2.29702177\n",
      "Validation score: 0.133333\n",
      "Iteration 42, loss = 2.29332960\n",
      "Validation score: 0.133333\n",
      "Iteration 43, loss = 2.28966939\n",
      "Validation score: 0.133333\n",
      "Iteration 44, loss = 2.28604207\n",
      "Validation score: 0.133333\n",
      "Iteration 45, loss = 2.28244596\n",
      "Validation score: 0.140000\n",
      "Iteration 46, loss = 2.27887970\n",
      "Validation score: 0.140000\n",
      "Iteration 47, loss = 2.27534125\n",
      "Validation score: 0.140000\n",
      "Iteration 48, loss = 2.27183010\n",
      "Validation score: 0.140000\n",
      "Iteration 49, loss = 2.26834669\n",
      "Validation score: 0.140000\n",
      "Iteration 50, loss = 2.26488973\n",
      "Validation score: 0.160000\n",
      "Iteration 51, loss = 2.26145915\n",
      "Validation score: 0.160000\n",
      "Iteration 52, loss = 2.25805476\n",
      "Validation score: 0.166667\n",
      "Iteration 53, loss = 2.25467521\n",
      "Validation score: 0.180000\n",
      "Iteration 54, loss = 2.25132185\n",
      "Validation score: 0.180000\n",
      "Iteration 55, loss = 2.24799143\n",
      "Validation score: 0.180000\n",
      "Iteration 56, loss = 2.24468418\n",
      "Validation score: 0.180000\n",
      "Iteration 57, loss = 2.24140132\n",
      "Validation score: 0.180000\n",
      "Iteration 58, loss = 2.23814243\n",
      "Validation score: 0.173333\n",
      "Iteration 59, loss = 2.23490488\n",
      "Validation score: 0.173333\n",
      "Iteration 60, loss = 2.23168864\n",
      "Validation score: 0.173333\n",
      "Iteration 61, loss = 2.22849431\n",
      "Validation score: 0.180000\n",
      "Iteration 62, loss = 2.22532004\n",
      "Validation score: 0.180000\n",
      "Iteration 63, loss = 2.22216557\n",
      "Validation score: 0.186667\n",
      "Iteration 64, loss = 2.21903077\n",
      "Validation score: 0.193333\n",
      "Iteration 65, loss = 2.21591475\n",
      "Validation score: 0.193333\n",
      "Iteration 66, loss = 2.21281720\n",
      "Validation score: 0.200000\n",
      "Iteration 67, loss = 2.20973746\n",
      "Validation score: 0.220000\n",
      "Iteration 68, loss = 2.20667506\n",
      "Validation score: 0.213333\n",
      "Iteration 69, loss = 2.20363086\n",
      "Validation score: 0.213333\n",
      "Iteration 70, loss = 2.20060479\n",
      "Validation score: 0.220000\n",
      "Iteration 71, loss = 2.19759580\n",
      "Validation score: 0.226667\n",
      "Iteration 72, loss = 2.19460387\n",
      "Validation score: 0.233333\n",
      "Iteration 73, loss = 2.19163090\n",
      "Validation score: 0.253333\n",
      "Iteration 74, loss = 2.18867447\n",
      "Validation score: 0.253333\n",
      "Iteration 75, loss = 2.18573553\n",
      "Validation score: 0.253333\n",
      "Iteration 76, loss = 2.18281322\n",
      "Validation score: 0.260000\n",
      "Iteration 77, loss = 2.17990696\n",
      "Validation score: 0.273333\n",
      "Iteration 78, loss = 2.17701708\n",
      "Validation score: 0.273333\n",
      "Iteration 79, loss = 2.17414196\n",
      "Validation score: 0.280000\n",
      "Iteration 80, loss = 2.17128116\n",
      "Validation score: 0.280000\n",
      "Iteration 81, loss = 2.16843433\n",
      "Validation score: 0.280000\n",
      "Iteration 82, loss = 2.16560164\n",
      "Validation score: 0.280000\n",
      "Iteration 83, loss = 2.16278426\n",
      "Validation score: 0.280000\n",
      "Iteration 84, loss = 2.15998038\n",
      "Validation score: 0.293333\n",
      "Iteration 85, loss = 2.15718987\n",
      "Validation score: 0.293333\n",
      "Iteration 86, loss = 2.15441160\n",
      "Validation score: 0.293333\n",
      "Iteration 87, loss = 2.15164615\n",
      "Validation score: 0.300000\n",
      "Iteration 88, loss = 2.14889397\n",
      "Validation score: 0.306667\n",
      "Iteration 89, loss = 2.14615539\n",
      "Validation score: 0.306667\n",
      "Iteration 90, loss = 2.14342957\n",
      "Validation score: 0.306667\n",
      "Iteration 91, loss = 2.14071664\n",
      "Validation score: 0.313333\n",
      "Iteration 92, loss = 2.13801568\n",
      "Validation score: 0.320000\n",
      "Iteration 93, loss = 2.13532836\n",
      "Validation score: 0.320000\n",
      "Iteration 94, loss = 2.13265422\n",
      "Validation score: 0.326667\n",
      "Iteration 95, loss = 2.12999195\n",
      "Validation score: 0.326667\n",
      "Iteration 96, loss = 2.12734100\n",
      "Validation score: 0.326667\n",
      "Iteration 97, loss = 2.12470035\n",
      "Validation score: 0.326667\n",
      "Iteration 98, loss = 2.12207043\n",
      "Validation score: 0.326667\n",
      "Iteration 99, loss = 2.11945100\n",
      "Validation score: 0.333333\n",
      "Iteration 100, loss = 2.11684166\n",
      "Validation score: 0.333333\n",
      "Iteration 101, loss = 2.11424252\n",
      "Validation score: 0.326667\n",
      "Iteration 102, loss = 2.11165327\n",
      "Validation score: 0.326667\n",
      "Iteration 103, loss = 2.10907364\n",
      "Validation score: 0.326667\n",
      "Iteration 104, loss = 2.10650330\n",
      "Validation score: 0.326667\n",
      "Iteration 105, loss = 2.10394254\n",
      "Validation score: 0.340000\n",
      "Iteration 106, loss = 2.10139089\n",
      "Validation score: 0.340000\n",
      "Iteration 107, loss = 2.09884915\n",
      "Validation score: 0.340000\n",
      "Iteration 108, loss = 2.09631704\n",
      "Validation score: 0.340000\n",
      "Iteration 109, loss = 2.09379440\n",
      "Validation score: 0.346667\n",
      "Iteration 110, loss = 2.09128149\n",
      "Validation score: 0.353333\n",
      "Iteration 111, loss = 2.08877761\n",
      "Validation score: 0.353333\n",
      "Iteration 112, loss = 2.08628266\n",
      "Validation score: 0.353333\n",
      "Iteration 113, loss = 2.08379713\n",
      "Validation score: 0.353333\n",
      "Iteration 114, loss = 2.08132066\n",
      "Validation score: 0.353333\n",
      "Iteration 115, loss = 2.07885306\n",
      "Validation score: 0.353333\n",
      "Iteration 116, loss = 2.07639428\n",
      "Validation score: 0.353333\n",
      "Iteration 117, loss = 2.07394494\n",
      "Validation score: 0.353333\n",
      "Iteration 118, loss = 2.07150490\n",
      "Validation score: 0.353333\n",
      "Iteration 119, loss = 2.06907397\n",
      "Validation score: 0.353333\n",
      "Iteration 120, loss = 2.06665144\n",
      "Validation score: 0.353333\n",
      "Iteration 121, loss = 2.06423749\n",
      "Validation score: 0.353333\n",
      "Validation score did not improve more than tol=0.000100 for 10 consecutive epochs. Stopping.\n"
     ]
    },
    {
     "name": "stderr",
     "output_type": "stream",
     "text": [
      "<ipython-input-63-36d55343b5ef>:23: UserWarning: Matplotlib is currently using module://ipykernel.pylab.backend_inline, which is a non-GUI backend, so cannot show the figure.\n",
      "  fig.show()\n"
     ]
    },
    {
     "data": {
      "image/png": "[encoded data removed]",
      "text/plain": [
       "<Figure size 1080x360 with 4 Axes>"
      ]
     },
     "metadata": {
      "needs_background": "light"
     },
     "output_type": "display_data"
    }
   ],
   "source": [
    "# stochastic gradient descent using no momentum\n",
    "fig,axs=plt.subplots(1,len(batch_sizes),figsize=(15,5),sharex=True,sharey=True)\n",
    "for i, batch_size in enumerate(batch_sizes):\n",
    "    print(f'{batch_size} ',end= '')\n",
    "    clf=MLPClassifier(\n",
    "        hidden_layer_sizes=(500,),\n",
    "        learning_rate='constant',\n",
    "        learning_rate_init=0.001,\n",
    "        momentum=0,\n",
    "        max_iter=250,\n",
    "        solver='sgd',\n",
    "        early_stopping=True,\n",
    "        batch_size=batch_size,\n",
    "        verbose=1\n",
    "    )\n",
    "    clf.fit(x_train[:1500,:],y_train[:1500])\n",
    "    pd.Series(clf.validation_scores_).plot(\n",
    "        title=f'batch_size={batch_size}',\n",
    "        color='k',\n",
    "        kind='line',\n",
    "        ax=axs[i]\n",
    "    )\n",
    "fig.show()"
   ]
  },
  {
   "cell_type": "markdown",
   "metadata": {},
   "source": [
    "<p style=\"color:yellow\">learned:</p>\n",
    "<p>mini batch size not only popular for memory constraints but also for better learning</p>"
   ]
  },
  {
   "cell_type": "markdown",
   "metadata": {},
   "source": [
    "<b>need more training samples?</b>"
   ]
  },
  {
   "cell_type": "code",
   "execution_count": 32,
   "metadata": {},
   "outputs": [],
   "source": [
    "from sklearn.model_selection import learning_curve\n",
    "from sklearn.neural_network import MLPClassifier"
   ]
  },
  {
   "cell_type": "code",
   "execution_count": 33,
   "metadata": {},
   "outputs": [],
   "source": [
    "train_sizes=[1,0.75,0.5,0.25,0.1,0.05]"
   ]
  },
  {
   "cell_type": "code",
   "execution_count": 47,
   "metadata": {},
   "outputs": [
    {
     "name": "stdout",
     "output_type": "stream",
     "text": [
      "[learning_curve] Training set sizes: [ 266  533 1333 2666 3999 5333]\n"
     ]
    },
    {
     "name": "stderr",
     "output_type": "stream",
     "text": [
      "[Parallel(n_jobs=-1)]: Using backend LokyBackend with 4 concurrent workers.\n",
      "[Parallel(n_jobs=-1)]: Done   9 out of  18 | elapsed:  1.1min remaining:  1.1min\n",
      "[Parallel(n_jobs=-1)]: Done  18 out of  18 | elapsed:  2.4min finished\n"
     ]
    }
   ],
   "source": [
    "train_sizes,train_scores,test_scores=learning_curve(\n",
    "    MLPClassifier(\n",
    "        hidden_layer_sizes=(100,100),\n",
    "        solver='adam',\n",
    "        early_stopping=False\n",
    "    ),\n",
    "    x_train,y_train_encoded,\n",
    "    train_sizes=train_sizes,\n",
    "    scoring=\"precision_macro\",\n",
    "    cv=3,\n",
    "    verbose=2,\n",
    "    n_jobs=-1\n",
    ")\n"
   ]
  },
  {
   "cell_type": "markdown",
   "metadata": {},
   "source": [
    "<p># cv->cross-validation = 3</p>\n",
    "<p># 8000*0.05=400</p>\n",
    "<p># 400/3=133.33=134</p>\n",
    "<p># 400-134=266 -> number of training samples while using 0.05% data</p>"
   ]
  },
  {
   "cell_type": "code",
   "execution_count": 48,
   "metadata": {},
   "outputs": [
    {
     "data": {
      "text/plain": [
       "(8000, 784)"
      ]
     },
     "execution_count": 48,
     "metadata": {},
     "output_type": "execute_result"
    }
   ],
   "source": [
    "x_train.shape"
   ]
  },
  {
   "cell_type": "code",
   "execution_count": 49,
   "metadata": {},
   "outputs": [],
   "source": [
    "df_learning_curve=pd.DataFrame(\n",
    "    {'train size' : train_sizes,\n",
    "    'train_score':train_scores.mean(axis=1),\n",
    "    'test_score':test_scores.mean(axis=1)}\n",
    ")"
   ]
  },
  {
   "cell_type": "code",
   "execution_count": 53,
   "metadata": {},
   "outputs": [
    {
     "data": {
      "text/html": [
       "<div>\n",
       "<style scoped>\n",
       "    .dataframe tbody tr th:only-of-type {\n",
       "        vertical-align: middle;\n",
       "    }\n",
       "\n",
       "    .dataframe tbody tr th {\n",
       "        vertical-align: top;\n",
       "    }\n",
       "\n",
       "    .dataframe thead th {\n",
       "        text-align: right;\n",
       "    }\n",
       "</style>\n",
       "<table border=\"1\" class=\"dataframe\">\n",
       "  <thead>\n",
       "    <tr style=\"text-align: right;\">\n",
       "      <th></th>\n",
       "      <th>train_score</th>\n",
       "      <th>test_score</th>\n",
       "    </tr>\n",
       "    <tr>\n",
       "      <th>train_sizes</th>\n",
       "      <th></th>\n",
       "      <th></th>\n",
       "    </tr>\n",
       "  </thead>\n",
       "  <tbody>\n",
       "    <tr>\n",
       "      <th>266</th>\n",
       "      <td>1.000000</td>\n",
       "      <td>0.756197</td>\n",
       "    </tr>\n",
       "    <tr>\n",
       "      <th>533</th>\n",
       "      <td>1.000000</td>\n",
       "      <td>0.800220</td>\n",
       "    </tr>\n",
       "    <tr>\n",
       "      <th>1333</th>\n",
       "      <td>1.000000</td>\n",
       "      <td>0.815909</td>\n",
       "    </tr>\n",
       "    <tr>\n",
       "      <th>2666</th>\n",
       "      <td>1.000000</td>\n",
       "      <td>0.833162</td>\n",
       "    </tr>\n",
       "    <tr>\n",
       "      <th>3999</th>\n",
       "      <td>0.997436</td>\n",
       "      <td>0.842505</td>\n",
       "    </tr>\n",
       "    <tr>\n",
       "      <th>5333</th>\n",
       "      <td>0.998679</td>\n",
       "      <td>0.853416</td>\n",
       "    </tr>\n",
       "  </tbody>\n",
       "</table>\n",
       "</div>"
      ],
      "text/plain": [
       "             train_score  test_score\n",
       "train_sizes                         \n",
       "266             1.000000    0.756197\n",
       "533             1.000000    0.800220\n",
       "1333            1.000000    0.815909\n",
       "2666            1.000000    0.833162\n",
       "3999            0.997436    0.842505\n",
       "5333            0.998679    0.853416"
      ]
     },
     "execution_count": 53,
     "metadata": {},
     "output_type": "execute_result"
    }
   ],
   "source": [
    "df_learning_curve.head(n=6)"
   ]
  },
  {
   "cell_type": "code",
   "execution_count": 57,
   "metadata": {},
   "outputs": [
    {
     "data": {
      "text/html": [
       "<div>\n",
       "<style scoped>\n",
       "    .dataframe tbody tr th:only-of-type {\n",
       "        vertical-align: middle;\n",
       "    }\n",
       "\n",
       "    .dataframe tbody tr th {\n",
       "        vertical-align: top;\n",
       "    }\n",
       "\n",
       "    .dataframe thead th {\n",
       "        text-align: right;\n",
       "    }\n",
       "</style>\n",
       "<table border=\"1\" class=\"dataframe\">\n",
       "  <thead>\n",
       "    <tr style=\"text-align: right;\">\n",
       "      <th></th>\n",
       "      <th>train_scores</th>\n",
       "      <th>test_scores</th>\n",
       "    </tr>\n",
       "    <tr>\n",
       "      <th>train_sizes</th>\n",
       "      <th></th>\n",
       "      <th></th>\n",
       "    </tr>\n",
       "  </thead>\n",
       "  <tbody>\n",
       "    <tr>\n",
       "      <th>266</th>\n",
       "      <td>1.000000</td>\n",
       "      <td>0.756197</td>\n",
       "    </tr>\n",
       "    <tr>\n",
       "      <th>533</th>\n",
       "      <td>1.000000</td>\n",
       "      <td>0.800220</td>\n",
       "    </tr>\n",
       "    <tr>\n",
       "      <th>1333</th>\n",
       "      <td>1.000000</td>\n",
       "      <td>0.815909</td>\n",
       "    </tr>\n",
       "    <tr>\n",
       "      <th>2666</th>\n",
       "      <td>1.000000</td>\n",
       "      <td>0.833162</td>\n",
       "    </tr>\n",
       "    <tr>\n",
       "      <th>3999</th>\n",
       "      <td>0.997436</td>\n",
       "      <td>0.842505</td>\n",
       "    </tr>\n",
       "    <tr>\n",
       "      <th>5333</th>\n",
       "      <td>0.998679</td>\n",
       "      <td>0.853416</td>\n",
       "    </tr>\n",
       "  </tbody>\n",
       "</table>\n",
       "</div>"
      ],
      "text/plain": [
       "             train_scores  test_scores\n",
       "train_sizes                           \n",
       "266              1.000000     0.756197\n",
       "533              1.000000     0.800220\n",
       "1333             1.000000     0.815909\n",
       "2666             1.000000     0.833162\n",
       "3999             0.997436     0.842505\n",
       "5333             0.998679     0.853416"
      ]
     },
     "execution_count": 57,
     "metadata": {},
     "output_type": "execute_result"
    }
   ],
   "source": [
    "df_learning_curve=pd.DataFrame(\n",
    "    {'train_sizes' : train_sizes,\n",
    "    'train_scores':train_scores.mean(axis=1),\n",
    "    'test_scores':test_scores.mean(axis=1)}\n",
    ").set_index('train_sizes')\n",
    "df_learning_curve.head(n=6)"
   ]
  },
  {
   "cell_type": "code",
   "execution_count": 61,
   "metadata": {},
   "outputs": [
    {
     "data": {
      "text/plain": [
       "<AxesSubplot:title={'center':'Learning curves'}, xlabel='train_sizes'>"
      ]
     },
     "execution_count": 61,
     "metadata": {},
     "output_type": "execute_result"
    },
    {
     "data": {
      "image/png": "[encoded data removed]",
      "text/plain": [
       "<Figure size 432x288 with 1 Axes>"
      ]
     },
     "metadata": {
      "needs_background": "light"
     },
     "output_type": "display_data"
    }
   ],
   "source": [
    "df_learning_curve['train_scores'].plot(\n",
    "    title='Learning curves',ls=':'\n",
    ")\n",
    "df_learning_curve['test_scores'].plot(\n",
    "    title='Learning curves',ls='-'\n",
    ")"
   ]
  },
  {
   "cell_type": "markdown",
   "metadata": {},
   "source": [
    "<p>plotted against index of the dataframe</p>"
   ]
  },
  {
   "cell_type": "markdown",
   "metadata": {},
   "source": [
    "<p style='color:yellow'><b>learned:</b></p>\n",
    "<p>in this case we should take the whole 8000 sample as training because the curve didn't flat unlike book. look at 199 page</p>"
   ]
  },
  {
   "cell_type": "markdown",
   "metadata": {},
   "source": [
    "<b>we should take the subsets of data only to tune hyperparameters like- learning rate, batch_size etc. after we have learnt these, we should work with the entire data set</b>"
   ]
  },
  {
   "cell_type": "markdown",
   "metadata": {},
   "source": [
    "<p style='color:red'><b>important:</b></p>\n",
    "<ul>\n",
    "    <li>learning curve is used to determine sample size</li>\n",
    "    <li>validation curve is used to determine batch_size,learning rate, epochs</li>\n",
    "</ul>"
   ]
  },
  {
   "cell_type": "markdown",
   "metadata": {},
   "source": [
    "<p><b>need more epochs?</b></p>"
   ]
  },
  {
   "cell_type": "code",
   "execution_count": 62,
   "metadata": {},
   "outputs": [],
   "source": [
    "from sklearn.model_selection import validation_curve"
   ]
  },
  {
   "cell_type": "code",
   "execution_count": 66,
   "metadata": {},
   "outputs": [],
   "source": [
    "max_iter_range=[5,10,25,50,75,100,150]"
   ]
  },
  {
   "cell_type": "code",
   "execution_count": 72,
   "metadata": {},
   "outputs": [
    {
     "name": "stderr",
     "output_type": "stream",
     "text": [
      "[Parallel(n_jobs=-1)]: Using backend LokyBackend with 4 concurrent workers.\n",
      "[Parallel(n_jobs=-1)]: Done  11 out of  21 | elapsed:  1.2min remaining:  1.1min\n",
      "[Parallel(n_jobs=-1)]: Done  21 out of  21 | elapsed:  2.2min finished\n"
     ]
    }
   ],
   "source": [
    "train_scores,test_scores=validation_curve(\n",
    "    MLPClassifier(\n",
    "        hidden_layer_sizes=(100, 100),\n",
    "        solver='adam',\n",
    "        early_stopping=False\n",
    "    ),\n",
    "    x_train, y_train_encoded,\n",
    "    param_name=\"max_iter\", param_range=max_iter_range,\n",
    "    scoring=\"precision_macro\",\n",
    "    cv=3,\n",
    "    verbose=2,\n",
    "    n_jobs=-1\n",
    ")"
   ]
  },
  {
   "cell_type": "code",
   "execution_count": 75,
   "metadata": {},
   "outputs": [],
   "source": [
    "df_epochs=pd.DataFrame({\n",
    "    'iteration':max_iter_range,\n",
    "    'train score':train_scores.mean(axis=1),\n",
    "    'test score':test_scores.mean(axis=1)\n",
    "}).set_index('iteration')"
   ]
  },
  {
   "cell_type": "code",
   "execution_count": 78,
   "metadata": {},
   "outputs": [
    {
     "data": {
      "text/plain": [
       "<AxesSubplot:title={'center':'validation curves'}, xlabel='iteration'>"
      ]
     },
     "execution_count": 78,
     "metadata": {},
     "output_type": "execute_result"
    },
    {
     "data": {
      "image/png": "[encoded data removed]",
      "text/plain": [
       "<Figure size 432x288 with 1 Axes>"
      ]
     },
     "metadata": {
      "needs_background": "light"
     },
     "output_type": "display_data"
    }
   ],
   "source": [
    "df_epochs['train score'].plot(\n",
    "    title='validation curves',\n",
    "    ls=':'\n",
    ")\n",
    "df_epochs['test score'].plot(\n",
    "    title='validation curves',\n",
    "    ls='-'\n",
    ")"
   ]
  },
  {
   "cell_type": "markdown",
   "metadata": {},
   "source": [
    "<p style='color:yellow'><b>learned:</b></p>\n",
    "<ul>\n",
    "    <li>test score stopped improving after around 21 epochs. in this case 21 epochs are enough</li>\n",
    "    <li>in books there is an example of overfitting. page- 201</li>\n",
    "</ul>"
   ]
  },
  {
   "cell_type": "markdown",
   "metadata": {},
   "source": [
    "<p><b>using gridsearchCV and randomizedsearchCV to determine the size of the network</b></p>"
   ]
  },
  {
   "cell_type": "code",
   "execution_count": 34,
   "metadata": {},
   "outputs": [],
   "source": [
    "from sklearn.model_selection import GridSearchCV"
   ]
  },
  {
   "cell_type": "code",
   "execution_count": 36,
   "metadata": {},
   "outputs": [],
   "source": [
    "param_grid={\n",
    "    'hidden_layer_sizes':[(50,), (50, 50), (100, 50), (100, 100), (500,100), (500, 100, 100)],\n",
    "    'learning_rate_init':[0.01,0.001],\n",
    "    'activation':['logistic','relu','tanh'],\n",
    "    'solver':['sgd','adam']\n",
    "}"
   ]
  },
  {
   "cell_type": "code",
   "execution_count": 37,
   "metadata": {},
   "outputs": [
    {
     "name": "stdout",
     "output_type": "stream",
     "text": [
      "Fitting 4 folds for each of 72 candidates, totalling 288 fits\n"
     ]
    },
    {
     "name": "stderr",
     "output_type": "stream",
     "text": [
      "[Parallel(n_jobs=-1)]: Using backend LokyBackend with 4 concurrent workers.\n",
      "[Parallel(n_jobs=-1)]: Done  33 tasks      | elapsed:   58.8s\n",
      "[Parallel(n_jobs=-1)]: Done 154 tasks      | elapsed: 10.5min\n",
      "[Parallel(n_jobs=-1)]: Done 288 out of 288 | elapsed: 25.3min finished\n"
     ]
    },
    {
     "data": {
      "text/plain": [
       "GridSearchCV(cv=4,\n",
       "             estimator=MLPClassifier(batch_size=50, early_stopping=True,\n",
       "                                     max_iter=50),\n",
       "             n_jobs=-1,\n",
       "             param_grid={'activation': ['logistic', 'relu', 'tanh'],\n",
       "                         'hidden_layer_sizes': [(50,), (50, 50), (100, 50),\n",
       "                                                (100, 100), (500, 100),\n",
       "                                                (500, 100, 100)],\n",
       "                         'learning_rate_init': [0.01, 0.001],\n",
       "                         'solver': ['sgd', 'adam']},\n",
       "             verbose=2)"
      ]
     },
     "execution_count": 37,
     "metadata": {},
     "output_type": "execute_result"
    }
   ],
   "source": [
    "gs=GridSearchCV(\n",
    "    estimator=MLPClassifier(\n",
    "        max_iter=50,\n",
    "        batch_size=50,\n",
    "        early_stopping=True\n",
    "    ),\n",
    "    param_grid=param_grid,\n",
    "    cv=4,\n",
    "    verbose=2,\n",
    "    n_jobs=-1\n",
    ")\n",
    "gs.fit(x_train[:2500,:],y_train_encoded[:2500])"
   ]
  },
  {
   "cell_type": "code",
   "execution_count": 40,
   "metadata": {},
   "outputs": [
    {
     "data": {
      "text/plain": [
       "{'mean_fit_time': array([ 5.22167981,  4.37273568,  6.68305242,  6.09695774,  7.97862422,\n",
       "         4.75412536,  2.49494588,  8.65614074, 13.33954895,  9.74682564,\n",
       "         4.16992217, 15.40047312, 14.68840086,  9.15873098,  6.45574653,\n",
       "        15.05685741, 68.46959221, 41.77006662, 34.02769321, 57.19703186,\n",
       "        35.11984158, 61.02991647, 18.26486486, 65.49984199,  4.42953289,\n",
       "         4.25514042,  7.23353386,  4.47754449,  2.91167313,  4.6051715 ,\n",
       "         7.45805734,  5.26146561,  6.42084181, 10.41950125, 13.19683218,\n",
       "         8.36379212,  6.6193375 , 11.33065528, 14.00732708, 10.53064299,\n",
       "        43.54272157, 50.05388939, 63.28508294, 38.62887496, 42.51943064,\n",
       "        57.55522758, 67.99287653, 37.75608277,  5.3299132 ,  3.94218642,\n",
       "         6.57763076,  4.84907955,  3.9795903 ,  3.3518886 ,  6.25730348,\n",
       "         4.8658042 ,  5.73324895,  9.64856011, 13.57113445,  9.77188492,\n",
       "         7.65046239,  8.32150996, 11.49278319,  7.15096837, 39.83872741,\n",
       "        38.27727246, 56.86825687, 45.65678215, 37.15709066, 34.30300176,\n",
       "        59.47046435, 36.70667279]),\n",
       " 'std_fit_time': array([ 1.15965853,  0.63728796,  0.17597415,  1.4257994 ,  0.31432515,\n",
       "         0.60984979,  0.84820604,  1.1100119 ,  0.64279728,  2.16849891,\n",
       "         0.53965418,  1.48494681,  0.18279143,  0.86443219,  3.02434777,\n",
       "         2.12633671,  1.25188724,  3.62001693, 21.80713166, 19.28347754,\n",
       "        23.69767402,  7.90863713,  1.39375793, 13.26801309,  1.03936816,\n",
       "         0.93752664,  0.45571954,  0.45559361,  0.44268595,  0.75576922,\n",
       "         0.15010543,  1.86779416,  1.20425271,  3.59328888,  0.64640013,\n",
       "         2.22449978,  0.91700034,  1.67212086,  1.50348127,  5.15832381,\n",
       "         6.91062097, 13.98715285, 11.2932937 ,  4.60819175,  3.59487229,\n",
       "        11.8327082 ,  5.7994242 ,  5.92255887,  0.91754391,  0.62931074,\n",
       "         0.28255148,  0.81499334,  1.03098952,  0.80866856,  0.96161927,\n",
       "         0.64639136,  1.53516182,  1.19231375,  0.8275458 ,  2.87624429,\n",
       "         1.90921564,  2.20303236,  2.52416731,  0.49216965, 14.22352201,\n",
       "         9.54657434, 14.36363211, 16.57982855,  9.37403301,  7.10325943,\n",
       "         7.83220167,  7.51356753]),\n",
       " 'mean_score_time': array([0.00815862, 0.00796109, 0.00933015, 0.00763786, 0.00845426,\n",
       "        0.00883722, 0.00914419, 0.01068759, 0.01787865, 0.01425904,\n",
       "        0.0140034 , 0.0187394 , 0.01879513, 0.01595426, 0.01544911,\n",
       "        0.01671141, 0.08244032, 0.07531768, 0.07113647, 0.0745573 ,\n",
       "        0.06970727, 0.07491767, 0.07558465, 0.06840289, 0.00916564,\n",
       "        0.0082885 , 0.00770056, 0.01002121, 0.0077517 , 0.00786442,\n",
       "        0.00783384, 0.00919616, 0.01297671, 0.01285958, 0.01850319,\n",
       "        0.01320988, 0.01426792, 0.0145393 , 0.01711738, 0.02218038,\n",
       "        0.06266695, 0.06490415, 0.067837  , 0.06359667, 0.06628889,\n",
       "        0.06544101, 0.07407016, 0.0596633 , 0.0098142 , 0.00974357,\n",
       "        0.0088504 , 0.00859761, 0.0102393 , 0.01007259, 0.00992739,\n",
       "        0.01128376, 0.01611173, 0.01763916, 0.02034575, 0.01814598,\n",
       "        0.01920027, 0.02385396, 0.01976085, 0.02023566, 0.07490665,\n",
       "        0.07679456, 0.07412511, 0.08254874, 0.0792048 , 0.08894229,\n",
       "        0.08139682, 0.04757404]),\n",
       " 'std_score_time': array([0.00053279, 0.00017576, 0.00164838, 0.00066114, 0.00023474,\n",
       "        0.00068893, 0.00030359, 0.00249764, 0.00325592, 0.00050575,\n",
       "        0.000632  , 0.00367586, 0.00257278, 0.00027197, 0.00076269,\n",
       "        0.00087629, 0.01689188, 0.01196767, 0.00698425, 0.01482697,\n",
       "        0.00257735, 0.00682367, 0.0084784 , 0.00874733, 0.00160998,\n",
       "        0.00047937, 0.00034017, 0.00475831, 0.00045771, 0.00025242,\n",
       "        0.00053375, 0.0008619 , 0.00058359, 0.0003512 , 0.00578444,\n",
       "        0.00038778, 0.0004555 , 0.00093779, 0.00336796, 0.01175889,\n",
       "        0.00444152, 0.00152975, 0.00875003, 0.00933568, 0.00129003,\n",
       "        0.00124124, 0.01295785, 0.00683773, 0.00044079, 0.0013045 ,\n",
       "        0.00117495, 0.00049918, 0.00062113, 0.00054652, 0.0002905 ,\n",
       "        0.00045002, 0.00087404, 0.00117159, 0.00552469, 0.00196134,\n",
       "        0.00051893, 0.00687729, 0.00210616, 0.00132315, 0.00336817,\n",
       "        0.00243487, 0.00827077, 0.01050678, 0.00197517, 0.00794335,\n",
       "        0.00176484, 0.02079028]),\n",
       " 'param_activation': masked_array(data=['logistic', 'logistic', 'logistic', 'logistic',\n",
       "                    'logistic', 'logistic', 'logistic', 'logistic',\n",
       "                    'logistic', 'logistic', 'logistic', 'logistic',\n",
       "                    'logistic', 'logistic', 'logistic', 'logistic',\n",
       "                    'logistic', 'logistic', 'logistic', 'logistic',\n",
       "                    'logistic', 'logistic', 'logistic', 'logistic', 'relu',\n",
       "                    'relu', 'relu', 'relu', 'relu', 'relu', 'relu', 'relu',\n",
       "                    'relu', 'relu', 'relu', 'relu', 'relu', 'relu', 'relu',\n",
       "                    'relu', 'relu', 'relu', 'relu', 'relu', 'relu', 'relu',\n",
       "                    'relu', 'relu', 'tanh', 'tanh', 'tanh', 'tanh', 'tanh',\n",
       "                    'tanh', 'tanh', 'tanh', 'tanh', 'tanh', 'tanh', 'tanh',\n",
       "                    'tanh', 'tanh', 'tanh', 'tanh', 'tanh', 'tanh', 'tanh',\n",
       "                    'tanh', 'tanh', 'tanh', 'tanh', 'tanh'],\n",
       "              mask=[False, False, False, False, False, False, False, False,\n",
       "                    False, False, False, False, False, False, False, False,\n",
       "                    False, False, False, False, False, False, False, False,\n",
       "                    False, False, False, False, False, False, False, False,\n",
       "                    False, False, False, False, False, False, False, False,\n",
       "                    False, False, False, False, False, False, False, False,\n",
       "                    False, False, False, False, False, False, False, False,\n",
       "                    False, False, False, False, False, False, False, False,\n",
       "                    False, False, False, False, False, False, False, False],\n",
       "        fill_value='?',\n",
       "             dtype=object),\n",
       " 'param_hidden_layer_sizes': masked_array(data=[(50,), (50,), (50,), (50,), (50, 50), (50, 50),\n",
       "                    (50, 50), (50, 50), (100, 50), (100, 50), (100, 50),\n",
       "                    (100, 50), (100, 100), (100, 100), (100, 100),\n",
       "                    (100, 100), (500, 100), (500, 100), (500, 100),\n",
       "                    (500, 100), (500, 100, 100), (500, 100, 100),\n",
       "                    (500, 100, 100), (500, 100, 100), (50,), (50,), (50,),\n",
       "                    (50,), (50, 50), (50, 50), (50, 50), (50, 50),\n",
       "                    (100, 50), (100, 50), (100, 50), (100, 50), (100, 100),\n",
       "                    (100, 100), (100, 100), (100, 100), (500, 100),\n",
       "                    (500, 100), (500, 100), (500, 100), (500, 100, 100),\n",
       "                    (500, 100, 100), (500, 100, 100), (500, 100, 100),\n",
       "                    (50,), (50,), (50,), (50,), (50, 50), (50, 50),\n",
       "                    (50, 50), (50, 50), (100, 50), (100, 50), (100, 50),\n",
       "                    (100, 50), (100, 100), (100, 100), (100, 100),\n",
       "                    (100, 100), (500, 100), (500, 100), (500, 100),\n",
       "                    (500, 100), (500, 100, 100), (500, 100, 100),\n",
       "                    (500, 100, 100), (500, 100, 100)],\n",
       "              mask=[False, False, False, False, False, False, False, False,\n",
       "                    False, False, False, False, False, False, False, False,\n",
       "                    False, False, False, False, False, False, False, False,\n",
       "                    False, False, False, False, False, False, False, False,\n",
       "                    False, False, False, False, False, False, False, False,\n",
       "                    False, False, False, False, False, False, False, False,\n",
       "                    False, False, False, False, False, False, False, False,\n",
       "                    False, False, False, False, False, False, False, False,\n",
       "                    False, False, False, False, False, False, False, False],\n",
       "        fill_value='?',\n",
       "             dtype=object),\n",
       " 'param_learning_rate_init': masked_array(data=[0.01, 0.01, 0.001, 0.001, 0.01, 0.01, 0.001, 0.001,\n",
       "                    0.01, 0.01, 0.001, 0.001, 0.01, 0.01, 0.001, 0.001,\n",
       "                    0.01, 0.01, 0.001, 0.001, 0.01, 0.01, 0.001, 0.001,\n",
       "                    0.01, 0.01, 0.001, 0.001, 0.01, 0.01, 0.001, 0.001,\n",
       "                    0.01, 0.01, 0.001, 0.001, 0.01, 0.01, 0.001, 0.001,\n",
       "                    0.01, 0.01, 0.001, 0.001, 0.01, 0.01, 0.001, 0.001,\n",
       "                    0.01, 0.01, 0.001, 0.001, 0.01, 0.01, 0.001, 0.001,\n",
       "                    0.01, 0.01, 0.001, 0.001, 0.01, 0.01, 0.001, 0.001,\n",
       "                    0.01, 0.01, 0.001, 0.001, 0.01, 0.01, 0.001, 0.001],\n",
       "              mask=[False, False, False, False, False, False, False, False,\n",
       "                    False, False, False, False, False, False, False, False,\n",
       "                    False, False, False, False, False, False, False, False,\n",
       "                    False, False, False, False, False, False, False, False,\n",
       "                    False, False, False, False, False, False, False, False,\n",
       "                    False, False, False, False, False, False, False, False,\n",
       "                    False, False, False, False, False, False, False, False,\n",
       "                    False, False, False, False, False, False, False, False,\n",
       "                    False, False, False, False, False, False, False, False],\n",
       "        fill_value='?',\n",
       "             dtype=object),\n",
       " 'param_solver': masked_array(data=['sgd', 'adam', 'sgd', 'adam', 'sgd', 'adam', 'sgd',\n",
       "                    'adam', 'sgd', 'adam', 'sgd', 'adam', 'sgd', 'adam',\n",
       "                    'sgd', 'adam', 'sgd', 'adam', 'sgd', 'adam', 'sgd',\n",
       "                    'adam', 'sgd', 'adam', 'sgd', 'adam', 'sgd', 'adam',\n",
       "                    'sgd', 'adam', 'sgd', 'adam', 'sgd', 'adam', 'sgd',\n",
       "                    'adam', 'sgd', 'adam', 'sgd', 'adam', 'sgd', 'adam',\n",
       "                    'sgd', 'adam', 'sgd', 'adam', 'sgd', 'adam', 'sgd',\n",
       "                    'adam', 'sgd', 'adam', 'sgd', 'adam', 'sgd', 'adam',\n",
       "                    'sgd', 'adam', 'sgd', 'adam', 'sgd', 'adam', 'sgd',\n",
       "                    'adam', 'sgd', 'adam', 'sgd', 'adam', 'sgd', 'adam',\n",
       "                    'sgd', 'adam'],\n",
       "              mask=[False, False, False, False, False, False, False, False,\n",
       "                    False, False, False, False, False, False, False, False,\n",
       "                    False, False, False, False, False, False, False, False,\n",
       "                    False, False, False, False, False, False, False, False,\n",
       "                    False, False, False, False, False, False, False, False,\n",
       "                    False, False, False, False, False, False, False, False,\n",
       "                    False, False, False, False, False, False, False, False,\n",
       "                    False, False, False, False, False, False, False, False,\n",
       "                    False, False, False, False, False, False, False, False],\n",
       "        fill_value='?',\n",
       "             dtype=object),\n",
       " 'params': [{'activation': 'logistic',\n",
       "   'hidden_layer_sizes': (50,),\n",
       "   'learning_rate_init': 0.01,\n",
       "   'solver': 'sgd'},\n",
       "  {'activation': 'logistic',\n",
       "   'hidden_layer_sizes': (50,),\n",
       "   'learning_rate_init': 0.01,\n",
       "   'solver': 'adam'},\n",
       "  {'activation': 'logistic',\n",
       "   'hidden_layer_sizes': (50,),\n",
       "   'learning_rate_init': 0.001,\n",
       "   'solver': 'sgd'},\n",
       "  {'activation': 'logistic',\n",
       "   'hidden_layer_sizes': (50,),\n",
       "   'learning_rate_init': 0.001,\n",
       "   'solver': 'adam'},\n",
       "  {'activation': 'logistic',\n",
       "   'hidden_layer_sizes': (50, 50),\n",
       "   'learning_rate_init': 0.01,\n",
       "   'solver': 'sgd'},\n",
       "  {'activation': 'logistic',\n",
       "   'hidden_layer_sizes': (50, 50),\n",
       "   'learning_rate_init': 0.01,\n",
       "   'solver': 'adam'},\n",
       "  {'activation': 'logistic',\n",
       "   'hidden_layer_sizes': (50, 50),\n",
       "   'learning_rate_init': 0.001,\n",
       "   'solver': 'sgd'},\n",
       "  {'activation': 'logistic',\n",
       "   'hidden_layer_sizes': (50, 50),\n",
       "   'learning_rate_init': 0.001,\n",
       "   'solver': 'adam'},\n",
       "  {'activation': 'logistic',\n",
       "   'hidden_layer_sizes': (100, 50),\n",
       "   'learning_rate_init': 0.01,\n",
       "   'solver': 'sgd'},\n",
       "  {'activation': 'logistic',\n",
       "   'hidden_layer_sizes': (100, 50),\n",
       "   'learning_rate_init': 0.01,\n",
       "   'solver': 'adam'},\n",
       "  {'activation': 'logistic',\n",
       "   'hidden_layer_sizes': (100, 50),\n",
       "   'learning_rate_init': 0.001,\n",
       "   'solver': 'sgd'},\n",
       "  {'activation': 'logistic',\n",
       "   'hidden_layer_sizes': (100, 50),\n",
       "   'learning_rate_init': 0.001,\n",
       "   'solver': 'adam'},\n",
       "  {'activation': 'logistic',\n",
       "   'hidden_layer_sizes': (100, 100),\n",
       "   'learning_rate_init': 0.01,\n",
       "   'solver': 'sgd'},\n",
       "  {'activation': 'logistic',\n",
       "   'hidden_layer_sizes': (100, 100),\n",
       "   'learning_rate_init': 0.01,\n",
       "   'solver': 'adam'},\n",
       "  {'activation': 'logistic',\n",
       "   'hidden_layer_sizes': (100, 100),\n",
       "   'learning_rate_init': 0.001,\n",
       "   'solver': 'sgd'},\n",
       "  {'activation': 'logistic',\n",
       "   'hidden_layer_sizes': (100, 100),\n",
       "   'learning_rate_init': 0.001,\n",
       "   'solver': 'adam'},\n",
       "  {'activation': 'logistic',\n",
       "   'hidden_layer_sizes': (500, 100),\n",
       "   'learning_rate_init': 0.01,\n",
       "   'solver': 'sgd'},\n",
       "  {'activation': 'logistic',\n",
       "   'hidden_layer_sizes': (500, 100),\n",
       "   'learning_rate_init': 0.01,\n",
       "   'solver': 'adam'},\n",
       "  {'activation': 'logistic',\n",
       "   'hidden_layer_sizes': (500, 100),\n",
       "   'learning_rate_init': 0.001,\n",
       "   'solver': 'sgd'},\n",
       "  {'activation': 'logistic',\n",
       "   'hidden_layer_sizes': (500, 100),\n",
       "   'learning_rate_init': 0.001,\n",
       "   'solver': 'adam'},\n",
       "  {'activation': 'logistic',\n",
       "   'hidden_layer_sizes': (500, 100, 100),\n",
       "   'learning_rate_init': 0.01,\n",
       "   'solver': 'sgd'},\n",
       "  {'activation': 'logistic',\n",
       "   'hidden_layer_sizes': (500, 100, 100),\n",
       "   'learning_rate_init': 0.01,\n",
       "   'solver': 'adam'},\n",
       "  {'activation': 'logistic',\n",
       "   'hidden_layer_sizes': (500, 100, 100),\n",
       "   'learning_rate_init': 0.001,\n",
       "   'solver': 'sgd'},\n",
       "  {'activation': 'logistic',\n",
       "   'hidden_layer_sizes': (500, 100, 100),\n",
       "   'learning_rate_init': 0.001,\n",
       "   'solver': 'adam'},\n",
       "  {'activation': 'relu',\n",
       "   'hidden_layer_sizes': (50,),\n",
       "   'learning_rate_init': 0.01,\n",
       "   'solver': 'sgd'},\n",
       "  {'activation': 'relu',\n",
       "   'hidden_layer_sizes': (50,),\n",
       "   'learning_rate_init': 0.01,\n",
       "   'solver': 'adam'},\n",
       "  {'activation': 'relu',\n",
       "   'hidden_layer_sizes': (50,),\n",
       "   'learning_rate_init': 0.001,\n",
       "   'solver': 'sgd'},\n",
       "  {'activation': 'relu',\n",
       "   'hidden_layer_sizes': (50,),\n",
       "   'learning_rate_init': 0.001,\n",
       "   'solver': 'adam'},\n",
       "  {'activation': 'relu',\n",
       "   'hidden_layer_sizes': (50, 50),\n",
       "   'learning_rate_init': 0.01,\n",
       "   'solver': 'sgd'},\n",
       "  {'activation': 'relu',\n",
       "   'hidden_layer_sizes': (50, 50),\n",
       "   'learning_rate_init': 0.01,\n",
       "   'solver': 'adam'},\n",
       "  {'activation': 'relu',\n",
       "   'hidden_layer_sizes': (50, 50),\n",
       "   'learning_rate_init': 0.001,\n",
       "   'solver': 'sgd'},\n",
       "  {'activation': 'relu',\n",
       "   'hidden_layer_sizes': (50, 50),\n",
       "   'learning_rate_init': 0.001,\n",
       "   'solver': 'adam'},\n",
       "  {'activation': 'relu',\n",
       "   'hidden_layer_sizes': (100, 50),\n",
       "   'learning_rate_init': 0.01,\n",
       "   'solver': 'sgd'},\n",
       "  {'activation': 'relu',\n",
       "   'hidden_layer_sizes': (100, 50),\n",
       "   'learning_rate_init': 0.01,\n",
       "   'solver': 'adam'},\n",
       "  {'activation': 'relu',\n",
       "   'hidden_layer_sizes': (100, 50),\n",
       "   'learning_rate_init': 0.001,\n",
       "   'solver': 'sgd'},\n",
       "  {'activation': 'relu',\n",
       "   'hidden_layer_sizes': (100, 50),\n",
       "   'learning_rate_init': 0.001,\n",
       "   'solver': 'adam'},\n",
       "  {'activation': 'relu',\n",
       "   'hidden_layer_sizes': (100, 100),\n",
       "   'learning_rate_init': 0.01,\n",
       "   'solver': 'sgd'},\n",
       "  {'activation': 'relu',\n",
       "   'hidden_layer_sizes': (100, 100),\n",
       "   'learning_rate_init': 0.01,\n",
       "   'solver': 'adam'},\n",
       "  {'activation': 'relu',\n",
       "   'hidden_layer_sizes': (100, 100),\n",
       "   'learning_rate_init': 0.001,\n",
       "   'solver': 'sgd'},\n",
       "  {'activation': 'relu',\n",
       "   'hidden_layer_sizes': (100, 100),\n",
       "   'learning_rate_init': 0.001,\n",
       "   'solver': 'adam'},\n",
       "  {'activation': 'relu',\n",
       "   'hidden_layer_sizes': (500, 100),\n",
       "   'learning_rate_init': 0.01,\n",
       "   'solver': 'sgd'},\n",
       "  {'activation': 'relu',\n",
       "   'hidden_layer_sizes': (500, 100),\n",
       "   'learning_rate_init': 0.01,\n",
       "   'solver': 'adam'},\n",
       "  {'activation': 'relu',\n",
       "   'hidden_layer_sizes': (500, 100),\n",
       "   'learning_rate_init': 0.001,\n",
       "   'solver': 'sgd'},\n",
       "  {'activation': 'relu',\n",
       "   'hidden_layer_sizes': (500, 100),\n",
       "   'learning_rate_init': 0.001,\n",
       "   'solver': 'adam'},\n",
       "  {'activation': 'relu',\n",
       "   'hidden_layer_sizes': (500, 100, 100),\n",
       "   'learning_rate_init': 0.01,\n",
       "   'solver': 'sgd'},\n",
       "  {'activation': 'relu',\n",
       "   'hidden_layer_sizes': (500, 100, 100),\n",
       "   'learning_rate_init': 0.01,\n",
       "   'solver': 'adam'},\n",
       "  {'activation': 'relu',\n",
       "   'hidden_layer_sizes': (500, 100, 100),\n",
       "   'learning_rate_init': 0.001,\n",
       "   'solver': 'sgd'},\n",
       "  {'activation': 'relu',\n",
       "   'hidden_layer_sizes': (500, 100, 100),\n",
       "   'learning_rate_init': 0.001,\n",
       "   'solver': 'adam'},\n",
       "  {'activation': 'tanh',\n",
       "   'hidden_layer_sizes': (50,),\n",
       "   'learning_rate_init': 0.01,\n",
       "   'solver': 'sgd'},\n",
       "  {'activation': 'tanh',\n",
       "   'hidden_layer_sizes': (50,),\n",
       "   'learning_rate_init': 0.01,\n",
       "   'solver': 'adam'},\n",
       "  {'activation': 'tanh',\n",
       "   'hidden_layer_sizes': (50,),\n",
       "   'learning_rate_init': 0.001,\n",
       "   'solver': 'sgd'},\n",
       "  {'activation': 'tanh',\n",
       "   'hidden_layer_sizes': (50,),\n",
       "   'learning_rate_init': 0.001,\n",
       "   'solver': 'adam'},\n",
       "  {'activation': 'tanh',\n",
       "   'hidden_layer_sizes': (50, 50),\n",
       "   'learning_rate_init': 0.01,\n",
       "   'solver': 'sgd'},\n",
       "  {'activation': 'tanh',\n",
       "   'hidden_layer_sizes': (50, 50),\n",
       "   'learning_rate_init': 0.01,\n",
       "   'solver': 'adam'},\n",
       "  {'activation': 'tanh',\n",
       "   'hidden_layer_sizes': (50, 50),\n",
       "   'learning_rate_init': 0.001,\n",
       "   'solver': 'sgd'},\n",
       "  {'activation': 'tanh',\n",
       "   'hidden_layer_sizes': (50, 50),\n",
       "   'learning_rate_init': 0.001,\n",
       "   'solver': 'adam'},\n",
       "  {'activation': 'tanh',\n",
       "   'hidden_layer_sizes': (100, 50),\n",
       "   'learning_rate_init': 0.01,\n",
       "   'solver': 'sgd'},\n",
       "  {'activation': 'tanh',\n",
       "   'hidden_layer_sizes': (100, 50),\n",
       "   'learning_rate_init': 0.01,\n",
       "   'solver': 'adam'},\n",
       "  {'activation': 'tanh',\n",
       "   'hidden_layer_sizes': (100, 50),\n",
       "   'learning_rate_init': 0.001,\n",
       "   'solver': 'sgd'},\n",
       "  {'activation': 'tanh',\n",
       "   'hidden_layer_sizes': (100, 50),\n",
       "   'learning_rate_init': 0.001,\n",
       "   'solver': 'adam'},\n",
       "  {'activation': 'tanh',\n",
       "   'hidden_layer_sizes': (100, 100),\n",
       "   'learning_rate_init': 0.01,\n",
       "   'solver': 'sgd'},\n",
       "  {'activation': 'tanh',\n",
       "   'hidden_layer_sizes': (100, 100),\n",
       "   'learning_rate_init': 0.01,\n",
       "   'solver': 'adam'},\n",
       "  {'activation': 'tanh',\n",
       "   'hidden_layer_sizes': (100, 100),\n",
       "   'learning_rate_init': 0.001,\n",
       "   'solver': 'sgd'},\n",
       "  {'activation': 'tanh',\n",
       "   'hidden_layer_sizes': (100, 100),\n",
       "   'learning_rate_init': 0.001,\n",
       "   'solver': 'adam'},\n",
       "  {'activation': 'tanh',\n",
       "   'hidden_layer_sizes': (500, 100),\n",
       "   'learning_rate_init': 0.01,\n",
       "   'solver': 'sgd'},\n",
       "  {'activation': 'tanh',\n",
       "   'hidden_layer_sizes': (500, 100),\n",
       "   'learning_rate_init': 0.01,\n",
       "   'solver': 'adam'},\n",
       "  {'activation': 'tanh',\n",
       "   'hidden_layer_sizes': (500, 100),\n",
       "   'learning_rate_init': 0.001,\n",
       "   'solver': 'sgd'},\n",
       "  {'activation': 'tanh',\n",
       "   'hidden_layer_sizes': (500, 100),\n",
       "   'learning_rate_init': 0.001,\n",
       "   'solver': 'adam'},\n",
       "  {'activation': 'tanh',\n",
       "   'hidden_layer_sizes': (500, 100, 100),\n",
       "   'learning_rate_init': 0.01,\n",
       "   'solver': 'sgd'},\n",
       "  {'activation': 'tanh',\n",
       "   'hidden_layer_sizes': (500, 100, 100),\n",
       "   'learning_rate_init': 0.01,\n",
       "   'solver': 'adam'},\n",
       "  {'activation': 'tanh',\n",
       "   'hidden_layer_sizes': (500, 100, 100),\n",
       "   'learning_rate_init': 0.001,\n",
       "   'solver': 'sgd'},\n",
       "  {'activation': 'tanh',\n",
       "   'hidden_layer_sizes': (500, 100, 100),\n",
       "   'learning_rate_init': 0.001,\n",
       "   'solver': 'adam'}],\n",
       " 'split0_test_score': array([0.7936, 0.824 , 0.7056, 0.8   , 0.7264, 0.7984, 0.1056, 0.8096,\n",
       "        0.7264, 0.8032, 0.112 , 0.8096, 0.7408, 0.7968, 0.2976, 0.8192,\n",
       "        0.7632, 0.8048, 0.2096, 0.7808, 0.112 , 0.8064, 0.0992, 0.808 ,\n",
       "        0.792 , 0.7904, 0.784 , 0.8032, 0.7872, 0.8032, 0.7888, 0.808 ,\n",
       "        0.8016, 0.7888, 0.7952, 0.8112, 0.8176, 0.7744, 0.7872, 0.8032,\n",
       "        0.8128, 0.816 , 0.8096, 0.7968, 0.792 , 0.8032, 0.8064, 0.8176,\n",
       "        0.808 , 0.768 , 0.784 , 0.8192, 0.808 , 0.7872, 0.776 , 0.8128,\n",
       "        0.7888, 0.768 , 0.7952, 0.8176, 0.7888, 0.8   , 0.7776, 0.808 ,\n",
       "        0.8144, 0.7344, 0.792 , 0.8128, 0.8016, 0.6832, 0.7984, 0.8064]),\n",
       " 'split1_test_score': array([0.8   , 0.8112, 0.7008, 0.808 , 0.7296, 0.8   , 0.104 , 0.7952,\n",
       "        0.7072, 0.824 , 0.1088, 0.8256, 0.736 , 0.8144, 0.112 , 0.8112,\n",
       "        0.7392, 0.808 , 0.112 , 0.8224, 0.6352, 0.8016, 0.112 , 0.768 ,\n",
       "        0.8208, 0.8336, 0.7968, 0.816 , 0.7744, 0.8128, 0.8048, 0.816 ,\n",
       "        0.824 , 0.8208, 0.7904, 0.8192, 0.8176, 0.824 , 0.7856, 0.8192,\n",
       "        0.8128, 0.816 , 0.8144, 0.8272, 0.8224, 0.8128, 0.8112, 0.808 ,\n",
       "        0.8224, 0.792 , 0.7984, 0.8224, 0.8096, 0.8048, 0.7792, 0.8256,\n",
       "        0.8064, 0.7872, 0.7952, 0.8128, 0.8272, 0.7776, 0.7824, 0.8128,\n",
       "        0.8112, 0.7424, 0.8208, 0.8384, 0.7968, 0.7008, 0.8048, 0.8096]),\n",
       " 'split2_test_score': array([0.7616, 0.7888, 0.6544, 0.7872, 0.6912, 0.8032, 0.1264, 0.768 ,\n",
       "        0.6848, 0.7744, 0.0992, 0.784 , 0.7072, 0.7936, 0.2048, 0.792 ,\n",
       "        0.7088, 0.7952, 0.4768, 0.7728, 0.0992, 0.7824, 0.1136, 0.7824,\n",
       "        0.8   , 0.8   , 0.7632, 0.7824, 0.7824, 0.7776, 0.7824, 0.7904,\n",
       "        0.7856, 0.808 , 0.7472, 0.7888, 0.7696, 0.7664, 0.7776, 0.768 ,\n",
       "        0.776 , 0.8032, 0.776 , 0.8128, 0.7872, 0.7872, 0.7744, 0.8128,\n",
       "        0.8032, 0.7696, 0.7552, 0.7728, 0.8016, 0.7424, 0.7648, 0.7792,\n",
       "        0.7872, 0.7712, 0.768 , 0.7744, 0.8   , 0.7488, 0.7712, 0.7904,\n",
       "        0.7936, 0.68  , 0.7872, 0.8048, 0.8096, 0.6336, 0.776 , 0.7792]),\n",
       " 'split3_test_score': array([0.7328, 0.8064, 0.6016, 0.8352, 0.664 , 0.8128, 0.192 , 0.8064,\n",
       "        0.6656, 0.8048, 0.1136, 0.8176, 0.7008, 0.7904, 0.112 , 0.8224,\n",
       "        0.7216, 0.8208, 0.1824, 0.8256, 0.112 , 0.816 , 0.104 , 0.7728,\n",
       "        0.7792, 0.8112, 0.776 , 0.8032, 0.816 , 0.8112, 0.792 , 0.8016,\n",
       "        0.808 , 0.8208, 0.792 , 0.8304, 0.7696, 0.8176, 0.8064, 0.824 ,\n",
       "        0.8096, 0.8192, 0.8096, 0.8064, 0.8128, 0.8096, 0.7936, 0.792 ,\n",
       "        0.8064, 0.7968, 0.7648, 0.8064, 0.8112, 0.7664, 0.7904, 0.8336,\n",
       "        0.7984, 0.8032, 0.7968, 0.8192, 0.7968, 0.7744, 0.7808, 0.8064,\n",
       "        0.8096, 0.712 , 0.768 , 0.8224, 0.824 , 0.6272, 0.8048, 0.8272]),\n",
       " 'mean_test_score': array([0.772 , 0.8076, 0.6656, 0.8076, 0.7028, 0.8036, 0.132 , 0.7948,\n",
       "        0.696 , 0.8016, 0.1084, 0.8092, 0.7212, 0.7988, 0.1816, 0.8112,\n",
       "        0.7332, 0.8072, 0.2452, 0.8004, 0.2396, 0.8016, 0.1072, 0.7828,\n",
       "        0.798 , 0.8088, 0.78  , 0.8012, 0.79  , 0.8012, 0.792 , 0.804 ,\n",
       "        0.8048, 0.8096, 0.7812, 0.8124, 0.7936, 0.7956, 0.7892, 0.8036,\n",
       "        0.8028, 0.8136, 0.8024, 0.8108, 0.8036, 0.8032, 0.7964, 0.8076,\n",
       "        0.81  , 0.7816, 0.7756, 0.8052, 0.8076, 0.7752, 0.7776, 0.8128,\n",
       "        0.7952, 0.7824, 0.7888, 0.806 , 0.8032, 0.7752, 0.778 , 0.8044,\n",
       "        0.8072, 0.7172, 0.792 , 0.8196, 0.808 , 0.6612, 0.796 , 0.8056]),\n",
       " 'std_test_score': array([0.02690427, 0.01261745, 0.04201333, 0.01757726, 0.0269963 ,\n",
       "        0.0055857 , 0.03575024, 0.01637071, 0.02290851, 0.01770875,\n",
       "        0.0055857 , 0.01561025, 0.01743101, 0.00928655, 0.0769457 ,\n",
       "        0.01181186, 0.02040784, 0.00915642, 0.1383763 , 0.0237958 ,\n",
       "        0.22845954, 0.01223765, 0.00587878, 0.01544539, 0.01511026,\n",
       "        0.01609969, 0.01221147, 0.01204658, 0.01569204, 0.01410248,\n",
       "        0.00815843, 0.00936376, 0.01376372, 0.01309656, 0.01970584,\n",
       "        0.0152368 , 0.024     , 0.02545899, 0.01057544, 0.02194903,\n",
       "        0.01552804, 0.00614492, 0.0153675 , 0.01104898, 0.01450517,\n",
       "        0.00986306, 0.01423798, 0.00962497, 0.00736478, 0.0129244 ,\n",
       "        0.01675709, 0.01964077, 0.00364417, 0.02331008, 0.0091214 ,\n",
       "        0.02076921, 0.00775629, 0.01403994, 0.01202664, 0.01839565,\n",
       "        0.01444438, 0.01815489, 0.00428952, 0.00841903, 0.0080399 ,\n",
       "        0.02419587, 0.01889762, 0.01251559, 0.01030728, 0.03150365,\n",
       "        0.01183892, 0.01717673]),\n",
       " 'rank_test_score': array([59, 12, 65, 12, 63, 24, 70, 42, 64, 31, 71,  9, 61, 36, 69,  5, 60,\n",
       "        17, 67, 35, 68, 32, 72, 49, 37, 10, 53, 33, 46, 33, 44, 23, 21,  8,\n",
       "        52,  4, 43, 40, 47, 26, 29,  2, 30,  6, 24, 28, 38, 15,  7, 51, 56,\n",
       "        20, 12, 57, 55,  3, 41, 50, 48, 18, 27, 57, 54, 22, 16, 62, 44,  1,\n",
       "        11, 66, 39, 19], dtype=int32)}"
      ]
     },
     "execution_count": 40,
     "metadata": {},
     "output_type": "execute_result"
    }
   ],
   "source": [
    "gs.cv_results_"
   ]
  },
  {
   "cell_type": "code",
   "execution_count": 42,
   "metadata": {},
   "outputs": [
    {
     "data": {
      "text/plain": [
       "{'activation': 'tanh',\n",
       " 'hidden_layer_sizes': (500, 100),\n",
       " 'learning_rate_init': 0.001,\n",
       " 'solver': 'adam'}"
      ]
     },
     "execution_count": 42,
     "metadata": {},
     "output_type": "execute_result"
    }
   ],
   "source": [
    "gs.best_params_"
   ]
  },
  {
   "cell_type": "code",
   "execution_count": 43,
   "metadata": {},
   "outputs": [
    {
     "data": {
      "text/plain": [
       "0.8196"
      ]
     },
     "execution_count": 43,
     "metadata": {},
     "output_type": "execute_result"
    }
   ],
   "source": [
    "gs.best_score_"
   ]
  },
  {
   "cell_type": "code",
   "execution_count": 44,
   "metadata": {},
   "outputs": [
    {
     "data": {
      "text/plain": [
       "MLPClassifier(activation='tanh', batch_size=50, early_stopping=True,\n",
       "              hidden_layer_sizes=(500, 100), max_iter=50)"
      ]
     },
     "execution_count": 44,
     "metadata": {},
     "output_type": "execute_result"
    }
   ],
   "source": [
    "gs.best_estimator_"
   ]
  },
  {
   "cell_type": "markdown",
   "metadata": {},
   "source": [
    "<b>Convolution</b>"
   ]
  },
  {
   "cell_type": "code",
   "execution_count": 19,
   "metadata": {},
   "outputs": [],
   "source": [
    "import numpy as np\n",
    "x_example =np.array([\n",
    "    [0,0,0,0,0],\n",
    "    [0,0,0,0,0],\n",
    "    [0,0,1,1,0],\n",
    "    [0,0,1,1,0],\n",
    "    [0,0,0,0,0]\n",
    "])"
   ]
  },
  {
   "cell_type": "code",
   "execution_count": 20,
   "metadata": {},
   "outputs": [],
   "source": [
    "from scipy import ndimage"
   ]
  },
  {
   "cell_type": "code",
   "execution_count": 6,
   "metadata": {},
   "outputs": [],
   "source": [
    "kernel=[[1,1,1],[1,1,1],[1,1,1]]"
   ]
  },
  {
   "cell_type": "code",
   "execution_count": 7,
   "metadata": {},
   "outputs": [],
   "source": [
    "x_example_convolve=ndimage.convolve(x_example,kernel,mode='constant',cval=0)\n",
    "x_example_convolve=x_example_convolve/9"
   ]
  },
  {
   "cell_type": "code",
   "execution_count": 9,
   "metadata": {},
   "outputs": [],
   "source": [
    "import matplotlib.pyplot as plt"
   ]
  },
  {
   "cell_type": "code",
   "execution_count": 16,
   "metadata": {},
   "outputs": [
    {
     "data": {
      "text/plain": [
       "array([[0.        , 0.        , 0.        , 0.        , 0.        ],\n",
       "       [0.        , 0.11111111, 0.22222222, 0.22222222, 0.11111111],\n",
       "       [0.        , 0.22222222, 0.44444444, 0.44444444, 0.22222222],\n",
       "       [0.        , 0.22222222, 0.44444444, 0.44444444, 0.22222222],\n",
       "       [0.        , 0.11111111, 0.22222222, 0.22222222, 0.11111111]])"
      ]
     },
     "execution_count": 16,
     "metadata": {},
     "output_type": "execute_result"
    }
   ],
   "source": [
    "x_example_convolve"
   ]
  },
  {
   "cell_type": "code",
   "execution_count": 15,
   "metadata": {},
   "outputs": [
    {
     "data": {
      "text/plain": [
       "<matplotlib.image.AxesImage at 0x7f82bbd95490>"
      ]
     },
     "execution_count": 15,
     "metadata": {},
     "output_type": "execute_result"
    },
    {
     "data": {
      "image/png": "[encoded data removed]",
      "text/plain": [
       "<Figure size 1152x864 with 2 Axes>"
      ]
     },
     "metadata": {
      "needs_background": "light"
     },
     "output_type": "display_data"
    }
   ],
   "source": [
    "fig,axs=plt.subplots(1,2,figsize=(16,12))\n",
    "axs[0].imshow(x_example)\n",
    "axs[1].imshow(x_example_convolve)"
   ]
  },
  {
   "cell_type": "markdown",
   "metadata": {},
   "source": [
    "<p><b>Feature extraction using convolution</b></p>"
   ]
  },
  {
   "cell_type": "code",
   "execution_count": 42,
   "metadata": {},
   "outputs": [],
   "source": [
    "from scipy import ndimage\n",
    "from sklearn.preprocessing import MinMaxScaler\n",
    "import numpy as np"
   ]
  },
  {
   "cell_type": "code",
   "execution_count": 50,
   "metadata": {},
   "outputs": [],
   "source": [
    "def convolve(x, kernel=[[1,1,1],[1,1,1],[1,1,1]]):\n",
    "    w=int(np.sqrt(x.shape[1]))\n",
    "    #print(w)\n",
    "    x=ndimage.convolve(\n",
    "      np.array(x).reshape((x.shape[0],w,w)),[kernel],\n",
    "      mode='constant',cval=0.0\n",
    "        )\n",
    "    x=x.reshape(x.shape[0],x.shape[1]*x.shape[2])\n",
    "    return MinMaxScaler().fit_transform(x)"
   ]
  },
  {
   "cell_type": "code",
   "execution_count": 44,
   "metadata": {},
   "outputs": [
    {
     "data": {
      "text/plain": [
       "(8000, 784)"
      ]
     },
     "execution_count": 44,
     "metadata": {},
     "output_type": "execute_result"
    }
   ],
   "source": [
    "x_train.shape"
   ]
  },
  {
   "cell_type": "markdown",
   "metadata": {},
   "source": [
    "<p style=\"color:yellow\"><b>sharpen kernel</b></p>"
   ]
  },
  {
   "cell_type": "code",
   "execution_count": 54,
   "metadata": {},
   "outputs": [],
   "source": [
    "sharpen_kernel = [[0,-1,0], [-1,5,-1], [0,-1,0]]\n",
    "x_train_conv = convolve(x_train, sharpen_kernel)\n",
    "x_test_conv = convolve(x_test, sharpen_kernel)"
   ]
  },
  {
   "cell_type": "code",
   "execution_count": 55,
   "metadata": {},
   "outputs": [
    {
     "data": {
      "text/plain": [
       "(8000, 784)"
      ]
     },
     "execution_count": 55,
     "metadata": {},
     "output_type": "execute_result"
    }
   ],
   "source": [
    "x_train_conv.shape"
   ]
  },
  {
   "cell_type": "code",
   "execution_count": 56,
   "metadata": {},
   "outputs": [
    {
     "name": "stderr",
     "output_type": "stream",
     "text": [
      "<ipython-input-56-7267fa2c5537>:5: UserWarning: Matplotlib is currently using module://ipykernel.pylab.backend_inline, which is a non-GUI backend, so cannot show the figure.\n",
      "  figs.show()\n"
     ]
    },
    {
     "data": {
      "image/png": "[encoded data removed]",
      "text/plain": [
       "<Figure size 1152x864 with 10 Axes>"
      ]
     },
     "metadata": {
      "needs_background": "light"
     },
     "output_type": "display_data"
    }
   ],
   "source": [
    "figs,axs=plt.subplots(1,10,figsize=(16,12))\n",
    "for i in range(10):\n",
    "    rand=random.choice(range(x_train.shape[0]))\n",
    "    display_fashion(x_train_conv[rand],\"sharpen\",axs[i])\n",
    "figs.show()"
   ]
  },
  {
   "cell_type": "markdown",
   "metadata": {},
   "source": [
    "<p>1D image to 2D image</p>"
   ]
  },
  {
   "cell_type": "code",
   "execution_count": 26,
   "metadata": {},
   "outputs": [],
   "source": [
    "w=int(np.sqrt(x_train.shape[1]))\n",
    "p=np.array(x).reshape((x.shape[0],w,w))"
   ]
  },
  {
   "cell_type": "code",
   "execution_count": 27,
   "metadata": {},
   "outputs": [
    {
     "data": {
      "text/plain": [
       "(10000, 28, 28)"
      ]
     },
     "execution_count": 27,
     "metadata": {},
     "output_type": "execute_result"
    }
   ],
   "source": [
    "p.shape"
   ]
  },
  {
   "cell_type": "code",
   "execution_count": 28,
   "metadata": {},
   "outputs": [
    {
     "data": {
      "text/plain": [
       "numpy.ndarray"
      ]
     },
     "execution_count": 28,
     "metadata": {},
     "output_type": "execute_result"
    }
   ],
   "source": [
    "type(p)"
   ]
  },
  {
   "cell_type": "markdown",
   "metadata": {},
   "source": [
    "<p style=\"color:yellow\"><b>v-edge</b></p>"
   ]
  },
  {
   "cell_type": "code",
   "execution_count": 97,
   "metadata": {},
   "outputs": [
    {
     "data": {
      "text/plain": [
       "(8000, 784)"
      ]
     },
     "execution_count": 97,
     "metadata": {},
     "output_type": "execute_result"
    }
   ],
   "source": [
    "x_train.shape"
   ]
  },
  {
   "cell_type": "code",
   "execution_count": 98,
   "metadata": {},
   "outputs": [],
   "source": [
    "v_edge=[[-1,0,1],[-2,0,2],[-1,0,1]]"
   ]
  },
  {
   "cell_type": "code",
   "execution_count": 99,
   "metadata": {},
   "outputs": [],
   "source": [
    "def convolve(x,kernel=[[1,1,1],[1,1,1],[1,1,1]]):\n",
    "    w=int(np.sqrt(x.shape[1]))\n",
    "    #let's convert the image into 2d and then convolve\n",
    "    x=ndimage.convolve(\n",
    "        np.array(x).reshape((x.shape[0],w,w)),[kernel],\n",
    "        mode='constant',cval=0.0\n",
    "    )\n",
    "    #converting back to 1D image\n",
    "    x=x.reshape(x.shape[0],x.shape[1]*x.shape[2])\n",
    "    return MinMaxScaler().fit_transform(x)"
   ]
  },
  {
   "cell_type": "code",
   "execution_count": 100,
   "metadata": {},
   "outputs": [],
   "source": [
    "x_train_conv=convolve(x_train,v_edge)\n",
    "x_test_conv=convolve(x_test,v_edge)"
   ]
  },
  {
   "cell_type": "code",
   "execution_count": 101,
   "metadata": {},
   "outputs": [],
   "source": [
    "def display_fashion(img, target, ax):\n",
    "    #reshape to 2D and display\n",
    "    if len(img.shape):\n",
    "        w = int(np.sqrt(img.shape[0]))\n",
    "        img = img.reshape((w, w))\n",
    "    ax.imshow(img, cmap='Greys')\n",
    "    ax.set_title(f'{target}')\n",
    "    ax.grid(False)"
   ]
  },
  {
   "cell_type": "code",
   "execution_count": 102,
   "metadata": {},
   "outputs": [
    {
     "name": "stderr",
     "output_type": "stream",
     "text": [
      "<ipython-input-102-845290974b2f>:6: UserWarning: Matplotlib is currently using module://ipykernel.pylab.backend_inline, which is a non-GUI backend, so cannot show the figure.\n",
      "  figs.show()\n"
     ]
    },
    {
     "data": {
      "image/png": "[encoded data removed]",
      "text/plain": [
       "<Figure size 1152x864 with 10 Axes>"
      ]
     },
     "metadata": {
      "needs_background": "light"
     },
     "output_type": "display_data"
    }
   ],
   "source": [
    "import random\n",
    "figs,axs=plt.subplots(1,10,figsize=(16,12))\n",
    "for i in range(10):\n",
    "    rand=random.choice(range(x_train.shape[0]))\n",
    "    x=display_fashion(x_train_conv[rand],\"v-edge\",axs[i])\n",
    "figs.show()"
   ]
  },
  {
   "cell_type": "markdown",
   "metadata": {},
   "source": [
    "<p style=\"color:yellow\"><b>h-edge</b></p>"
   ]
  },
  {
   "cell_type": "code",
   "execution_count": 118,
   "metadata": {},
   "outputs": [],
   "source": [
    "h_edge=[[-1,-2,-1],[0,0,0],[1,2,1]]"
   ]
  },
  {
   "cell_type": "code",
   "execution_count": 132,
   "metadata": {},
   "outputs": [],
   "source": [
    "def convolve(x,kernel=[[1,1,1],[1,1,1],[1,1,1]]):\n",
    "    w=int(np.sqrt(x.shape[1]))\n",
    "    #let's convert the image into 2d and then convolve\n",
    "    x=ndimage.convolve(\n",
    "        np.array(x).reshape((x.shape[0],w,w)),[kernel],\n",
    "        mode='constant',cval=0.0\n",
    "    )\n",
    "    #converting back to 1D image\n",
    "    x=x.reshape(x.shape[0],x.shape[1]*x.shape[2])\n",
    "    return MinMaxScaler().fit_transform(x)"
   ]
  },
  {
   "cell_type": "code",
   "execution_count": 136,
   "metadata": {},
   "outputs": [],
   "source": [
    "def display_fashion(img, target, ax):\n",
    "    #reshape to 2D and display\n",
    "    if len(img.shape):\n",
    "        w = int(np.sqrt(img.shape[0]))\n",
    "        img = img.reshape((w, w))\n",
    "    ax.imshow(img, cmap='Greys')\n",
    "    ax.set_title(f'{target}')\n",
    "    ax.grid(False)"
   ]
  },
  {
   "cell_type": "code",
   "execution_count": 137,
   "metadata": {},
   "outputs": [],
   "source": [
    "x_train_conv=convolve(x_train,h_edge)\n",
    "x_test_conv=convolve(x_test,h_edge)"
   ]
  },
  {
   "cell_type": "code",
   "execution_count": 139,
   "metadata": {},
   "outputs": [
    {
     "name": "stderr",
     "output_type": "stream",
     "text": [
      "<ipython-input-139-2aae0a8379b1>:6: UserWarning: Matplotlib is currently using module://ipykernel.pylab.backend_inline, which is a non-GUI backend, so cannot show the figure.\n",
      "  figs.show()\n"
     ]
    },
    {
     "data": {
      "image/png": "[encoded data removed]",
      "text/plain": [
       "<Figure size 1152x864 with 10 Axes>"
      ]
     },
     "metadata": {
      "needs_background": "light"
     },
     "output_type": "display_data"
    }
   ],
   "source": [
    "import random\n",
    "figs,axs=plt.subplots(1,10,figsize=(16,12))\n",
    "for i in range(10):\n",
    "    rand=random.choice(range(x_train.shape[0]))\n",
    "    x=display_fashion(x_train_conv[rand],\"h-edge\",axs[i])\n",
    "figs.show()"
   ]
  },
  {
   "cell_type": "markdown",
   "metadata": {},
   "source": [
    "<p style=\"color:blue\"><b>dimensionality reduction using max-pooling</b></p>"
   ]
  },
  {
   "cell_type": "markdown",
   "metadata": {},
   "source": [
    "<p style=\"color:red\"><b>max pooling</b></p>"
   ]
  },
  {
   "cell_type": "code",
   "execution_count": 140,
   "metadata": {},
   "outputs": [],
   "source": [
    "from skimage.measure import block_reduce\n",
    "from sklearn.preprocessing import MinMaxScaler"
   ]
  },
  {
   "cell_type": "code",
   "execution_count": 144,
   "metadata": {},
   "outputs": [],
   "source": [
    "def maxpool(x,size=(2,2)):\n",
    "    w=int(np.sqrt(x.shape[1]))\n",
    "    x=np.array([block_reduce(img.reshape((w, w)), block_size=(size[0],size[1]), func=np.max) for img in x])\n",
    "    x=x.reshape(x.shape[0],x.shape[1]*x.shape[2])\n",
    "    return MinMaxScaler().fit_transform(x)"
   ]
  },
  {
   "cell_type": "code",
   "execution_count": 153,
   "metadata": {},
   "outputs": [],
   "source": [
    "x_train_maxpool=maxpool(x_train_conv,size=(2,2))\n",
    "x_test_maxpool=maxpool(x_test_conv,size=(5,5))"
   ]
  },
  {
   "cell_type": "code",
   "execution_count": 154,
   "metadata": {},
   "outputs": [
    {
     "name": "stderr",
     "output_type": "stream",
     "text": [
      "<ipython-input-154-72624d6f4b65>:6: UserWarning: Matplotlib is currently using module://ipykernel.pylab.backend_inline, which is a non-GUI backend, so cannot show the figure.\n",
      "  figs.show()\n"
     ]
    },
    {
     "data": {
      "image/png": "[encoded data removed]",
      "text/plain": [
       "<Figure size 1152x864 with 10 Axes>"
      ]
     },
     "metadata": {
      "needs_background": "light"
     },
     "output_type": "display_data"
    }
   ],
   "source": [
    "figs,axs=plt.subplots(1,10,figsize=(16,12))\n",
    "import random\n",
    "for i in range(10):\n",
    "    rand=random.choice(range(x_train.shape[0]))\n",
    "    display_fashion(x_train_maxpool[rand], \"max pooled\",axs[i])\n",
    "figs.show()"
   ]
  },
  {
   "cell_type": "code",
   "execution_count": 156,
   "metadata": {},
   "outputs": [
    {
     "name": "stderr",
     "output_type": "stream",
     "text": [
      "<ipython-input-156-288bcb5b9f81>:6: UserWarning: Matplotlib is currently using module://ipykernel.pylab.backend_inline, which is a non-GUI backend, so cannot show the figure.\n",
      "  figs.show()\n"
     ]
    },
    {
     "data": {
      "image/png": "[encoded data removed]",
      "text/plain": [
       "<Figure size 1152x864 with 10 Axes>"
      ]
     },
     "metadata": {
      "needs_background": "light"
     },
     "output_type": "display_data"
    }
   ],
   "source": [
    "figs,axs=plt.subplots(1,10,figsize=(16,12))\n",
    "import random\n",
    "for i in range(10):\n",
    "    rand=random.choice(range(x_test.shape[0]))\n",
    "    display_fashion(x_test_maxpool[rand], \"max pooled\",axs[i])\n",
    "figs.show()"
   ]
  },
  {
   "cell_type": "markdown",
   "metadata": {},
   "source": [
    "<p style=\"color:blue\"><b>putting it altogether</b></p>\n",
    "<p>important for advanced work. you can think of it as a scikit transformer that will convolve over images and max pool out of these convolutions each with it's specific kernels</p>"
   ]
  },
  {
   "cell_type": "code",
   "execution_count": 188,
   "metadata": {},
   "outputs": [],
   "source": [
    "def maxpool(x,size=(2,2)):\n",
    "    w=int(np.sqrt(x.shape[1]))\n",
    "    x=np.array([block_reduce(img.reshape((w, w)), block_size=(size[0],size[1]), func=np.max) for img in x])\n",
    "    x=x.reshape(x.shape[0],x.shape[1]*x.shape[2])\n",
    "    return MinMaxScaler().fit_transform(x)"
   ]
  },
  {
   "cell_type": "code",
   "execution_count": 182,
   "metadata": {},
   "outputs": [],
   "source": [
    "class ConvolutionTransformer:\n",
    "    def __init__(self,kernel=[],max_pool=False,max_pool_size=(2,2)):\n",
    "        self.kernel=kernel\n",
    "        self.max_pool=max_pool\n",
    "        self.max_pool_size=max_pool_size\n",
    "    def fit(self,x):\n",
    "        return x\n",
    "    def transform(self,x,y=None):\n",
    "        x=convolve(x,self.kernel)\n",
    "        if self.max_pool:\n",
    "            x=maxpool(x,self.max_pool_size)\n",
    "        return x\n",
    "    def fit_transform(self,x,y=None):\n",
    "        x=self.fit(x)\n",
    "        return self.transform(x)\n",
    "            "
   ]
  },
  {
   "cell_type": "code",
   "execution_count": 183,
   "metadata": {},
   "outputs": [],
   "source": [
    "kernels = [\n",
    "('Sharpen', [[0,-1,0], [-1,5,-1], [0,-1,0]]),\n",
    "('V-Edge', [[-1,0,1], [-2,0,2], [-1,0,1]]),\n",
    "('H-Edge', [[-1,-2,-1], [0,0,0], [1,2,1]]),\n",
    "]"
   ]
  },
  {
   "cell_type": "code",
   "execution_count": 184,
   "metadata": {},
   "outputs": [
    {
     "data": {
      "text/plain": [
       "list"
      ]
     },
     "execution_count": 184,
     "metadata": {},
     "output_type": "execute_result"
    }
   ],
   "source": [
    "type(kernels)"
   ]
  },
  {
   "cell_type": "code",
   "execution_count": 185,
   "metadata": {},
   "outputs": [],
   "source": [
    "from sklearn.pipeline import FeatureUnion"
   ]
  },
  {
   "cell_type": "code",
   "execution_count": 186,
   "metadata": {},
   "outputs": [],
   "source": [
    "funion=FeatureUnion(\n",
    "    [\n",
    "        (kernel[0],ConvolutionTransformer(kernel[1],max_pool=True,max_pool_size=(2,2))) for kernel in kernels\n",
    "    ]\n",
    ")"
   ]
  },
  {
   "cell_type": "code",
   "execution_count": 187,
   "metadata": {},
   "outputs": [],
   "source": [
    "x_train_conv=funion.fit_transform(x_train)\n",
    "x_test_conv=funion.fit_transform(x_test)"
   ]
  },
  {
   "cell_type": "code",
   "execution_count": 189,
   "metadata": {},
   "outputs": [
    {
     "data": {
      "text/plain": [
       "(8000, 588)"
      ]
     },
     "execution_count": 189,
     "metadata": {},
     "output_type": "execute_result"
    }
   ],
   "source": [
    "x_train_conv.shape"
   ]
  },
  {
   "cell_type": "markdown",
   "metadata": {},
   "source": [
    "<b>showing the image can't be done because now it has 588 features after convolving with 3 filters</b>"
   ]
  },
  {
   "cell_type": "code",
   "execution_count": 191,
   "metadata": {},
   "outputs": [
    {
     "ename": "ValueError",
     "evalue": "cannot reshape array of size 588 into shape (24,24)",
     "output_type": "error",
     "traceback": [
      "\u001b[0;31m---------------------------------------------------------------------------\u001b[0m",
      "\u001b[0;31mValueError\u001b[0m                                Traceback (most recent call last)",
      "\u001b[0;32m<ipython-input-191-5b76a4d21712>\u001b[0m in \u001b[0;36m<module>\u001b[0;34m\u001b[0m\n\u001b[1;32m      2\u001b[0m \u001b[0;32mfor\u001b[0m \u001b[0mi\u001b[0m \u001b[0;32min\u001b[0m \u001b[0mrange\u001b[0m\u001b[0;34m(\u001b[0m\u001b[0;36m10\u001b[0m\u001b[0;34m)\u001b[0m\u001b[0;34m:\u001b[0m\u001b[0;34m\u001b[0m\u001b[0;34m\u001b[0m\u001b[0m\n\u001b[1;32m      3\u001b[0m     \u001b[0mrand\u001b[0m\u001b[0;34m=\u001b[0m\u001b[0mrandom\u001b[0m\u001b[0;34m.\u001b[0m\u001b[0mchoice\u001b[0m\u001b[0;34m(\u001b[0m\u001b[0mrange\u001b[0m\u001b[0;34m(\u001b[0m\u001b[0mlen\u001b[0m\u001b[0;34m(\u001b[0m\u001b[0mx_train\u001b[0m\u001b[0;34m)\u001b[0m\u001b[0;34m)\u001b[0m\u001b[0;34m)\u001b[0m\u001b[0;34m\u001b[0m\u001b[0;34m\u001b[0m\u001b[0m\n\u001b[0;32m----> 4\u001b[0;31m     \u001b[0mdisplay_fashion\u001b[0m\u001b[0;34m(\u001b[0m\u001b[0mx_train_conv\u001b[0m\u001b[0;34m[\u001b[0m\u001b[0mrand\u001b[0m\u001b[0;34m]\u001b[0m\u001b[0;34m,\u001b[0m\u001b[0;34m\"funion transformer\"\u001b[0m\u001b[0;34m,\u001b[0m\u001b[0maxs\u001b[0m\u001b[0;34m[\u001b[0m\u001b[0mi\u001b[0m\u001b[0;34m]\u001b[0m\u001b[0;34m)\u001b[0m\u001b[0;34m\u001b[0m\u001b[0;34m\u001b[0m\u001b[0m\n\u001b[0m",
      "\u001b[0;32m<ipython-input-136-0d6465fba252>\u001b[0m in \u001b[0;36mdisplay_fashion\u001b[0;34m(img, target, ax)\u001b[0m\n\u001b[1;32m      3\u001b[0m     \u001b[0;32mif\u001b[0m \u001b[0mlen\u001b[0m\u001b[0;34m(\u001b[0m\u001b[0mimg\u001b[0m\u001b[0;34m.\u001b[0m\u001b[0mshape\u001b[0m\u001b[0;34m)\u001b[0m\u001b[0;34m:\u001b[0m\u001b[0;34m\u001b[0m\u001b[0;34m\u001b[0m\u001b[0m\n\u001b[1;32m      4\u001b[0m         \u001b[0mw\u001b[0m \u001b[0;34m=\u001b[0m \u001b[0mint\u001b[0m\u001b[0;34m(\u001b[0m\u001b[0mnp\u001b[0m\u001b[0;34m.\u001b[0m\u001b[0msqrt\u001b[0m\u001b[0;34m(\u001b[0m\u001b[0mimg\u001b[0m\u001b[0;34m.\u001b[0m\u001b[0mshape\u001b[0m\u001b[0;34m[\u001b[0m\u001b[0;36m0\u001b[0m\u001b[0;34m]\u001b[0m\u001b[0;34m)\u001b[0m\u001b[0;34m)\u001b[0m\u001b[0;34m\u001b[0m\u001b[0;34m\u001b[0m\u001b[0m\n\u001b[0;32m----> 5\u001b[0;31m         \u001b[0mimg\u001b[0m \u001b[0;34m=\u001b[0m \u001b[0mimg\u001b[0m\u001b[0;34m.\u001b[0m\u001b[0mreshape\u001b[0m\u001b[0;34m(\u001b[0m\u001b[0;34m(\u001b[0m\u001b[0mw\u001b[0m\u001b[0;34m,\u001b[0m \u001b[0mw\u001b[0m\u001b[0;34m)\u001b[0m\u001b[0;34m)\u001b[0m\u001b[0;34m\u001b[0m\u001b[0;34m\u001b[0m\u001b[0m\n\u001b[0m\u001b[1;32m      6\u001b[0m     \u001b[0max\u001b[0m\u001b[0;34m.\u001b[0m\u001b[0mimshow\u001b[0m\u001b[0;34m(\u001b[0m\u001b[0mimg\u001b[0m\u001b[0;34m,\u001b[0m \u001b[0mcmap\u001b[0m\u001b[0;34m=\u001b[0m\u001b[0;34m'Greys'\u001b[0m\u001b[0;34m)\u001b[0m\u001b[0;34m\u001b[0m\u001b[0;34m\u001b[0m\u001b[0m\n\u001b[1;32m      7\u001b[0m     \u001b[0max\u001b[0m\u001b[0;34m.\u001b[0m\u001b[0mset_title\u001b[0m\u001b[0;34m(\u001b[0m\u001b[0;34mf'{target}'\u001b[0m\u001b[0;34m)\u001b[0m\u001b[0;34m\u001b[0m\u001b[0;34m\u001b[0m\u001b[0m\n",
      "\u001b[0;31mValueError\u001b[0m: cannot reshape array of size 588 into shape (24,24)"
     ]
    },
    {
     "data": {
      "image/png": "[encoded data removed]",
      "text/plain": [
       "<Figure size 1152x864 with 10 Axes>"
      ]
     },
     "metadata": {
      "needs_background": "light"
     },
     "output_type": "display_data"
    }
   ],
   "source": [
    "figs,axs=plt.subplots(1,10,figsize=(16,12))\n",
    "for i in range(10):\n",
    "    rand=random.choice(range(len(x_train)))\n",
    "    display_fashion(x_train_conv[rand],\"funion transformer\",axs[i])"
   ]
  },
  {
   "cell_type": "markdown",
   "metadata": {},
   "source": [
    "<b>fitting the data</b>"
   ]
  },
  {
   "cell_type": "code",
   "execution_count": 192,
   "metadata": {},
   "outputs": [],
   "source": [
    "from sklearn.neural_network import MLPClassifier\n",
    "mlp=MLPClassifier(\n",
    "    hidden_layer_sizes=(500, 300),\n",
    "    activation='relu',\n",
    "    learning_rate_init=0.01,\n",
    "    solver='adam',\n",
    "    max_iter=80,\n",
    "    batch_size=50,\n",
    "    early_stopping=True,\n",
    ")"
   ]
  },
  {
   "cell_type": "code",
   "execution_count": 194,
   "metadata": {},
   "outputs": [
    {
     "data": {
      "text/plain": [
       "MLPClassifier(batch_size=50, early_stopping=True, hidden_layer_sizes=(500, 300),\n",
       "              learning_rate_init=0.01, max_iter=80)"
      ]
     },
     "execution_count": 194,
     "metadata": {},
     "output_type": "execute_result"
    }
   ],
   "source": [
    "mlp.fit(x_train_conv, y_train)"
   ]
  },
  {
   "cell_type": "code",
   "execution_count": 196,
   "metadata": {},
   "outputs": [],
   "source": [
    "y_test_predict = mlp.predict(x_test_conv)"
   ]
  },
  {
   "cell_type": "code",
   "execution_count": 200,
   "metadata": {},
   "outputs": [
    {
     "data": {
      "text/plain": [
       "array(['6', '1', '7', ..., '5', '9', '4'], dtype='<U1')"
      ]
     },
     "execution_count": 200,
     "metadata": {},
     "output_type": "execute_result"
    }
   ],
   "source": [
    "y_test_predict"
   ]
  },
  {
   "cell_type": "code",
   "execution_count": 201,
   "metadata": {},
   "outputs": [
    {
     "data": {
      "text/plain": [
       "0.8235"
      ]
     },
     "execution_count": 201,
     "metadata": {},
     "output_type": "execute_result"
    }
   ],
   "source": [
    "from sklearn.metrics import f1_score, precision_score, recall_score\n",
    "f1_score(y_test.astype(int),y_test_predict.astype(int),average='micro')"
   ]
  },
  {
   "cell_type": "code",
   "execution_count": null,
   "metadata": {},
   "outputs": [],
   "source": []
  }
 ],
 "metadata": {
  "kernelspec": {
   "display_name": "Python 3",
   "language": "python",
   "name": "python3"
  },
  "language_info": {
   "codemirror_mode": {
    "name": "ipython",
    "version": 3
   },
   "file_extension": ".py",
   "mimetype": "text/x-python",
   "name": "python",
   "nbconvert_exporter": "python",
   "pygments_lexer": "ipython3",
   "version": "3.8.3"
  }
 },
 "nbformat": 4,
 "nbformat_minor": 4
}
