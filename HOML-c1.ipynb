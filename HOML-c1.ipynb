{
 "cells": [
  {
   "cell_type": "code",
   "execution_count": null,
   "metadata": {},
   "outputs": [],
   "source": [
    "# Chapter-1"
   ]
  },
  {
   "cell_type": "code",
   "execution_count": 2,
   "metadata": {},
   "outputs": [],
   "source": [
    "import pandas as pd\n",
    "polygons = {\n",
    "'Name': ['Triangle', 'Quadrilateral', 'Pentagon', 'Hexagon', 'Heptagon','Octagon', 'Nonagon', 'Decagon', 'Hendecagon', 'Dodecagon', 'Tridecagon',\n",
    "'Tetradecagon'],\n",
    "'Sides': range(3, 15, 1),\n",
    "}\n",
    "polygons_data_frame = pd.DataFrame(polygons)"
   ]
  },
  {
   "cell_type": "code",
   "execution_count": 2,
   "metadata": {},
   "outputs": [
    {
     "name": "stdout",
     "output_type": "stream",
     "text": [
      "0      8\n",
      "1     13\n",
      "2      8\n",
      "3      7\n",
      "4      8\n",
      "5      7\n",
      "6      7\n",
      "7      7\n",
      "8     10\n",
      "9      9\n",
      "10    10\n",
      "11    12\n",
      "Name: Length of Name, dtype: int64\n"
     ]
    }
   ],
   "source": [
    "# print(polygons_data_frame)\n",
    "# manipulation\n",
    "polygons_data_frame['Length of Name'] = polygons_data_frame['Name'].str.len()\n",
    "print(polygons_data_frame['Length of Name'])"
   ]
  },
  {
   "cell_type": "code",
   "execution_count": 3,
   "metadata": {},
   "outputs": [
    {
     "name": "stdout",
     "output_type": "stream",
     "text": [
      "             Name  Sides  Length of Name\n",
      "0        Triangle      3               8\n",
      "1   Quadrilateral      4              13\n",
      "2        Pentagon      5               8\n",
      "3         Hexagon      6               7\n",
      "4        Heptagon      7               8\n",
      "5         Octagon      8               7\n",
      "6         Nonagon      9               7\n",
      "7         Decagon     10               7\n",
      "8      Hendecagon     11              10\n",
      "9       Dodecagon     12               9\n",
      "10     Tridecagon     13              10\n",
      "11   Tetradecagon     14              12\n",
      "0      8\n",
      "1     13\n",
      "2      8\n",
      "3      7\n",
      "4      8\n",
      "5      7\n",
      "6      7\n",
      "7      7\n",
      "8     10\n",
      "9      9\n",
      "10    10\n",
      "11    12\n",
      "Name: Length of Name, dtype: int64\n"
     ]
    }
   ],
   "source": [
    "# manipulating with apply() \n",
    "print(polygons_data_frame)\n",
    "polygons_data_frame['Length of Name'] = polygons_data_frame['Name'].apply(len)\n",
    "print(polygons_data_frame['Length of Name'])"
   ]
  },
  {
   "cell_type": "code",
   "execution_count": 4,
   "metadata": {},
   "outputs": [
    {
     "name": "stdout",
     "output_type": "stream",
     "text": [
      "             Name  Sides  Length of Name\n",
      "0        Triangle      3               8\n",
      "1   Quadrilateral      4              13\n",
      "2        Pentagon      5               8\n",
      "3         Hexagon      6               7\n",
      "4        Heptagon      7               8\n",
      "5         Octagon      8               7\n",
      "6         Nonagon      9               7\n",
      "7         Decagon     10               7\n",
      "8      Hendecagon     11              10\n",
      "9       Dodecagon     12               9\n",
      "10     Tridecagon     13              10\n",
      "11   Tetradecagon     14              12\n",
      "0      8\n",
      "1     13\n",
      "2      8\n",
      "3      7\n",
      "4      8\n",
      "5      7\n",
      "6      7\n",
      "7      7\n",
      "8     10\n",
      "9      9\n",
      "10    10\n",
      "11    12\n",
      "Name: Length of Name, dtype: int64\n"
     ]
    }
   ],
   "source": [
    "print(polygons_data_frame)\n",
    "polygons_data_frame['Length of Name'] = polygons_data_frame['Name'].apply(lambda n: len(n))\n",
    "print(polygons_data_frame['Length of Name']) "
   ]
  },
  {
   "cell_type": "code",
   "execution_count": 5,
   "metadata": {},
   "outputs": [
    {
     "data": {
      "text/plain": [
       "<AxesSubplot:title={'center':'Sides vs Length of Name'}, xlabel='Sides', ylabel='Length of Name'>"
      ]
     },
     "execution_count": 5,
     "metadata": {},
     "output_type": "execute_result"
    },
    {
     "data": {
      "image/png": "[encoded data removed]",
      "text/plain": [
       "<Figure size 432x288 with 1 Axes>"
      ]
     },
     "metadata": {
      "needs_background": "light"
     },
     "output_type": "display_data"
    }
   ],
   "source": [
    "polygons_data_frame.plot(\n",
    "title='Sides vs Length of Name',\n",
    "kind='scatter',\n",
    "x='Sides',\n",
    "y='Length of Name',\n",
    ")"
   ]
  },
  {
   "cell_type": "code",
   "execution_count": 1,
   "metadata": {},
   "outputs": [],
   "source": [
    "# Iris classification\n",
    "# load datasets from sklearn\n",
    "from sklearn import datasets\n",
    "import pandas as pd\n",
    "iris=datasets.load_iris()\n"
   ]
  },
  {
   "cell_type": "code",
   "execution_count": 4,
   "metadata": {},
   "outputs": [
    {
     "name": "stdout",
     "output_type": "stream",
     "text": [
      "<class 'numpy.ndarray'>\n",
      "(150, 4)\n",
      "[[5.1 3.5 1.4 0.2]\n",
      " [4.9 3.  1.4 0.2]\n",
      " [4.7 3.2 1.3 0.2]\n",
      " [4.6 3.1 1.5 0.2]\n",
      " [5.  3.6 1.4 0.2]\n",
      " [5.4 3.9 1.7 0.4]\n",
      " [4.6 3.4 1.4 0.3]\n",
      " [5.  3.4 1.5 0.2]\n",
      " [4.4 2.9 1.4 0.2]\n",
      " [4.9 3.1 1.5 0.1]\n",
      " [5.4 3.7 1.5 0.2]\n",
      " [4.8 3.4 1.6 0.2]\n",
      " [4.8 3.  1.4 0.1]\n",
      " [4.3 3.  1.1 0.1]\n",
      " [5.8 4.  1.2 0.2]\n",
      " [5.7 4.4 1.5 0.4]\n",
      " [5.4 3.9 1.3 0.4]\n",
      " [5.1 3.5 1.4 0.3]\n",
      " [5.7 3.8 1.7 0.3]\n",
      " [5.1 3.8 1.5 0.3]\n",
      " [5.4 3.4 1.7 0.2]\n",
      " [5.1 3.7 1.5 0.4]\n",
      " [4.6 3.6 1.  0.2]\n",
      " [5.1 3.3 1.7 0.5]\n",
      " [4.8 3.4 1.9 0.2]\n",
      " [5.  3.  1.6 0.2]\n",
      " [5.  3.4 1.6 0.4]\n",
      " [5.2 3.5 1.5 0.2]\n",
      " [5.2 3.4 1.4 0.2]\n",
      " [4.7 3.2 1.6 0.2]\n",
      " [4.8 3.1 1.6 0.2]\n",
      " [5.4 3.4 1.5 0.4]\n",
      " [5.2 4.1 1.5 0.1]\n",
      " [5.5 4.2 1.4 0.2]\n",
      " [4.9 3.1 1.5 0.2]\n",
      " [5.  3.2 1.2 0.2]\n",
      " [5.5 3.5 1.3 0.2]\n",
      " [4.9 3.6 1.4 0.1]\n",
      " [4.4 3.  1.3 0.2]\n",
      " [5.1 3.4 1.5 0.2]\n",
      " [5.  3.5 1.3 0.3]\n",
      " [4.5 2.3 1.3 0.3]\n",
      " [4.4 3.2 1.3 0.2]\n",
      " [5.  3.5 1.6 0.6]\n",
      " [5.1 3.8 1.9 0.4]\n",
      " [4.8 3.  1.4 0.3]\n",
      " [5.1 3.8 1.6 0.2]\n",
      " [4.6 3.2 1.4 0.2]\n",
      " [5.3 3.7 1.5 0.2]\n",
      " [5.  3.3 1.4 0.2]\n",
      " [7.  3.2 4.7 1.4]\n",
      " [6.4 3.2 4.5 1.5]\n",
      " [6.9 3.1 4.9 1.5]\n",
      " [5.5 2.3 4.  1.3]\n",
      " [6.5 2.8 4.6 1.5]\n",
      " [5.7 2.8 4.5 1.3]\n",
      " [6.3 3.3 4.7 1.6]\n",
      " [4.9 2.4 3.3 1. ]\n",
      " [6.6 2.9 4.6 1.3]\n",
      " [5.2 2.7 3.9 1.4]\n",
      " [5.  2.  3.5 1. ]\n",
      " [5.9 3.  4.2 1.5]\n",
      " [6.  2.2 4.  1. ]\n",
      " [6.1 2.9 4.7 1.4]\n",
      " [5.6 2.9 3.6 1.3]\n",
      " [6.7 3.1 4.4 1.4]\n",
      " [5.6 3.  4.5 1.5]\n",
      " [5.8 2.7 4.1 1. ]\n",
      " [6.2 2.2 4.5 1.5]\n",
      " [5.6 2.5 3.9 1.1]\n",
      " [5.9 3.2 4.8 1.8]\n",
      " [6.1 2.8 4.  1.3]\n",
      " [6.3 2.5 4.9 1.5]\n",
      " [6.1 2.8 4.7 1.2]\n",
      " [6.4 2.9 4.3 1.3]\n",
      " [6.6 3.  4.4 1.4]\n",
      " [6.8 2.8 4.8 1.4]\n",
      " [6.7 3.  5.  1.7]\n",
      " [6.  2.9 4.5 1.5]\n",
      " [5.7 2.6 3.5 1. ]\n",
      " [5.5 2.4 3.8 1.1]\n",
      " [5.5 2.4 3.7 1. ]\n",
      " [5.8 2.7 3.9 1.2]\n",
      " [6.  2.7 5.1 1.6]\n",
      " [5.4 3.  4.5 1.5]\n",
      " [6.  3.4 4.5 1.6]\n",
      " [6.7 3.1 4.7 1.5]\n",
      " [6.3 2.3 4.4 1.3]\n",
      " [5.6 3.  4.1 1.3]\n",
      " [5.5 2.5 4.  1.3]\n",
      " [5.5 2.6 4.4 1.2]\n",
      " [6.1 3.  4.6 1.4]\n",
      " [5.8 2.6 4.  1.2]\n",
      " [5.  2.3 3.3 1. ]\n",
      " [5.6 2.7 4.2 1.3]\n",
      " [5.7 3.  4.2 1.2]\n",
      " [5.7 2.9 4.2 1.3]\n",
      " [6.2 2.9 4.3 1.3]\n",
      " [5.1 2.5 3.  1.1]\n",
      " [5.7 2.8 4.1 1.3]\n",
      " [6.3 3.3 6.  2.5]\n",
      " [5.8 2.7 5.1 1.9]\n",
      " [7.1 3.  5.9 2.1]\n",
      " [6.3 2.9 5.6 1.8]\n",
      " [6.5 3.  5.8 2.2]\n",
      " [7.6 3.  6.6 2.1]\n",
      " [4.9 2.5 4.5 1.7]\n",
      " [7.3 2.9 6.3 1.8]\n",
      " [6.7 2.5 5.8 1.8]\n",
      " [7.2 3.6 6.1 2.5]\n",
      " [6.5 3.2 5.1 2. ]\n",
      " [6.4 2.7 5.3 1.9]\n",
      " [6.8 3.  5.5 2.1]\n",
      " [5.7 2.5 5.  2. ]\n",
      " [5.8 2.8 5.1 2.4]\n",
      " [6.4 3.2 5.3 2.3]\n",
      " [6.5 3.  5.5 1.8]\n",
      " [7.7 3.8 6.7 2.2]\n",
      " [7.7 2.6 6.9 2.3]\n",
      " [6.  2.2 5.  1.5]\n",
      " [6.9 3.2 5.7 2.3]\n",
      " [5.6 2.8 4.9 2. ]\n",
      " [7.7 2.8 6.7 2. ]\n",
      " [6.3 2.7 4.9 1.8]\n",
      " [6.7 3.3 5.7 2.1]\n",
      " [7.2 3.2 6.  1.8]\n",
      " [6.2 2.8 4.8 1.8]\n",
      " [6.1 3.  4.9 1.8]\n",
      " [6.4 2.8 5.6 2.1]\n",
      " [7.2 3.  5.8 1.6]\n",
      " [7.4 2.8 6.1 1.9]\n",
      " [7.9 3.8 6.4 2. ]\n",
      " [6.4 2.8 5.6 2.2]\n",
      " [6.3 2.8 5.1 1.5]\n",
      " [6.1 2.6 5.6 1.4]\n",
      " [7.7 3.  6.1 2.3]\n",
      " [6.3 3.4 5.6 2.4]\n",
      " [6.4 3.1 5.5 1.8]\n",
      " [6.  3.  4.8 1.8]\n",
      " [6.9 3.1 5.4 2.1]\n",
      " [6.7 3.1 5.6 2.4]\n",
      " [6.9 3.1 5.1 2.3]\n",
      " [5.8 2.7 5.1 1.9]\n",
      " [6.8 3.2 5.9 2.3]\n",
      " [6.7 3.3 5.7 2.5]\n",
      " [6.7 3.  5.2 2.3]\n",
      " [6.3 2.5 5.  1.9]\n",
      " [6.5 3.  5.2 2. ]\n",
      " [6.2 3.4 5.4 2.3]\n",
      " [5.9 3.  5.1 1.8]]\n"
     ]
    }
   ],
   "source": [
    "print(type(iris.data))\n",
    "print(iris.data.shape)\n",
    "# for i in range(5):\n",
    "print(iris.data)"
   ]
  },
  {
   "cell_type": "code",
   "execution_count": 7,
   "metadata": {},
   "outputs": [
    {
     "data": {
      "text/plain": [
       "['DESCR',\n",
       " 'data',\n",
       " 'feature_names',\n",
       " 'filename',\n",
       " 'frame',\n",
       " 'target',\n",
       " 'target_names']"
      ]
     },
     "execution_count": 7,
     "metadata": {},
     "output_type": "execute_result"
    }
   ],
   "source": [
    "# provided methods and attributes by datasets\n",
    "dir(iris)"
   ]
  },
  {
   "cell_type": "code",
   "execution_count": null,
   "metadata": {},
   "outputs": [],
   "source": [
    "print(iris.DESCR)"
   ]
  },
  {
   "cell_type": "code",
   "execution_count": 8,
   "metadata": {},
   "outputs": [],
   "source": [
    "# importing data in dataframe\n",
    "df=pd.DataFrame(\n",
    "    iris.data,\n",
    "    columns = iris.feature_names\n",
    ")\n",
    "# print(df)"
   ]
  },
  {
   "cell_type": "code",
   "execution_count": 9,
   "metadata": {},
   "outputs": [],
   "source": [
    "df['target']=pd.Series(\n",
    "    iris.target\n",
    ")\n",
    "# print(df)"
   ]
  },
  {
   "cell_type": "code",
   "execution_count": 10,
   "metadata": {},
   "outputs": [],
   "source": [
    "# retriving 'target_names' from id 'target'\n",
    "df['target_names']=df['target'].apply(lambda y: iris.target_names[y])\n",
    "# print(df)"
   ]
  },
  {
   "cell_type": "code",
   "execution_count": null,
   "metadata": {},
   "outputs": [],
   "source": [
    "# df.sample\n",
    "# random sample\n",
    "df.sample(n=6)\n",
    "# pseudo-random sample\n",
    "# df.sample(n=6,random_state=42)"
   ]
  },
  {
   "cell_type": "code",
   "execution_count": null,
   "metadata": {},
   "outputs": [],
   "source": [
    "# pseudo-random sample\n",
    "df.sample(n=6,random_state=42)"
   ]
  },
  {
   "cell_type": "code",
   "execution_count": 11,
   "metadata": {},
   "outputs": [],
   "source": [
    "# Splitting data\n",
    "from sklearn.model_selection import train_test_split\n",
    "df_train,df_test=train_test_split(df,test_size=0.3)"
   ]
  },
  {
   "cell_type": "code",
   "execution_count": 14,
   "metadata": {},
   "outputs": [
    {
     "name": "stdout",
     "output_type": "stream",
     "text": [
      "(105, 6)\n",
      "(45, 6)\n"
     ]
    }
   ],
   "source": [
    "# quantity of train and test\n",
    "print(df_train.shape)\n",
    "print(df_test.shape)"
   ]
  },
  {
   "cell_type": "code",
   "execution_count": 12,
   "metadata": {},
   "outputs": [
    {
     "name": "stdout",
     "output_type": "stream",
     "text": [
      "     sepal length (cm)  sepal width (cm)  petal length (cm)  petal width (cm)\n",
      "16                 5.4               3.9                1.3               0.4\n",
      "1                  4.9               3.0                1.4               0.2\n",
      "65                 6.7               3.1                4.4               1.4\n",
      "66                 5.6               3.0                4.5               1.5\n",
      "94                 5.6               2.7                4.2               1.3\n",
      "..                 ...               ...                ...               ...\n",
      "133                6.3               2.8                5.1               1.5\n",
      "134                6.1               2.6                5.6               1.4\n",
      "3                  4.6               3.1                1.5               0.2\n",
      "22                 4.6               3.6                1.0               0.2\n",
      "27                 5.2               3.5                1.5               0.2\n",
      "\n",
      "[105 rows x 4 columns]\n"
     ]
    }
   ],
   "source": [
    "# creating x set\n",
    "x_train=df_train[iris.feature_names]\n",
    "x_test=df_test[iris.feature_names]\n",
    "print(x_train)\n",
    "print(x_test)"
   ]
  },
  {
   "cell_type": "code",
   "execution_count": 17,
   "metadata": {},
   "outputs": [
    {
     "name": "stdout",
     "output_type": "stream",
     "text": [
      "14     0\n",
      "63     1\n",
      "112    2\n",
      "48     0\n",
      "29     0\n",
      "      ..\n",
      "42     0\n",
      "28     0\n",
      "49     0\n",
      "122    2\n",
      "5      0\n",
      "Name: target, Length: 105, dtype: int64\n",
      "38     0\n",
      "3      0\n",
      "145    2\n",
      "4      0\n",
      "24     0\n",
      "94     1\n",
      "18     0\n",
      "56     1\n",
      "80     1\n",
      "64     1\n",
      "119    2\n",
      "53     1\n",
      "148    2\n",
      "66     1\n",
      "114    2\n",
      "126    2\n",
      "100    2\n",
      "23     0\n",
      "45     0\n",
      "85     1\n",
      "121    2\n",
      "47     0\n",
      "143    2\n",
      "16     0\n",
      "118    2\n",
      "51     1\n",
      "7      0\n",
      "88     1\n",
      "117    2\n",
      "74     1\n",
      "41     0\n",
      "26     0\n",
      "134    2\n",
      "25     0\n",
      "93     1\n",
      "139    2\n",
      "8      0\n",
      "124    2\n",
      "65     1\n",
      "106    2\n",
      "21     0\n",
      "86     1\n",
      "73     1\n",
      "57     1\n",
      "141    2\n",
      "Name: target, dtype: int64\n"
     ]
    }
   ],
   "source": [
    "# creating y sets\n",
    "y_train=df_train[\"target\"]\n",
    "y_test=df_test[\"target\"]\n",
    "print(y_train)\n",
    "print(y_test)"
   ]
  },
  {
   "cell_type": "code",
   "execution_count": 18,
   "metadata": {},
   "outputs": [
    {
     "data": {
      "text/plain": [
       "DecisionTreeClassifier()"
      ]
     },
     "execution_count": 18,
     "metadata": {},
     "output_type": "execute_result"
    }
   ],
   "source": [
    "# train the model\n",
    "from sklearn.tree import DecisionTreeClassifier\n",
    "clf=DecisionTreeClassifier()\n",
    "clf.fit(x_train,y_train)"
   ]
  },
  {
   "cell_type": "code",
   "execution_count": 19,
   "metadata": {},
   "outputs": [
    {
     "name": "stdout",
     "output_type": "stream",
     "text": [
      "[0 0 2 0 0 1 0 1 1 1 1 1 2 1 2 2 2 0 0 1 2 0 2 0 2 1 0 1 2 1 0 0 1 0 1 2 0\n",
      " 2 1 1 0 1 1 1 2]\n"
     ]
    }
   ],
   "source": [
    "# predict \n",
    "y_test_pred=clf.predict(x_test)\n",
    "print(y_test_pred)"
   ]
  },
  {
   "cell_type": "code",
   "execution_count": 20,
   "metadata": {},
   "outputs": [
    {
     "data": {
      "text/plain": [
       "0.9333333333333333"
      ]
     },
     "execution_count": 20,
     "metadata": {},
     "output_type": "execute_result"
    }
   ],
   "source": [
    "# evaluate the predicted value\n",
    "from sklearn.metrics import accuracy_score\n",
    "accuracy_score(y_test,y_test_pred)"
   ]
  },
  {
   "cell_type": "code",
   "execution_count": 21,
   "metadata": {},
   "outputs": [
    {
     "name": "stdout",
     "output_type": "stream",
     "text": [
      "                   feature_importances\n",
      "feature_names                         \n",
      "petal width (cm)              0.918301\n",
      "petal length (cm)             0.048366\n",
      "sepal width (cm)              0.019048\n",
      "sepal length (cm)             0.014286\n"
     ]
    }
   ],
   "source": [
    "# important features\n",
    "td=pd.DataFrame(\n",
    "    {\n",
    "        'feature_names':iris.feature_names,\n",
    "        'feature_importances':clf.feature_importances_\n",
    "    }\n",
    ").sort_values(\n",
    "    'feature_importances', ascending=False\n",
    ").set_index('feature_names')\n",
    "print(td)"
   ]
  },
  {
   "cell_type": "code",
   "execution_count": 22,
   "metadata": {},
   "outputs": [
    {
     "name": "stdout",
     "output_type": "stream",
     "text": [
      "|--- feature_3 <= 0.80\n",
      "|   |--- class: 0\n",
      "|--- feature_3 >  0.80\n",
      "|   |--- feature_3 <= 1.75\n",
      "|   |   |--- feature_2 <= 5.05\n",
      "|   |   |   |--- class: 1\n",
      "|   |   |--- feature_2 >  5.05\n",
      "|   |   |   |--- feature_1 <= 2.75\n",
      "|   |   |   |   |--- class: 1\n",
      "|   |   |   |--- feature_1 >  2.75\n",
      "|   |   |   |   |--- class: 2\n",
      "|   |--- feature_3 >  1.75\n",
      "|   |   |--- feature_2 <= 4.85\n",
      "|   |   |   |--- feature_0 <= 5.95\n",
      "|   |   |   |   |--- class: 1\n",
      "|   |   |   |--- feature_0 >  5.95\n",
      "|   |   |   |   |--- class: 2\n",
      "|   |   |--- feature_2 >  4.85\n",
      "|   |   |   |--- class: 2\n",
      "\n"
     ]
    }
   ],
   "source": [
    "# displaying internal tree of a decision tree\n",
    "from sklearn.tree import export_text\n",
    "print(\n",
    "#     export_text(clf,feature_names=iris.feature_names,spacing=3,decimals=1)\n",
    "    export_text(clf)\n",
    ")"
   ]
  },
  {
   "cell_type": "code",
   "execution_count": 23,
   "metadata": {},
   "outputs": [
    {
     "name": "stdout",
     "output_type": "stream",
     "text": [
      "1.0\n",
      "0.9333333333333333\n"
     ]
    }
   ],
   "source": [
    "# checking if overfit occured. if x>>y, then overfit.\n",
    "train_pred=clf.predict(x_train)\n",
    "x=accuracy_score(y_train,train_pred)\n",
    "y=accuracy_score(y_test,y_test_pred)\n",
    "print(x)\n",
    "print(y)"
   ]
  },
  {
   "cell_type": "code",
   "execution_count": 24,
   "metadata": {},
   "outputs": [],
   "source": [
    "# getting a more reliable score\n",
    "import pandas as pd\n",
    "from sklearn.tree import DecisionTreeClassifier\n",
    "from sklearn.metrics import accuracy_score\n",
    "from sklearn.model_selection import train_test_split"
   ]
  },
  {
   "cell_type": "code",
   "execution_count": 25,
   "metadata": {},
   "outputs": [
    {
     "name": "stdout",
     "output_type": "stream",
     "text": [
      "0     0.933\n",
      "1     0.933\n",
      "2     0.933\n",
      "3     0.933\n",
      "4     0.933\n",
      "      ...  \n",
      "95    0.933\n",
      "96    0.933\n",
      "97    0.933\n",
      "98    0.933\n",
      "99    0.933\n",
      "Length: 100, dtype: float64\n"
     ]
    }
   ],
   "source": [
    "accuracy_scores=[]\n",
    "for _ in range(100):\n",
    "    x_train=df_train[iris.feature_names]\n",
    "    x_test=df_test[iris.feature_names]\n",
    "    y_train=df_train['target']\n",
    "    y_test=df_test['target']\n",
    "    clf=DecisionTreeClassifier()\n",
    "    clf.fit(x_train,y_train)\n",
    "    y_pred=clf.predict(x_test)\n",
    "    accuracy_scores.append(round(accuracy_score(y_test,y_pred),3))\n",
    "accuracy_scores=pd.Series(accuracy_scores)\n",
    "print(accuracy_scores)"
   ]
  },
  {
   "cell_type": "code",
   "execution_count": 26,
   "metadata": {},
   "outputs": [
    {
     "data": {
      "text/plain": [
       "<AxesSubplot:title={'center':'gugu'}>"
      ]
     },
     "execution_count": 26,
     "metadata": {},
     "output_type": "execute_result"
    },
    {
     "data": {
      "image/png": "[encoded data removed]",
      "text/plain": [
       "<Figure size 432x288 with 1 Axes>"
      ]
     },
     "metadata": {
      "needs_background": "light"
     },
     "output_type": "display_data"
    }
   ],
   "source": [
    "accuracy_scores.plot(\n",
    "    title='gugu',\n",
    "    kind='box'\n",
    ")"
   ]
  },
  {
   "cell_type": "code",
   "execution_count": 27,
   "metadata": {},
   "outputs": [
    {
     "data": {
      "image/png": "[encoded data removed]",
      "text/plain": [
       "<Figure size 432x288 with 1 Axes>"
      ]
     },
     "metadata": {
      "needs_background": "light"
     },
     "output_type": "display_data"
    }
   ],
   "source": [
    "ax=accuracy_scores.plot.box()"
   ]
  },
  {
   "cell_type": "code",
   "execution_count": 28,
   "metadata": {},
   "outputs": [
    {
     "name": "stdout",
     "output_type": "stream",
     "text": [
      "Average Score: 0.933 [5th percentile: 0.933 & 95th percentile:0.933]\n"
     ]
    },
    {
     "data": {
      "image/png": "[encoded data removed]",
      "text/plain": [
       "<Figure size 432x288 with 1 Axes>"
      ]
     },
     "metadata": {
      "needs_background": "light"
     },
     "output_type": "display_data"
    }
   ],
   "source": [
    "accuracy_scores.plot(\n",
    "title='Distribution of classifier accuracy',\n",
    "kind='box',\n",
    ")\n",
    "print(\n",
    "'Average Score: {:.3} [5th percentile: {:.3} & 95th percentile:{:.3}]'.format(\n",
    "accuracy_scores.mean(),\n",
    "accuracy_scores.quantile(.05),\n",
    "accuracy_scores.quantile(.95),\n",
    ")\n",
    ")"
   ]
  },
  {
   "cell_type": "code",
   "execution_count": 15,
   "metadata": {},
   "outputs": [],
   "source": [
    "import pandas as pd\n",
    "from sklearn.model_selection import ShuffleSplit\n",
    "from sklearn.tree import DecisionTreeClassifier\n",
    "from sklearn.metrics import accuracy_score"
   ]
  },
  {
   "cell_type": "code",
   "execution_count": 17,
   "metadata": {},
   "outputs": [
    {
     "name": "stdout",
     "output_type": "stream",
     "text": [
      "<generator object BaseShuffleSplit.split at 0x7fbe2eebbb30>\n",
      "(105,) (45,)\n",
      "(105, 4)\n",
      "(105,) (45,)\n",
      "(105, 4)\n",
      "(105,) (45,)\n",
      "(105, 4)\n",
      "(105,) (45,)\n",
      "(105, 4)\n",
      "(105,) (45,)\n",
      "(105, 4)\n",
      "(105,) (45,)\n",
      "(105, 4)\n",
      "(105,) (45,)\n",
      "(105, 4)\n",
      "(105,) (45,)\n",
      "(105, 4)\n",
      "(105,) (45,)\n",
      "(105, 4)\n",
      "(105,) (45,)\n",
      "(105, 4)\n",
      "(105,) (45,)\n",
      "(105, 4)\n",
      "(105,) (45,)\n",
      "(105, 4)\n",
      "(105,) (45,)\n",
      "(105, 4)\n",
      "(105,) (45,)\n",
      "(105, 4)\n",
      "(105,) (45,)\n",
      "(105, 4)\n",
      "(105,) (45,)\n",
      "(105, 4)\n",
      "(105,) (45,)\n",
      "(105, 4)\n",
      "(105,) (45,)\n",
      "(105, 4)\n",
      "(105,) (45,)\n",
      "(105, 4)\n",
      "(105,) (45,)\n",
      "(105, 4)\n",
      "(105,) (45,)\n",
      "(105, 4)\n",
      "(105,) (45,)\n",
      "(105, 4)\n",
      "(105,) (45,)\n",
      "(105, 4)\n",
      "(105,) (45,)\n",
      "(105, 4)\n",
      "(105,) (45,)\n",
      "(105, 4)\n",
      "(105,) (45,)\n",
      "(105, 4)\n",
      "(105,) (45,)\n",
      "(105, 4)\n",
      "(105,) (45,)\n",
      "(105, 4)\n",
      "(105,) (45,)\n",
      "(105, 4)\n",
      "(105,) (45,)\n",
      "(105, 4)\n",
      "(105,) (45,)\n",
      "(105, 4)\n",
      "(105,) (45,)\n",
      "(105, 4)\n",
      "(105,) (45,)\n",
      "(105, 4)\n",
      "(105,) (45,)\n",
      "(105, 4)\n",
      "(105,) (45,)\n",
      "(105, 4)\n",
      "(105,) (45,)\n",
      "(105, 4)\n",
      "(105,) (45,)\n",
      "(105, 4)\n",
      "(105,) (45,)\n",
      "(105, 4)\n",
      "(105,) (45,)\n",
      "(105, 4)\n",
      "(105,) (45,)\n",
      "(105, 4)\n",
      "(105,) (45,)\n",
      "(105, 4)\n",
      "(105,) (45,)\n",
      "(105, 4)\n",
      "(105,) (45,)\n",
      "(105, 4)\n",
      "(105,) (45,)\n",
      "(105, 4)\n",
      "(105,) (45,)\n",
      "(105, 4)\n",
      "(105,) (45,)\n",
      "(105, 4)\n",
      "(105,) (45,)\n",
      "(105, 4)\n",
      "(105,) (45,)\n",
      "(105, 4)\n",
      "(105,) (45,)\n",
      "(105, 4)\n",
      "(105,) (45,)\n",
      "(105, 4)\n",
      "(105,) (45,)\n",
      "(105, 4)\n",
      "(105,) (45,)\n",
      "(105, 4)\n",
      "(105,) (45,)\n",
      "(105, 4)\n",
      "(105,) (45,)\n",
      "(105, 4)\n",
      "(105,) (45,)\n",
      "(105, 4)\n",
      "(105,) (45,)\n",
      "(105, 4)\n",
      "(105,) (45,)\n",
      "(105, 4)\n",
      "(105,) (45,)\n",
      "(105, 4)\n",
      "(105,) (45,)\n",
      "(105, 4)\n",
      "(105,) (45,)\n",
      "(105, 4)\n",
      "(105,) (45,)\n",
      "(105, 4)\n",
      "(105,) (45,)\n",
      "(105, 4)\n",
      "(105,) (45,)\n",
      "(105, 4)\n",
      "(105,) (45,)\n",
      "(105, 4)\n",
      "(105,) (45,)\n",
      "(105, 4)\n",
      "(105,) (45,)\n",
      "(105, 4)\n",
      "(105,) (45,)\n",
      "(105, 4)\n",
      "(105,) (45,)\n",
      "(105, 4)\n",
      "(105,) (45,)\n",
      "(105, 4)\n",
      "(105,) (45,)\n",
      "(105, 4)\n",
      "(105,) (45,)\n",
      "(105, 4)\n",
      "(105,) (45,)\n",
      "(105, 4)\n",
      "(105,) (45,)\n",
      "(105, 4)\n",
      "(105,) (45,)\n",
      "(105, 4)\n",
      "(105,) (45,)\n",
      "(105, 4)\n",
      "(105,) (45,)\n",
      "(105, 4)\n",
      "(105,) (45,)\n",
      "(105, 4)\n",
      "(105,) (45,)\n",
      "(105, 4)\n",
      "(105,) (45,)\n",
      "(105, 4)\n",
      "(105,) (45,)\n",
      "(105, 4)\n",
      "(105,) (45,)\n",
      "(105, 4)\n",
      "(105,) (45,)\n",
      "(105, 4)\n",
      "(105,) (45,)\n",
      "(105, 4)\n",
      "(105,) (45,)\n",
      "(105, 4)\n",
      "(105,) (45,)\n",
      "(105, 4)\n",
      "(105,) (45,)\n",
      "(105, 4)\n",
      "(105,) (45,)\n",
      "(105, 4)\n",
      "(105,) (45,)\n",
      "(105, 4)\n",
      "(105,) (45,)\n",
      "(105, 4)\n",
      "(105,) (45,)\n",
      "(105, 4)\n",
      "(105,) (45,)\n",
      "(105, 4)\n",
      "(105,) (45,)\n",
      "(105, 4)\n",
      "(105,) (45,)\n",
      "(105, 4)\n",
      "(105,) (45,)\n",
      "(105, 4)\n",
      "(105,) (45,)\n",
      "(105, 4)\n",
      "(105,) (45,)\n",
      "(105, 4)\n",
      "(105,) (45,)\n",
      "(105, 4)\n",
      "(105,) (45,)\n",
      "(105, 4)\n",
      "(105,) (45,)\n",
      "(105, 4)\n",
      "(105,) (45,)\n",
      "(105, 4)\n"
     ]
    },
    {
     "data": {
      "text/plain": [
       "<AxesSubplot:>"
      ]
     },
     "execution_count": 17,
     "metadata": {},
     "output_type": "execute_result"
    },
    {
     "data": {
      "image/png": "[encoded data removed]",
      "text/plain": [
       "<Figure size 432x288 with 1 Axes>"
      ]
     },
     "metadata": {
      "needs_background": "light"
     },
     "output_type": "display_data"
    }
   ],
   "source": [
    "rs=ShuffleSplit(n_splits=100,test_size=0.3)\n",
    "accuracy_scores=[]\n",
    "print(rs.split(df))\n",
    "for train_index,test_index in rs.split(df):\n",
    "#     print(train_index)\n",
    "#     print(test_index)\n",
    "    print(train_index.shape,test_index.shape)\n",
    "    x_train=df.loc[train_index, iris.feature_names]\n",
    "    print(x_train.shape)\n",
    "    x_test=df.loc[test_index, iris.feature_names]\n",
    "    y_train=df.loc[train_index,'target']\n",
    "    y_test=df.loc[test_index,'target']\n",
    "#     print(x_train.shape,y_train.shape,x_test.shape,y_test.shape)\n",
    "    clf=DecisionTreeClassifier()\n",
    "    clf.fit(x_train,y_train)\n",
    "    y_pred=clf.predict(x_test)\n",
    "    accuracy_scores.append(round(accuracy_score(y_test, y_pred), 3))\n",
    "accuracy_scores=pd.Series(accuracy_scores)\n",
    "accuracy_scores.plot.box()"
   ]
  },
  {
   "cell_type": "code",
   "execution_count": 31,
   "metadata": {},
   "outputs": [
    {
     "data": {
      "text/plain": [
       "<AxesSubplot:>"
      ]
     },
     "execution_count": 31,
     "metadata": {},
     "output_type": "execute_result"
    },
    {
     "data": {
      "image/png": "[encoded data removed]",
      "text/plain": [
       "<Figure size 432x288 with 1 Axes>"
      ]
     },
     "metadata": {
      "needs_background": "light"
     },
     "output_type": "display_data"
    }
   ],
   "source": [
    "# optimized ShuffleSplit\n",
    "import pandas as pd\n",
    "from sklearn.metrics import accuracy_score\n",
    "from sklearn.model_selection import ShuffleSplit\n",
    "from sklearn.tree import DecisionTreeClassifier\n",
    "from sklearn.model_selection import cross_validate\n",
    "rs=ShuffleSplit(n_splits=100,test_size=0.3)\n",
    "clf=DecisionTreeClassifier()\n",
    "x=df[iris.feature_names]\n",
    "y=df['target']\n",
    "cv_results = cross_validate(clf, x, y, cv=rs, scoring='accuracy')\n",
    "accuracy_scores = pd.Series(cv_results['test_score'])\n",
    "accuracy_scores.plot.box()"
   ]
  },
  {
   "cell_type": "code",
   "execution_count": 32,
   "metadata": {},
   "outputs": [
    {
     "name": "stdout",
     "output_type": "stream",
     "text": [
      "0     0.629630\n",
      "1     0.666667\n",
      "2     0.407407\n",
      "3     0.629630\n",
      "4     0.740741\n",
      "5     0.518519\n",
      "6     0.777778\n",
      "7     0.740741\n",
      "8     0.555556\n",
      "9     0.666667\n",
      "10    0.777778\n",
      "11    0.407407\n",
      "12    0.777778\n",
      "13    0.518519\n",
      "14    0.740741\n",
      "15    0.703704\n",
      "16    0.666667\n",
      "17    0.629630\n",
      "18    0.518519\n",
      "19    0.703704\n",
      "dtype: float64\n",
      "0     0.925926\n",
      "1     0.925926\n",
      "2     0.925926\n",
      "3     0.962963\n",
      "4     0.925926\n",
      "5     0.925926\n",
      "6     0.888889\n",
      "7     0.925926\n",
      "8     0.962963\n",
      "9     0.925926\n",
      "10    0.888889\n",
      "11    0.962963\n",
      "12    0.925926\n",
      "13    1.000000\n",
      "14    0.925926\n",
      "15    0.925926\n",
      "16    0.925926\n",
      "17    0.962963\n",
      "18    0.962963\n",
      "19    0.851852\n",
      "dtype: float64\n",
      "0     0.925926\n",
      "1     0.962963\n",
      "2     0.962963\n",
      "3     0.962963\n",
      "4     0.962963\n",
      "5     0.962963\n",
      "6     0.962963\n",
      "7     1.000000\n",
      "8     1.000000\n",
      "9     1.000000\n",
      "10    1.000000\n",
      "11    1.000000\n",
      "12    1.000000\n",
      "13    1.000000\n",
      "14    0.925926\n",
      "15    0.962963\n",
      "16    0.962963\n",
      "17    0.925926\n",
      "18    0.925926\n",
      "19    0.925926\n",
      "dtype: float64\n",
      "0     1.000000\n",
      "1     0.925926\n",
      "2     0.925926\n",
      "3     0.888889\n",
      "4     1.000000\n",
      "5     1.000000\n",
      "6     0.925926\n",
      "7     0.888889\n",
      "8     1.000000\n",
      "9     0.925926\n",
      "10    0.925926\n",
      "11    0.962963\n",
      "12    0.962963\n",
      "13    0.962963\n",
      "14    0.962963\n",
      "15    0.962963\n",
      "16    1.000000\n",
      "17    0.925926\n",
      "18    0.888889\n",
      "19    0.962963\n",
      "dtype: float64\n"
     ]
    }
   ],
   "source": [
    "# Gaining more accuracy\n",
    "from sklearn.model_selection import train_test_split\n",
    "from sklearn.model_selection import ShuffleSplit\n",
    "from sklearn.tree import DecisionTreeClassifier\n",
    "from sklearn.model_selection import cross_validate\n",
    "from sklearn.metrics import accuracy_score\n",
    "df_train,df_test=train_test_split(df, test_size=0.3)\n",
    "x_train=df_train[iris.feature_names]\n",
    "x_test=df_test[iris.feature_names]\n",
    "y_train=df_train['target']\n",
    "y_test=df_test['target']\n",
    "\n",
    "for max_depth in [1,2,3,4]:\n",
    "    clf=DecisionTreeClassifier(max_depth=max_depth)\n",
    "    rs=ShuffleSplit(n_splits=20, test_size=0.25)\n",
    "    cv_results=cross_validate(clf,x_train,y_train, cv=rs,scoring='accuracy')\n",
    "#     print(cv_results)\n",
    "    accuracy_scores=pd.Series(cv_results['test_score'])\n",
    "    print(accuracy_scores)\n",
    "    "
   ]
  },
  {
   "cell_type": "code",
   "execution_count": 33,
   "metadata": {},
   "outputs": [
    {
     "name": "stdout",
     "output_type": "stream",
     "text": [
      "test on training data\n",
      "0     1.000000\n",
      "1     0.925926\n",
      "2     0.925926\n",
      "3     0.888889\n",
      "4     1.000000\n",
      "5     1.000000\n",
      "6     0.925926\n",
      "7     0.888889\n",
      "8     1.000000\n",
      "9     0.925926\n",
      "10    0.925926\n",
      "11    0.962963\n",
      "12    0.962963\n",
      "13    0.962963\n",
      "14    0.962963\n",
      "15    0.962963\n",
      "16    1.000000\n",
      "17    0.925926\n",
      "18    0.888889\n",
      "19    0.962963\n",
      "dtype: float64\n",
      "test on entire data\n",
      "0     0.955556\n",
      "1     0.933333\n",
      "2     0.933333\n",
      "3     0.977778\n",
      "4     0.955556\n",
      "5     0.955556\n",
      "6     0.977778\n",
      "7     0.977778\n",
      "8     0.977778\n",
      "9     0.933333\n",
      "10    0.955556\n",
      "11    0.933333\n",
      "12    0.933333\n",
      "13    0.955556\n",
      "14    0.977778\n",
      "15    0.955556\n",
      "16    0.933333\n",
      "17    0.977778\n",
      "18    0.933333\n",
      "19    0.977778\n",
      "dtype: float64\n"
     ]
    },
    {
     "data": {
      "text/plain": [
       "<AxesSubplot:>"
      ]
     },
     "execution_count": 33,
     "metadata": {},
     "output_type": "execute_result"
    },
    {
     "data": {
      "image/png": "[encoded data removed]",
      "text/plain": [
       "<Figure size 432x288 with 1 Axes>"
      ]
     },
     "metadata": {
      "needs_background": "light"
     },
     "output_type": "display_data"
    }
   ],
   "source": [
    "# testing with improved accuracy\n",
    "from sklearn.tree import DecisionTreeClassifier\n",
    "from sklearn.model_selection import train_test_split\n",
    "from sklearn.model_selection import cross_validate\n",
    "from sklearn.model_selection import ShuffleSplit\n",
    "from sklearn.metrics import accuracy_score\n",
    "clf=DecisionTreeClassifier(max_depth=4)\n",
    "rs=ShuffleSplit(n_splits=20,test_size=0.3)\n",
    "df_train,df_test=train_test_split(df,test_size=0.3)\n",
    "# training data & analysis\n",
    "x_train=df_train[iris.feature_names]\n",
    "y_train=df_train['target']\n",
    "cv_results=cross_validate(clf,x_train,y_train,cv=rs,scoring='accuracy')\n",
    "# print(cv_results)\n",
    "accuarcy_scores=pd.Series(cv_results['test_score'])\n",
    "print('test on training data')\n",
    "print(accuracy_scores)\n",
    "# fitting & output accuracy the decision tree\n",
    "x=df[iris.feature_names]\n",
    "y=df['target']\n",
    "results=cross_validate(clf,x,y,cv=rs,scoring='accuracy')\n",
    "print('test on entire data')\n",
    "result=pd.Series(results['test_score'])\n",
    "print(result)\n",
    "result.plot.box()"
   ]
  },
  {
   "cell_type": "code",
   "execution_count": 34,
   "metadata": {},
   "outputs": [],
   "source": [
    "# feature extraction"
   ]
  },
  {
   "cell_type": "code",
   "execution_count": 35,
   "metadata": {},
   "outputs": [
    {
     "name": "stderr",
     "output_type": "stream",
     "text": [
      "<ipython-input-35-aea42a2a824b>:37: UserWarning: Matplotlib is currently using module://ipykernel.pylab.backend_inline, which is a non-GUI backend, so cannot show the figure.\n",
      "  fig.show()\n"
     ]
    },
    {
     "data": {
      "image/png": "[encoded data removed]",
      "text/plain": [
       "<Figure size 1152x432 with 2 Axes>"
      ]
     },
     "metadata": {
      "needs_background": "light"
     },
     "output_type": "display_data"
    }
   ],
   "source": [
    "from sklearn.tree import DecisionTreeClassifier\n",
    "from sklearn.model_selection import train_test_split\n",
    "from sklearn.model_selection import cross_validate\n",
    "from sklearn.model_selection import ShuffleSplit\n",
    "from sklearn.metrics import accuracy_score\n",
    "import matplotlib.pyplot as plt\n",
    "feature_orig=iris.feature_names\n",
    "feature_new=['petal length x width (cm)', 'sepal length x width (cm)']\n",
    "# creating new features\n",
    "df['petal length x width (cm)']=df['petal length (cm)']*df['petal width (cm)']\n",
    "df['sepal length x width (cm)']=df['sepal length (cm)']*df['sepal width (cm)']\n",
    "accuracy_score_orig=[]\n",
    "accuracy_score_new=[]\n",
    "# testing with new features\n",
    "clf=DecisionTreeClassifier(max_depth=4)\n",
    "rs=ShuffleSplit(n_splits=50,test_size=0.3)\n",
    "x=df[iris.feature_names]\n",
    "y=df['target']\n",
    "x_new=df[feature_new]\n",
    "y_new=df['target']\n",
    "val_orig=pd.Series(cross_validate(clf,x,y,cv=rs)['test_score'])\n",
    "val2=cross_validate(clf,x_new,y_new,cv=rs)['test_score']\n",
    "val_new=pd.Series(val2)\n",
    "fig, axs = plt.subplots(1, 2, figsize=(16, 6), sharey=True);\n",
    "val_orig.plot(\n",
    "#     subplot=True,\n",
    "    kind='box',\n",
    "    grid=True,\n",
    "    ax=axs[0]\n",
    ")\n",
    "val_new.plot(\n",
    "#     subplot=True,\n",
    "    kind='box',\n",
    "    grid=True,\n",
    "    ax=axs[1]\n",
    ")\n",
    "fig.show()\n"
   ]
  },
  {
   "cell_type": "code",
   "execution_count": 38,
   "metadata": {},
   "outputs": [
    {
     "name": "stderr",
     "output_type": "stream",
     "text": [
      "<ipython-input-38-f05e2b387983>:37: UserWarning: Matplotlib is currently using module://ipykernel.pylab.backend_inline, which is a non-GUI backend, so cannot show the figure.\n",
      "  fig.show()\n"
     ]
    },
    {
     "data": {
      "image/png": "[encoded data removed]",
      "text/plain": [
       "<Figure size 720x360 with 1 Axes>"
      ]
     },
     "metadata": {
      "needs_background": "light"
     },
     "output_type": "display_data"
    }
   ],
   "source": [
    "# height prediction\n",
    "import numpy as np\n",
    "import pandas as pd\n",
    "import matplotlib.pyplot as plt\n",
    "from sklearn.model_selection import train_test_split\n",
    "from sklearn.tree import export_text\n",
    "from sklearn.tree import DecisionTreeRegressor\n",
    "n=200\n",
    "height_pop1_f=np.random.normal(loc=155,scale=4,size=n)\n",
    "height_pop1_m=np.random.normal(loc=175,scale=5,size=n)\n",
    "height_pop2_f=np.random.normal(loc=165,scale=15,size=n)\n",
    "height_pop2_m=np.random.normal(loc=185,scale=12,size=n)\n",
    "height_f=np.concatenate([height_pop1_f,height_pop2_f])\n",
    "height_m=np.concatenate([height_pop1_m,height_pop2_m])\n",
    "df_height=pd.DataFrame(\n",
    "    {\n",
    "        'Gender':[1 for i in range(height_f.size)]+[2 for i in range(height_m.size)],\n",
    "        'Height': np.concatenate((height_f,height_m))\n",
    "    }\n",
    ")\n",
    "fig, ax=plt.subplots(1,1,figsize=(10,5))\n",
    "df_height[df_height['Gender']==1]['Height'].plot(\n",
    "    kind='hist',\n",
    "    ax=ax,\n",
    "    label='Female',\n",
    "    bins=10,\n",
    "    alpha=0.7\n",
    ")\n",
    "df_height[df_height['Gender']==2]['Height'].plot(\n",
    "    kind='hist',\n",
    "    ax=ax,\n",
    "    label='male',\n",
    "    bins=10,\n",
    "    alpha=0.7\n",
    ")\n",
    "ax.legend()\n",
    "fig.show()\n",
    "df_height.groupby('Gender')[['Height']].agg([np.mean, np.median]).round(1)\n",
    "df_train,df_test=train_test_split(df_height, test_size=0.3)\n",
    "x_train,y_train=np.array(df_train['Gender']),np.array(df_train['Height'])\n",
    "x_test,y_test=np.array(df_test['Gender']),np.array(df_test['Height'])\n"
   ]
  },
  {
   "cell_type": "code",
   "execution_count": 40,
   "metadata": {},
   "outputs": [
    {
     "name": "stdout",
     "output_type": "stream",
     "text": [
      "criterion=mse:\n",
      "\n",
      "|--- Gender <= 1.5\n",
      "|   |--- value: [159.4]\n",
      "|--- Gender >  1.5\n",
      "|   |--- value: [180.0]\n",
      "\n",
      "MSE: 142.77282219853538\n",
      "MAE: 8.738612751767858\n",
      "criterion=mae:\n",
      "\n",
      "|--- Gender <= 1.5\n",
      "|   |--- value: [156.1]\n",
      "|--- Gender >  1.5\n",
      "|   |--- value: [177.4]\n",
      "\n",
      "MSE: 161.34846467035308\n",
      "MAE: 8.91388435021785\n"
     ]
    }
   ],
   "source": [
    "from sklearn.metrics import mean_squared_error, mean_absolute_error\n",
    "for criterion in ['mse','mae']:\n",
    "    rgrsr=DecisionTreeRegressor(criterion=criterion)\n",
    "    rgrsr.fit(x_train.reshape(-1,1),y_train.reshape(-1,1))\n",
    "    print(f'criterion={criterion}:\\n')\n",
    "    print(export_text(rgrsr, feature_names=['Gender'], spacing=3,decimals=1))\n",
    "    y_test_pred = rgrsr.predict(x_test.reshape(-1,1))\n",
    "    print('MSE:', mean_squared_error(y_test, y_test_pred))\n",
    "    print('MAE:', mean_absolute_error(y_test, y_test_pred))"
   ]
  },
  {
   "cell_type": "code",
   "execution_count": null,
   "metadata": {},
   "outputs": [],
   "source": []
  }
 ],
 "metadata": {
  "kernelspec": {
   "display_name": "Python 3",
   "language": "python",
   "name": "python3"
  },
  "language_info": {
   "codemirror_mode": {
    "name": "ipython",
    "version": 3
   },
   "file_extension": ".py",
   "mimetype": "text/x-python",
   "name": "python",
   "nbconvert_exporter": "python",
   "pygments_lexer": "ipython3",
   "version": "3.8.5"
  }
 },
 "nbformat": 4,
 "nbformat_minor": 4
}
